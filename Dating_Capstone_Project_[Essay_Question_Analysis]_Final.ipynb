{
  "nbformat": 4,
  "nbformat_minor": 0,
  "metadata": {
    "kernelspec": {
      "display_name": "Python 3",
      "language": "python",
      "name": "python3"
    },
    "language_info": {
      "codemirror_mode": {
        "name": "ipython",
        "version": 3
      },
      "file_extension": ".py",
      "mimetype": "text/x-python",
      "name": "python",
      "nbconvert_exporter": "python",
      "pygments_lexer": "ipython3",
      "version": "3.7.6"
    },
    "colab": {
      "name": "Dating_Capstone_Project [Essay Question Analysis]-Final.ipynb",
      "provenance": [],
      "collapsed_sections": [],
      "toc_visible": true,
      "include_colab_link": true
    }
  },
  "cells": [
    {
      "cell_type": "markdown",
      "metadata": {
        "id": "view-in-github",
        "colab_type": "text"
      },
      "source": [
        "<a href=\"https://colab.research.google.com/github/siddley1001/CodeCademy-Capstone-Project/blob/master/Dating_Capstone_Project_%5BEssay_Question_Analysis%5D_Final.ipynb\" target=\"_parent\"><img src=\"https://colab.research.google.com/assets/colab-badge.svg\" alt=\"Open In Colab\"/></a>"
      ]
    },
    {
      "cell_type": "markdown",
      "metadata": {
        "id": "e4aempOngCcK"
      },
      "source": [
        "## Import relevant libraries"
      ]
    },
    {
      "cell_type": "code",
      "metadata": {
        "id": "qRwBmnVrgCcN"
      },
      "source": [
        "import pandas as pd\n",
        "import matplotlib.pyplot as plt\n",
        "import seaborn as sns\n",
        "import numpy as np\n",
        "import spacy\n",
        "\n",
        "from datetime import datetime\n",
        "from sortedcontainers import SortedDict\n",
        "from progressbar import ProgressBar\n",
        "\n",
        "import re\n",
        "\n",
        "%matplotlib inline"
      ],
      "execution_count": 1,
      "outputs": []
    },
    {
      "cell_type": "code",
      "metadata": {
        "id": "JRB-0tmvai5E",
        "colab": {
          "base_uri": "https://localhost:8080/"
        },
        "outputId": "a5e13bba-36b0-41ef-fb8f-ed4a4271a00f"
      },
      "source": [
        "from google.colab import drive\n",
        "drive.mount('/content/drive')"
      ],
      "execution_count": 2,
      "outputs": [
        {
          "output_type": "stream",
          "text": [
            "Drive already mounted at /content/drive; to attempt to forcibly remount, call drive.mount(\"/content/drive\", force_remount=True).\n"
          ],
          "name": "stdout"
        }
      ]
    },
    {
      "cell_type": "markdown",
      "metadata": {
        "id": "im2CNuCATjLV"
      },
      "source": [
        "# Purpose: Formulate Machine Learning Questions\n",
        "1.  **Predict Gender** of a respondent based on features\n",
        "2. **Predict Age** based on features\n",
        "    - Helps ask certain questions users are more likely to answer based on age"
      ]
    },
    {
      "cell_type": "code",
      "metadata": {
        "id": "T739jg2ugCch"
      },
      "source": [
        "#Make a copy of the dataset so we have all the original information as we manipulate columns and values\n",
        "PATH = '/content/drive/My Drive/Dating Capstone Project/'\n",
        "df = pd.read_csv(PATH + 'data/profiles.csv')\n",
        "df_copy = df.copy()"
      ],
      "execution_count": 3,
      "outputs": []
    },
    {
      "cell_type": "markdown",
      "metadata": {
        "id": "Vu4T03-YgCcX"
      },
      "source": [
        "## Helper Functions"
      ]
    },
    {
      "cell_type": "code",
      "metadata": {
        "id": "P3mBVnJAgCcY"
      },
      "source": [
        "def map_colors(df, keyword):\n",
        "    '''Creates a color dictionary based on keyword in dataframe features'''\n",
        "    color_map = {}\n",
        "    \n",
        "    for feature in df.columns:\n",
        "        if keyword in feature:\n",
        "            color_map[feature] = '#62eb96' #emerald green for essay colors\n",
        "        else:\n",
        "            color_map[feature] = '#eb62b7' #pink otherwise\n",
        "    return color_map\n",
        "\n",
        "def draw_missing_data_table(df):\n",
        "    ''' Returns a table of % missing from each feature column in the input dataframe'''\n",
        "    total = df.isnull().sum().sort_values(ascending = False)\n",
        "    percent = (df.isnull().sum()/ df.isnull().count()).sort_values(ascending = False)\n",
        "    missing_data = pd.concat([total, percent], axis = 1, keys = ['Total','Percent Missing'])\n",
        "    final_missing = missing_data.reset_index().rename(columns = \n",
        "                                                      {'index': 'feature', \n",
        "                                                       'Total': 'total null', \n",
        "                                                       'Percent Missing': '% of null values in the column'})\n",
        "    return final_missing"
      ],
      "execution_count": 4,
      "outputs": []
    },
    {
      "cell_type": "code",
      "metadata": {
        "id": "snCJlNRE06R6"
      },
      "source": [
        "p_bar = ProgressBar()\n",
        "\n",
        "br_regex = '<br />'\n",
        "next_line_regex = '\\\\n'\n",
        "\n",
        "def re_replace(df, essay, expression):\n",
        "    response_len = range(len(self.df[self.essay]))\n",
        "\n",
        "    for index in response_len:\n",
        "        if pd.isnull(self.df.loc[index, self.essay]):\n",
        "            self.df.loc[index, essay] = 'Did not respond'\n",
        "        else:\n",
        "            self.df.loc[index, self.essay].replace(expression, ' ')\n",
        "\n",
        "\n",
        "# class Text:\n",
        "#     def __init__(self, df, essay):\n",
        "#         self.set_dfessay(df, essay)\n",
        "\n",
        "#     def set_dfessay(self, df, essay):\n",
        "#         self.df = df\n",
        "#         self.essay = essay\n",
        "\n",
        "#     def re_replace(self, expression):\n",
        "#         response_len = range(len(self.df[self.essay]))\n",
        "\n",
        "#         for index in response_len:\n",
        "#             if pd.isnull(self.df.loc[index, self.essay]):\n",
        "#                 self.df.loc[index, essay] = 'Did not respond'\n",
        "#             else:\n",
        "#                 self.df.loc[index, self.essay].replace(expression, ' ')\n",
        "\n",
        "#         self.set_dfessay(self.df, self.essay)\n",
        "\n",
        "    def ner_search(self):\n",
        "        dictionary = {}\n",
        "        for index in p_bar(range(len(self.df[self.essay]))):\n",
        "            doc = nlp(self.df.loc[index, self.essay])\n",
        "            ent_list = [ent.label_ for ent in doc.ents]\n",
        "            dictionary[index] = ent_list\n",
        "        return dictionary"
      ],
      "execution_count": 5,
      "outputs": []
    },
    {
      "cell_type": "code",
      "metadata": {
        "id": "zUv2SdOZgCcb"
      },
      "source": [
        "def countFreq(list):\n",
        "    freq_dic = {}\n",
        "    for hour in list:\n",
        "        freq_dic[hour] = list.count(hour)\n",
        "    return(freq_dic)"
      ],
      "execution_count": 6,
      "outputs": []
    },
    {
      "cell_type": "markdown",
      "metadata": {
        "id": "bnHMYhqAgCce"
      },
      "source": [
        "## Load data from CSV"
      ]
    },
    {
      "cell_type": "markdown",
      "metadata": {
        "id": "2JmNR6uLgCcl"
      },
      "source": [
        "## Simplify Status Feature"
      ]
    },
    {
      "cell_type": "code",
      "metadata": {
        "scrolled": true,
        "id": "wvsQYmkmgCcl",
        "colab": {
          "base_uri": "https://localhost:8080/"
        },
        "outputId": "e4e54a4e-0e6e-45bb-fa83-4c5d092c088f"
      },
      "source": [
        "df_copy.status.value_counts()"
      ],
      "execution_count": 7,
      "outputs": [
        {
          "output_type": "execute_result",
          "data": {
            "text/plain": [
              "single            55697\n",
              "seeing someone     2064\n",
              "available          1865\n",
              "married             310\n",
              "unknown              10\n",
              "Name: status, dtype: int64"
            ]
          },
          "metadata": {
            "tags": []
          },
          "execution_count": 7
        }
      ]
    },
    {
      "cell_type": "markdown",
      "metadata": {
        "id": "LH6UhK1zgCco"
      },
      "source": [
        "**Summary**: To be expected, a majority of the status values are \"single\"\n",
        "- Curious to see why someone would self-label as **'seeing someone' or 'married'** while on OKCupid"
      ]
    },
    {
      "cell_type": "code",
      "metadata": {
        "id": "nqPmNUltsWL2"
      },
      "source": [
        "simplify_status = {'single': 1,\n",
        "                   'seeing someone': 0,\n",
        "                   'available': 1,\n",
        "                   'married': 0,\n",
        "                   'unknown': 1}\n",
        "df_copy['status'] = df_copy['status'].map(simplify_status).astype(bool)"
      ],
      "execution_count": 8,
      "outputs": []
    },
    {
      "cell_type": "code",
      "metadata": {
        "colab": {
          "base_uri": "https://localhost:8080/"
        },
        "id": "MxRlIVumzNeG",
        "outputId": "4d49adfa-002a-4483-9bec-b628c2567cc9"
      },
      "source": [
        "df_copy.status.value_counts()"
      ],
      "execution_count": 9,
      "outputs": [
        {
          "output_type": "execute_result",
          "data": {
            "text/plain": [
              "True     57572\n",
              "False     2374\n",
              "Name: status, dtype: int64"
            ]
          },
          "metadata": {
            "tags": []
          },
          "execution_count": 9
        }
      ]
    },
    {
      "cell_type": "markdown",
      "metadata": {
        "id": "Pmy8bZMWgCcp"
      },
      "source": [
        "### Create seperate dataframes for essay and non-essay columns"
      ]
    },
    {
      "cell_type": "code",
      "metadata": {
        "id": "wqXZw2bfgCcq"
      },
      "source": [
        "essay_cols = [str(x) for x in df_copy.columns if 'essay' in x]\n",
        "nonessay_cols = [str(x) for x in df_copy.columns if 'essay' not in x]"
      ],
      "execution_count": 10,
      "outputs": []
    },
    {
      "cell_type": "code",
      "metadata": {
        "id": "9BtS7m-5gCcv"
      },
      "source": [
        "essay_df = df_copy[essay_cols]\n",
        "nonessay_df = df_copy[nonessay_cols]"
      ],
      "execution_count": 11,
      "outputs": []
    },
    {
      "cell_type": "code",
      "metadata": {
        "id": "nx2QOQmXgCc4"
      },
      "source": [
        "total_respondants = df_copy.shape[0]"
      ],
      "execution_count": 12,
      "outputs": []
    },
    {
      "cell_type": "markdown",
      "metadata": {
        "id": "as7qkt80gCc6"
      },
      "source": [
        "**Summary**: Almost 60,000 observations!"
      ]
    },
    {
      "cell_type": "code",
      "metadata": {
        "scrolled": false,
        "id": "KRVv4PVRgCc7",
        "colab": {
          "base_uri": "https://localhost:8080/",
          "height": 708
        },
        "outputId": "107d76c0-7a4f-451a-dd14-89d8d0625531"
      },
      "source": [
        "df_copy.head()"
      ],
      "execution_count": 13,
      "outputs": [
        {
          "output_type": "execute_result",
          "data": {
            "text/html": [
              "<div>\n",
              "<style scoped>\n",
              "    .dataframe tbody tr th:only-of-type {\n",
              "        vertical-align: middle;\n",
              "    }\n",
              "\n",
              "    .dataframe tbody tr th {\n",
              "        vertical-align: top;\n",
              "    }\n",
              "\n",
              "    .dataframe thead th {\n",
              "        text-align: right;\n",
              "    }\n",
              "</style>\n",
              "<table border=\"1\" class=\"dataframe\">\n",
              "  <thead>\n",
              "    <tr style=\"text-align: right;\">\n",
              "      <th></th>\n",
              "      <th>age</th>\n",
              "      <th>body_type</th>\n",
              "      <th>diet</th>\n",
              "      <th>drinks</th>\n",
              "      <th>drugs</th>\n",
              "      <th>education</th>\n",
              "      <th>essay0</th>\n",
              "      <th>essay1</th>\n",
              "      <th>essay2</th>\n",
              "      <th>essay3</th>\n",
              "      <th>essay4</th>\n",
              "      <th>essay5</th>\n",
              "      <th>essay6</th>\n",
              "      <th>essay7</th>\n",
              "      <th>essay8</th>\n",
              "      <th>essay9</th>\n",
              "      <th>ethnicity</th>\n",
              "      <th>height</th>\n",
              "      <th>income</th>\n",
              "      <th>job</th>\n",
              "      <th>last_online</th>\n",
              "      <th>location</th>\n",
              "      <th>offspring</th>\n",
              "      <th>orientation</th>\n",
              "      <th>pets</th>\n",
              "      <th>religion</th>\n",
              "      <th>sex</th>\n",
              "      <th>sign</th>\n",
              "      <th>smokes</th>\n",
              "      <th>speaks</th>\n",
              "      <th>status</th>\n",
              "    </tr>\n",
              "  </thead>\n",
              "  <tbody>\n",
              "    <tr>\n",
              "      <th>0</th>\n",
              "      <td>22</td>\n",
              "      <td>a little extra</td>\n",
              "      <td>strictly anything</td>\n",
              "      <td>socially</td>\n",
              "      <td>never</td>\n",
              "      <td>working on college/university</td>\n",
              "      <td>about me:&lt;br /&gt;\\n&lt;br /&gt;\\ni would love to think...</td>\n",
              "      <td>currently working as an international agent fo...</td>\n",
              "      <td>making people laugh.&lt;br /&gt;\\nranting about a go...</td>\n",
              "      <td>the way i look. i am a six foot half asian, ha...</td>\n",
              "      <td>books:&lt;br /&gt;\\nabsurdistan, the republic, of mi...</td>\n",
              "      <td>food.&lt;br /&gt;\\nwater.&lt;br /&gt;\\ncell phone.&lt;br /&gt;\\n...</td>\n",
              "      <td>duality and humorous things</td>\n",
              "      <td>trying to find someone to hang out with. i am ...</td>\n",
              "      <td>i am new to california and looking for someone...</td>\n",
              "      <td>you want to be swept off your feet!&lt;br /&gt;\\nyou...</td>\n",
              "      <td>asian, white</td>\n",
              "      <td>75.0</td>\n",
              "      <td>-1</td>\n",
              "      <td>transportation</td>\n",
              "      <td>2012-06-28-20-30</td>\n",
              "      <td>south san francisco, california</td>\n",
              "      <td>doesn&amp;rsquo;t have kids, but might want them</td>\n",
              "      <td>straight</td>\n",
              "      <td>likes dogs and likes cats</td>\n",
              "      <td>agnosticism and very serious about it</td>\n",
              "      <td>m</td>\n",
              "      <td>gemini</td>\n",
              "      <td>sometimes</td>\n",
              "      <td>english</td>\n",
              "      <td>True</td>\n",
              "    </tr>\n",
              "    <tr>\n",
              "      <th>1</th>\n",
              "      <td>35</td>\n",
              "      <td>average</td>\n",
              "      <td>mostly other</td>\n",
              "      <td>often</td>\n",
              "      <td>sometimes</td>\n",
              "      <td>working on space camp</td>\n",
              "      <td>i am a chef: this is what that means.&lt;br /&gt;\\n1...</td>\n",
              "      <td>dedicating everyday to being an unbelievable b...</td>\n",
              "      <td>being silly. having ridiculous amonts of fun w...</td>\n",
              "      <td>NaN</td>\n",
              "      <td>i am die hard christopher moore fan. i don't r...</td>\n",
              "      <td>delicious porkness in all of its glories.&lt;br /...</td>\n",
              "      <td>NaN</td>\n",
              "      <td>NaN</td>\n",
              "      <td>i am very open and will share just about anyth...</td>\n",
              "      <td>NaN</td>\n",
              "      <td>white</td>\n",
              "      <td>70.0</td>\n",
              "      <td>80000</td>\n",
              "      <td>hospitality / travel</td>\n",
              "      <td>2012-06-29-21-41</td>\n",
              "      <td>oakland, california</td>\n",
              "      <td>doesn&amp;rsquo;t have kids, but might want them</td>\n",
              "      <td>straight</td>\n",
              "      <td>likes dogs and likes cats</td>\n",
              "      <td>agnosticism but not too serious about it</td>\n",
              "      <td>m</td>\n",
              "      <td>cancer</td>\n",
              "      <td>no</td>\n",
              "      <td>english (fluently), spanish (poorly), french (...</td>\n",
              "      <td>True</td>\n",
              "    </tr>\n",
              "    <tr>\n",
              "      <th>2</th>\n",
              "      <td>38</td>\n",
              "      <td>thin</td>\n",
              "      <td>anything</td>\n",
              "      <td>socially</td>\n",
              "      <td>NaN</td>\n",
              "      <td>graduated from masters program</td>\n",
              "      <td>i'm not ashamed of much, but writing public te...</td>\n",
              "      <td>i make nerdy software for musicians, artists, ...</td>\n",
              "      <td>improvising in different contexts. alternating...</td>\n",
              "      <td>my large jaw and large glasses are the physica...</td>\n",
              "      <td>okay this is where the cultural matrix gets so...</td>\n",
              "      <td>movement&lt;br /&gt;\\nconversation&lt;br /&gt;\\ncreation&lt;b...</td>\n",
              "      <td>NaN</td>\n",
              "      <td>viewing. listening. dancing. talking. drinking...</td>\n",
              "      <td>when i was five years old, i was known as \"the...</td>\n",
              "      <td>you are bright, open, intense, silly, ironic, ...</td>\n",
              "      <td>NaN</td>\n",
              "      <td>68.0</td>\n",
              "      <td>-1</td>\n",
              "      <td>NaN</td>\n",
              "      <td>2012-06-27-09-10</td>\n",
              "      <td>san francisco, california</td>\n",
              "      <td>NaN</td>\n",
              "      <td>straight</td>\n",
              "      <td>has cats</td>\n",
              "      <td>NaN</td>\n",
              "      <td>m</td>\n",
              "      <td>pisces but it doesn&amp;rsquo;t matter</td>\n",
              "      <td>no</td>\n",
              "      <td>english, french, c++</td>\n",
              "      <td>True</td>\n",
              "    </tr>\n",
              "    <tr>\n",
              "      <th>3</th>\n",
              "      <td>23</td>\n",
              "      <td>thin</td>\n",
              "      <td>vegetarian</td>\n",
              "      <td>socially</td>\n",
              "      <td>NaN</td>\n",
              "      <td>working on college/university</td>\n",
              "      <td>i work in a library and go to school. . .</td>\n",
              "      <td>reading things written by old dead people</td>\n",
              "      <td>playing synthesizers and organizing books acco...</td>\n",
              "      <td>socially awkward but i do my best</td>\n",
              "      <td>bataille, celine, beckett. . .&lt;br /&gt;\\nlynch, j...</td>\n",
              "      <td>NaN</td>\n",
              "      <td>cats and german philosophy</td>\n",
              "      <td>NaN</td>\n",
              "      <td>NaN</td>\n",
              "      <td>you feel so inclined.</td>\n",
              "      <td>white</td>\n",
              "      <td>71.0</td>\n",
              "      <td>20000</td>\n",
              "      <td>student</td>\n",
              "      <td>2012-06-28-14-22</td>\n",
              "      <td>berkeley, california</td>\n",
              "      <td>doesn&amp;rsquo;t want kids</td>\n",
              "      <td>straight</td>\n",
              "      <td>likes cats</td>\n",
              "      <td>NaN</td>\n",
              "      <td>m</td>\n",
              "      <td>pisces</td>\n",
              "      <td>no</td>\n",
              "      <td>english, german (poorly)</td>\n",
              "      <td>True</td>\n",
              "    </tr>\n",
              "    <tr>\n",
              "      <th>4</th>\n",
              "      <td>29</td>\n",
              "      <td>athletic</td>\n",
              "      <td>NaN</td>\n",
              "      <td>socially</td>\n",
              "      <td>never</td>\n",
              "      <td>graduated from college/university</td>\n",
              "      <td>hey how's it going? currently vague on the pro...</td>\n",
              "      <td>work work work work + play</td>\n",
              "      <td>creating imagery to look at:&lt;br /&gt;\\nhttp://bag...</td>\n",
              "      <td>i smile a lot and my inquisitive nature</td>\n",
              "      <td>music: bands, rappers, musicians&lt;br /&gt;\\nat the...</td>\n",
              "      <td>NaN</td>\n",
              "      <td>NaN</td>\n",
              "      <td>NaN</td>\n",
              "      <td>NaN</td>\n",
              "      <td>NaN</td>\n",
              "      <td>asian, black, other</td>\n",
              "      <td>66.0</td>\n",
              "      <td>-1</td>\n",
              "      <td>artistic / musical / writer</td>\n",
              "      <td>2012-06-27-21-26</td>\n",
              "      <td>san francisco, california</td>\n",
              "      <td>NaN</td>\n",
              "      <td>straight</td>\n",
              "      <td>likes dogs and likes cats</td>\n",
              "      <td>NaN</td>\n",
              "      <td>m</td>\n",
              "      <td>aquarius</td>\n",
              "      <td>no</td>\n",
              "      <td>english</td>\n",
              "      <td>True</td>\n",
              "    </tr>\n",
              "  </tbody>\n",
              "</table>\n",
              "</div>"
            ],
            "text/plain": [
              "   age  ... status\n",
              "0   22  ...   True\n",
              "1   35  ...   True\n",
              "2   38  ...   True\n",
              "3   23  ...   True\n",
              "4   29  ...   True\n",
              "\n",
              "[5 rows x 31 columns]"
            ]
          },
          "metadata": {
            "tags": []
          },
          "execution_count": 13
        }
      ]
    },
    {
      "cell_type": "markdown",
      "metadata": {
        "id": "W8LAanvCP9Q6"
      },
      "source": [
        "#Essay Question Exploration"
      ]
    },
    {
      "cell_type": "markdown",
      "metadata": {
        "id": "XLhA-boFgCgQ"
      },
      "source": [
        "## Question Summary:\n",
        "- essay0 - My self summary\n",
        "- essay1 - What I’m doing with my life\n",
        "- essay2 - I’m really good at\n",
        "- essay3 - The first thing people usually notice about me\n",
        "- essay4 - Favorite books, movies, show, music, and food\n",
        "- essay5 - The six things I could never do without\n",
        "- essay6 - I spend a lot of time thinking about\n",
        "- essay7 - On a typical Friday night I am\n",
        "- essay8 - The most private thing I am willing to admit\n",
        "- essay9 - You should message me if…\n"
      ]
    },
    {
      "cell_type": "markdown",
      "metadata": {
        "id": "VEIo4zr7gCeC"
      },
      "source": [
        "## Missing Essay Responses"
      ]
    },
    {
      "cell_type": "code",
      "metadata": {
        "scrolled": true,
        "id": "lPkff6gZgCeC",
        "colab": {
          "base_uri": "https://localhost:8080/",
          "height": 356
        },
        "outputId": "7177b2da-0149-4899-e8c3-68400579159b"
      },
      "source": [
        "essay_missing = draw_missing_data_table(df_copy[essay_cols])\n",
        "essay_missing #sorted by %missing of each essay feature"
      ],
      "execution_count": 14,
      "outputs": [
        {
          "output_type": "execute_result",
          "data": {
            "text/html": [
              "<div>\n",
              "<style scoped>\n",
              "    .dataframe tbody tr th:only-of-type {\n",
              "        vertical-align: middle;\n",
              "    }\n",
              "\n",
              "    .dataframe tbody tr th {\n",
              "        vertical-align: top;\n",
              "    }\n",
              "\n",
              "    .dataframe thead th {\n",
              "        text-align: right;\n",
              "    }\n",
              "</style>\n",
              "<table border=\"1\" class=\"dataframe\">\n",
              "  <thead>\n",
              "    <tr style=\"text-align: right;\">\n",
              "      <th></th>\n",
              "      <th>feature</th>\n",
              "      <th>total null</th>\n",
              "      <th>% of null values in the column</th>\n",
              "    </tr>\n",
              "  </thead>\n",
              "  <tbody>\n",
              "    <tr>\n",
              "      <th>0</th>\n",
              "      <td>essay8</td>\n",
              "      <td>19225</td>\n",
              "      <td>0.320705</td>\n",
              "    </tr>\n",
              "    <tr>\n",
              "      <th>1</th>\n",
              "      <td>essay6</td>\n",
              "      <td>13771</td>\n",
              "      <td>0.229723</td>\n",
              "    </tr>\n",
              "    <tr>\n",
              "      <th>2</th>\n",
              "      <td>essay9</td>\n",
              "      <td>12603</td>\n",
              "      <td>0.210239</td>\n",
              "    </tr>\n",
              "    <tr>\n",
              "      <th>3</th>\n",
              "      <td>essay7</td>\n",
              "      <td>12451</td>\n",
              "      <td>0.207704</td>\n",
              "    </tr>\n",
              "    <tr>\n",
              "      <th>4</th>\n",
              "      <td>essay3</td>\n",
              "      <td>11476</td>\n",
              "      <td>0.191439</td>\n",
              "    </tr>\n",
              "    <tr>\n",
              "      <th>5</th>\n",
              "      <td>essay5</td>\n",
              "      <td>10850</td>\n",
              "      <td>0.180996</td>\n",
              "    </tr>\n",
              "    <tr>\n",
              "      <th>6</th>\n",
              "      <td>essay4</td>\n",
              "      <td>10537</td>\n",
              "      <td>0.175775</td>\n",
              "    </tr>\n",
              "    <tr>\n",
              "      <th>7</th>\n",
              "      <td>essay2</td>\n",
              "      <td>9638</td>\n",
              "      <td>0.160778</td>\n",
              "    </tr>\n",
              "    <tr>\n",
              "      <th>8</th>\n",
              "      <td>essay1</td>\n",
              "      <td>7572</td>\n",
              "      <td>0.126314</td>\n",
              "    </tr>\n",
              "    <tr>\n",
              "      <th>9</th>\n",
              "      <td>essay0</td>\n",
              "      <td>5488</td>\n",
              "      <td>0.091549</td>\n",
              "    </tr>\n",
              "  </tbody>\n",
              "</table>\n",
              "</div>"
            ],
            "text/plain": [
              "  feature  total null  % of null values in the column\n",
              "0  essay8       19225                        0.320705\n",
              "1  essay6       13771                        0.229723\n",
              "2  essay9       12603                        0.210239\n",
              "3  essay7       12451                        0.207704\n",
              "4  essay3       11476                        0.191439\n",
              "5  essay5       10850                        0.180996\n",
              "6  essay4       10537                        0.175775\n",
              "7  essay2        9638                        0.160778\n",
              "8  essay1        7572                        0.126314\n",
              "9  essay0        5488                        0.091549"
            ]
          },
          "metadata": {
            "tags": []
          },
          "execution_count": 14
        }
      ]
    },
    {
      "cell_type": "code",
      "metadata": {
        "scrolled": false,
        "id": "eW9qwV1LgCeF",
        "colab": {
          "base_uri": "https://localhost:8080/",
          "height": 368
        },
        "outputId": "61953bca-c19c-4a78-dd01-1b1810a4490a"
      },
      "source": [
        "plt.figure(figsize = (12,5))\n",
        "plt.title('Missing survey responses by essay question')\n",
        "sns.barplot(x = 'feature', y = 'total null', data = essay_missing)"
      ],
      "execution_count": 15,
      "outputs": [
        {
          "output_type": "execute_result",
          "data": {
            "text/plain": [
              "<matplotlib.axes._subplots.AxesSubplot at 0x7fad813aa1d0>"
            ]
          },
          "metadata": {
            "tags": []
          },
          "execution_count": 15
        },
        {
          "output_type": "display_data",
          "data": {
            "image/png": "[encoded data removed]",
            "text/plain": [
              "<Figure size 864x360 with 1 Axes>"
            ]
          },
          "metadata": {
            "tags": [],
            "needs_background": "light"
          }
        }
      ]
    },
    {
      "cell_type": "markdown",
      "metadata": {
        "id": "T5THsG75gCd_"
      },
      "source": [
        "# Definitions and thoughts -- in an accompanied Google Sheets\n",
        "- body_type:\n",
        "- diet:\n",
        "- drinks:\n",
        "- drugs:\n",
        "- education:\n",
        "\n",
        "- ethnicity:\n",
        "- height:\n",
        "- income:\n",
        "- job:\n",
        "- offspring:\n",
        "- orientation:\n",
        "- pets:\n",
        "- religion:\n",
        "- sex:\n",
        "- sign:\n",
        "- smokes:\n",
        "- speaks:\n",
        "- status:\n"
      ]
    },
    {
      "cell_type": "markdown",
      "metadata": {
        "id": "4MXOka2LgCdD"
      },
      "source": [
        "# Understand Missing Data by Feature"
      ]
    },
    {
      "cell_type": "code",
      "metadata": {
        "id": "6GQiBf_UgCdE",
        "colab": {
          "base_uri": "https://localhost:8080/",
          "height": 1000
        },
        "outputId": "5ab717d9-df3b-4890-b265-127fb89aecd9"
      },
      "source": [
        "missing_features = draw_missing_data_table(df_copy)\n",
        "missing_features"
      ],
      "execution_count": 16,
      "outputs": [
        {
          "output_type": "execute_result",
          "data": {
            "text/html": [
              "<div>\n",
              "<style scoped>\n",
              "    .dataframe tbody tr th:only-of-type {\n",
              "        vertical-align: middle;\n",
              "    }\n",
              "\n",
              "    .dataframe tbody tr th {\n",
              "        vertical-align: top;\n",
              "    }\n",
              "\n",
              "    .dataframe thead th {\n",
              "        text-align: right;\n",
              "    }\n",
              "</style>\n",
              "<table border=\"1\" class=\"dataframe\">\n",
              "  <thead>\n",
              "    <tr style=\"text-align: right;\">\n",
              "      <th></th>\n",
              "      <th>feature</th>\n",
              "      <th>total null</th>\n",
              "      <th>% of null values in the column</th>\n",
              "    </tr>\n",
              "  </thead>\n",
              "  <tbody>\n",
              "    <tr>\n",
              "      <th>0</th>\n",
              "      <td>offspring</td>\n",
              "      <td>35561</td>\n",
              "      <td>0.593217</td>\n",
              "    </tr>\n",
              "    <tr>\n",
              "      <th>1</th>\n",
              "      <td>diet</td>\n",
              "      <td>24395</td>\n",
              "      <td>0.406950</td>\n",
              "    </tr>\n",
              "    <tr>\n",
              "      <th>2</th>\n",
              "      <td>religion</td>\n",
              "      <td>20226</td>\n",
              "      <td>0.337404</td>\n",
              "    </tr>\n",
              "    <tr>\n",
              "      <th>3</th>\n",
              "      <td>pets</td>\n",
              "      <td>19921</td>\n",
              "      <td>0.332316</td>\n",
              "    </tr>\n",
              "    <tr>\n",
              "      <th>4</th>\n",
              "      <td>essay8</td>\n",
              "      <td>19225</td>\n",
              "      <td>0.320705</td>\n",
              "    </tr>\n",
              "    <tr>\n",
              "      <th>5</th>\n",
              "      <td>drugs</td>\n",
              "      <td>14080</td>\n",
              "      <td>0.234878</td>\n",
              "    </tr>\n",
              "    <tr>\n",
              "      <th>6</th>\n",
              "      <td>essay6</td>\n",
              "      <td>13771</td>\n",
              "      <td>0.229723</td>\n",
              "    </tr>\n",
              "    <tr>\n",
              "      <th>7</th>\n",
              "      <td>essay9</td>\n",
              "      <td>12603</td>\n",
              "      <td>0.210239</td>\n",
              "    </tr>\n",
              "    <tr>\n",
              "      <th>8</th>\n",
              "      <td>essay7</td>\n",
              "      <td>12451</td>\n",
              "      <td>0.207704</td>\n",
              "    </tr>\n",
              "    <tr>\n",
              "      <th>9</th>\n",
              "      <td>essay3</td>\n",
              "      <td>11476</td>\n",
              "      <td>0.191439</td>\n",
              "    </tr>\n",
              "    <tr>\n",
              "      <th>10</th>\n",
              "      <td>sign</td>\n",
              "      <td>11056</td>\n",
              "      <td>0.184433</td>\n",
              "    </tr>\n",
              "    <tr>\n",
              "      <th>11</th>\n",
              "      <td>essay5</td>\n",
              "      <td>10850</td>\n",
              "      <td>0.180996</td>\n",
              "    </tr>\n",
              "    <tr>\n",
              "      <th>12</th>\n",
              "      <td>essay4</td>\n",
              "      <td>10537</td>\n",
              "      <td>0.175775</td>\n",
              "    </tr>\n",
              "    <tr>\n",
              "      <th>13</th>\n",
              "      <td>essay2</td>\n",
              "      <td>9638</td>\n",
              "      <td>0.160778</td>\n",
              "    </tr>\n",
              "    <tr>\n",
              "      <th>14</th>\n",
              "      <td>job</td>\n",
              "      <td>8198</td>\n",
              "      <td>0.136756</td>\n",
              "    </tr>\n",
              "    <tr>\n",
              "      <th>15</th>\n",
              "      <td>essay1</td>\n",
              "      <td>7572</td>\n",
              "      <td>0.126314</td>\n",
              "    </tr>\n",
              "    <tr>\n",
              "      <th>16</th>\n",
              "      <td>education</td>\n",
              "      <td>6628</td>\n",
              "      <td>0.110566</td>\n",
              "    </tr>\n",
              "    <tr>\n",
              "      <th>17</th>\n",
              "      <td>ethnicity</td>\n",
              "      <td>5680</td>\n",
              "      <td>0.094752</td>\n",
              "    </tr>\n",
              "    <tr>\n",
              "      <th>18</th>\n",
              "      <td>smokes</td>\n",
              "      <td>5512</td>\n",
              "      <td>0.091949</td>\n",
              "    </tr>\n",
              "    <tr>\n",
              "      <th>19</th>\n",
              "      <td>essay0</td>\n",
              "      <td>5488</td>\n",
              "      <td>0.091549</td>\n",
              "    </tr>\n",
              "    <tr>\n",
              "      <th>20</th>\n",
              "      <td>body_type</td>\n",
              "      <td>5296</td>\n",
              "      <td>0.088346</td>\n",
              "    </tr>\n",
              "    <tr>\n",
              "      <th>21</th>\n",
              "      <td>drinks</td>\n",
              "      <td>2985</td>\n",
              "      <td>0.049795</td>\n",
              "    </tr>\n",
              "    <tr>\n",
              "      <th>22</th>\n",
              "      <td>speaks</td>\n",
              "      <td>50</td>\n",
              "      <td>0.000834</td>\n",
              "    </tr>\n",
              "    <tr>\n",
              "      <th>23</th>\n",
              "      <td>height</td>\n",
              "      <td>3</td>\n",
              "      <td>0.000050</td>\n",
              "    </tr>\n",
              "    <tr>\n",
              "      <th>24</th>\n",
              "      <td>status</td>\n",
              "      <td>0</td>\n",
              "      <td>0.000000</td>\n",
              "    </tr>\n",
              "    <tr>\n",
              "      <th>25</th>\n",
              "      <td>income</td>\n",
              "      <td>0</td>\n",
              "      <td>0.000000</td>\n",
              "    </tr>\n",
              "    <tr>\n",
              "      <th>26</th>\n",
              "      <td>last_online</td>\n",
              "      <td>0</td>\n",
              "      <td>0.000000</td>\n",
              "    </tr>\n",
              "    <tr>\n",
              "      <th>27</th>\n",
              "      <td>location</td>\n",
              "      <td>0</td>\n",
              "      <td>0.000000</td>\n",
              "    </tr>\n",
              "    <tr>\n",
              "      <th>28</th>\n",
              "      <td>orientation</td>\n",
              "      <td>0</td>\n",
              "      <td>0.000000</td>\n",
              "    </tr>\n",
              "    <tr>\n",
              "      <th>29</th>\n",
              "      <td>sex</td>\n",
              "      <td>0</td>\n",
              "      <td>0.000000</td>\n",
              "    </tr>\n",
              "    <tr>\n",
              "      <th>30</th>\n",
              "      <td>age</td>\n",
              "      <td>0</td>\n",
              "      <td>0.000000</td>\n",
              "    </tr>\n",
              "  </tbody>\n",
              "</table>\n",
              "</div>"
            ],
            "text/plain": [
              "        feature  total null  % of null values in the column\n",
              "0     offspring       35561                        0.593217\n",
              "1          diet       24395                        0.406950\n",
              "2      religion       20226                        0.337404\n",
              "3          pets       19921                        0.332316\n",
              "4        essay8       19225                        0.320705\n",
              "5         drugs       14080                        0.234878\n",
              "6        essay6       13771                        0.229723\n",
              "7        essay9       12603                        0.210239\n",
              "8        essay7       12451                        0.207704\n",
              "9        essay3       11476                        0.191439\n",
              "10         sign       11056                        0.184433\n",
              "11       essay5       10850                        0.180996\n",
              "12       essay4       10537                        0.175775\n",
              "13       essay2        9638                        0.160778\n",
              "14          job        8198                        0.136756\n",
              "15       essay1        7572                        0.126314\n",
              "16    education        6628                        0.110566\n",
              "17    ethnicity        5680                        0.094752\n",
              "18       smokes        5512                        0.091949\n",
              "19       essay0        5488                        0.091549\n",
              "20    body_type        5296                        0.088346\n",
              "21       drinks        2985                        0.049795\n",
              "22       speaks          50                        0.000834\n",
              "23       height           3                        0.000050\n",
              "24       status           0                        0.000000\n",
              "25       income           0                        0.000000\n",
              "26  last_online           0                        0.000000\n",
              "27     location           0                        0.000000\n",
              "28  orientation           0                        0.000000\n",
              "29          sex           0                        0.000000\n",
              "30          age           0                        0.000000"
            ]
          },
          "metadata": {
            "tags": []
          },
          "execution_count": 16
        }
      ]
    },
    {
      "cell_type": "markdown",
      "metadata": {
        "id": "8SM9SAIagCdH"
      },
      "source": [
        "### Visualization of *missing data* by feature"
      ]
    },
    {
      "cell_type": "code",
      "metadata": {
        "scrolled": false,
        "id": "Pvkh6pLjgCdH"
      },
      "source": [
        "essay_color_map = map_colors(df_copy, 'essay')"
      ],
      "execution_count": 17,
      "outputs": []
    },
    {
      "cell_type": "code",
      "metadata": {
        "id": "v7iurjLOgCdL",
        "colab": {
          "base_uri": "https://localhost:8080/",
          "height": 412
        },
        "outputId": "a1f771be-a1e6-4712-d983-bba1360894e2"
      },
      "source": [
        "plt.figure(figsize = (12,5))\n",
        "plt.title('Number of NULL instances by Feature in the Raw Data')\n",
        "plt.xticks(rotation = 90)\n",
        "sns.barplot(x = 'feature', y = 'total null', data = missing_features, palette= essay_color_map)"
      ],
      "execution_count": 18,
      "outputs": [
        {
          "output_type": "execute_result",
          "data": {
            "text/plain": [
              "<matplotlib.axes._subplots.AxesSubplot at 0x7fad80a66d90>"
            ]
          },
          "metadata": {
            "tags": []
          },
          "execution_count": 18
        },
        {
          "output_type": "display_data",
          "data": {
            "image/png": "[encoded data removed]",
            "text/plain": [
              "<Figure size 864x360 with 1 Axes>"
            ]
          },
          "metadata": {
            "tags": [],
            "needs_background": "light"
          }
        }
      ]
    },
    {
      "cell_type": "markdown",
      "metadata": {
        "id": "bjYdpIJrgCdS"
      },
      "source": [
        "## Numerical Features"
      ]
    },
    {
      "cell_type": "markdown",
      "metadata": {
        "id": "7B4WaXPpgCdT"
      },
      "source": [
        "### Correlation Matrix\n",
        "Age, Height, Income"
      ]
    },
    {
      "cell_type": "code",
      "metadata": {
        "scrolled": true,
        "id": "pispwnfxgCdT",
        "colab": {
          "base_uri": "https://localhost:8080/",
          "height": 321
        },
        "outputId": "3745fd78-42c4-4895-fbfa-d9891a2fa905"
      },
      "source": [
        "corr = df_copy.corr()\n",
        "ax = sns.heatmap(corr, vmin = -1, vmax= 1, center = 0, cmap = sns.diverging_palette(20,220, n=200), square = True)\n",
        "ax.set_xticklabels(\n",
        "    ax.get_xticklabels(), rotation= 45, horizontalalignment = 'right'\n",
        ")\n",
        "plt.title('Correlation of Numerical Features')"
      ],
      "execution_count": 19,
      "outputs": [
        {
          "output_type": "execute_result",
          "data": {
            "text/plain": [
              "Text(0.5, 1.0, 'Correlation of Numerical Features')"
            ]
          },
          "metadata": {
            "tags": []
          },
          "execution_count": 19
        },
        {
          "output_type": "display_data",
          "data": {
            "image/png": "[encoded data removed]",
            "text/plain": [
              "<Figure size 432x288 with 2 Axes>"
            ]
          },
          "metadata": {
            "tags": [],
            "needs_background": "light"
          }
        }
      ]
    },
    {
      "cell_type": "markdown",
      "metadata": {
        "id": "8Tf-v9nOgCdW"
      },
      "source": [
        "**Summary**: We can see that there is a *faint* correlation (~.25) between **height** and **income**"
      ]
    },
    {
      "cell_type": "markdown",
      "metadata": {
        "id": "L4R0OGvPgCdX"
      },
      "source": [
        "### Age"
      ]
    },
    {
      "cell_type": "code",
      "metadata": {
        "scrolled": false,
        "id": "Js9ovWGDgCdX",
        "colab": {
          "base_uri": "https://localhost:8080/"
        },
        "outputId": "bea32b4a-883f-40cd-affb-2aaa5f62c9ad"
      },
      "source": [
        "df.age.describe()"
      ],
      "execution_count": 20,
      "outputs": [
        {
          "output_type": "execute_result",
          "data": {
            "text/plain": [
              "count    59946.000000\n",
              "mean        32.340290\n",
              "std          9.452779\n",
              "min         18.000000\n",
              "25%         26.000000\n",
              "50%         30.000000\n",
              "75%         37.000000\n",
              "max        110.000000\n",
              "Name: age, dtype: float64"
            ]
          },
          "metadata": {
            "tags": []
          },
          "execution_count": 20
        }
      ]
    },
    {
      "cell_type": "code",
      "metadata": {
        "scrolled": false,
        "id": "fw8ozXU6gCda",
        "colab": {
          "base_uri": "https://localhost:8080/",
          "height": 376
        },
        "outputId": "fbf42dc8-6629-40e4-d207-c8102b3d34f9"
      },
      "source": [
        "plt.figure(figsize = (12,5))\n",
        "plt.title('Distribution of Age')\n",
        "plt.xlabel('Ages')\n",
        "plt.ylabel('Counts')\n",
        "df.age.value_counts().sort_index().plot(kind = 'bar')"
      ],
      "execution_count": 21,
      "outputs": [
        {
          "output_type": "execute_result",
          "data": {
            "text/plain": [
              "<matplotlib.axes._subplots.AxesSubplot at 0x7fad80396ad0>"
            ]
          },
          "metadata": {
            "tags": []
          },
          "execution_count": 21
        },
        {
          "output_type": "display_data",
          "data": {
            "image/png": "[encoded data removed]",
            "text/plain": [
              "<Figure size 864x360 with 1 Axes>"
            ]
          },
          "metadata": {
            "tags": [],
            "needs_background": "light"
          }
        }
      ]
    },
    {
      "cell_type": "markdown",
      "metadata": {
        "id": "s7eHx4QrgCdd"
      },
      "source": [
        "**Summary**: Distribution of Ages is *right-skewed* where there are **2 outliers** of ages 109 and 110."
      ]
    },
    {
      "cell_type": "code",
      "metadata": {
        "colab": {
          "base_uri": "https://localhost:8080/",
          "height": 200
        },
        "id": "xSRorO0qiETO",
        "outputId": "9c650c19-a97e-40a5-ffb8-8b1d6120f9f3"
      },
      "source": [
        "df_copy[df_copy['age'] > 69]"
      ],
      "execution_count": 22,
      "outputs": [
        {
          "output_type": "execute_result",
          "data": {
            "text/html": [
              "<div>\n",
              "<style scoped>\n",
              "    .dataframe tbody tr th:only-of-type {\n",
              "        vertical-align: middle;\n",
              "    }\n",
              "\n",
              "    .dataframe tbody tr th {\n",
              "        vertical-align: top;\n",
              "    }\n",
              "\n",
              "    .dataframe thead th {\n",
              "        text-align: right;\n",
              "    }\n",
              "</style>\n",
              "<table border=\"1\" class=\"dataframe\">\n",
              "  <thead>\n",
              "    <tr style=\"text-align: right;\">\n",
              "      <th></th>\n",
              "      <th>age</th>\n",
              "      <th>body_type</th>\n",
              "      <th>diet</th>\n",
              "      <th>drinks</th>\n",
              "      <th>drugs</th>\n",
              "      <th>education</th>\n",
              "      <th>essay0</th>\n",
              "      <th>essay1</th>\n",
              "      <th>essay2</th>\n",
              "      <th>essay3</th>\n",
              "      <th>essay4</th>\n",
              "      <th>essay5</th>\n",
              "      <th>essay6</th>\n",
              "      <th>essay7</th>\n",
              "      <th>essay8</th>\n",
              "      <th>essay9</th>\n",
              "      <th>ethnicity</th>\n",
              "      <th>height</th>\n",
              "      <th>income</th>\n",
              "      <th>job</th>\n",
              "      <th>last_online</th>\n",
              "      <th>location</th>\n",
              "      <th>offspring</th>\n",
              "      <th>orientation</th>\n",
              "      <th>pets</th>\n",
              "      <th>religion</th>\n",
              "      <th>sex</th>\n",
              "      <th>sign</th>\n",
              "      <th>smokes</th>\n",
              "      <th>speaks</th>\n",
              "      <th>status</th>\n",
              "    </tr>\n",
              "  </thead>\n",
              "  <tbody>\n",
              "    <tr>\n",
              "      <th>2512</th>\n",
              "      <td>110</td>\n",
              "      <td>NaN</td>\n",
              "      <td>NaN</td>\n",
              "      <td>NaN</td>\n",
              "      <td>NaN</td>\n",
              "      <td>NaN</td>\n",
              "      <td>NaN</td>\n",
              "      <td>NaN</td>\n",
              "      <td>NaN</td>\n",
              "      <td>NaN</td>\n",
              "      <td>NaN</td>\n",
              "      <td>NaN</td>\n",
              "      <td>NaN</td>\n",
              "      <td>NaN</td>\n",
              "      <td>NaN</td>\n",
              "      <td>NaN</td>\n",
              "      <td>NaN</td>\n",
              "      <td>67.0</td>\n",
              "      <td>-1</td>\n",
              "      <td>NaN</td>\n",
              "      <td>2012-06-27-22-16</td>\n",
              "      <td>daly city, california</td>\n",
              "      <td>NaN</td>\n",
              "      <td>straight</td>\n",
              "      <td>NaN</td>\n",
              "      <td>NaN</td>\n",
              "      <td>f</td>\n",
              "      <td>NaN</td>\n",
              "      <td>NaN</td>\n",
              "      <td>english</td>\n",
              "      <td>True</td>\n",
              "    </tr>\n",
              "    <tr>\n",
              "      <th>25324</th>\n",
              "      <td>109</td>\n",
              "      <td>athletic</td>\n",
              "      <td>mostly other</td>\n",
              "      <td>NaN</td>\n",
              "      <td>never</td>\n",
              "      <td>working on masters program</td>\n",
              "      <td>NaN</td>\n",
              "      <td>NaN</td>\n",
              "      <td>NaN</td>\n",
              "      <td>nothing</td>\n",
              "      <td>NaN</td>\n",
              "      <td>NaN</td>\n",
              "      <td>NaN</td>\n",
              "      <td>NaN</td>\n",
              "      <td>NaN</td>\n",
              "      <td>NaN</td>\n",
              "      <td>NaN</td>\n",
              "      <td>95.0</td>\n",
              "      <td>-1</td>\n",
              "      <td>student</td>\n",
              "      <td>2012-06-30-18-18</td>\n",
              "      <td>san francisco, california</td>\n",
              "      <td>might want kids</td>\n",
              "      <td>straight</td>\n",
              "      <td>NaN</td>\n",
              "      <td>other and somewhat serious about it</td>\n",
              "      <td>m</td>\n",
              "      <td>aquarius but it doesn&amp;rsquo;t matter</td>\n",
              "      <td>when drinking</td>\n",
              "      <td>english (okay)</td>\n",
              "      <td>True</td>\n",
              "    </tr>\n",
              "  </tbody>\n",
              "</table>\n",
              "</div>"
            ],
            "text/plain": [
              "       age body_type          diet  ...         smokes          speaks status\n",
              "2512   110       NaN           NaN  ...            NaN         english   True\n",
              "25324  109  athletic  mostly other  ...  when drinking  english (okay)   True\n",
              "\n",
              "[2 rows x 31 columns]"
            ]
          },
          "metadata": {
            "tags": []
          },
          "execution_count": 22
        }
      ]
    },
    {
      "cell_type": "code",
      "metadata": {
        "colab": {
          "base_uri": "https://localhost:8080/"
        },
        "id": "2onU4r1fj3f-",
        "outputId": "4a8e04da-4947-4418-ea5f-fc38a4191d4d"
      },
      "source": [
        "print('Age outliers had one scarcely reported height (f) and 1 (m) student that also incorrectly explained his height')"
      ],
      "execution_count": 23,
      "outputs": [
        {
          "output_type": "stream",
          "text": [
            "Age outliers had one scarcely reported height (f) and 1 (m) student that also incorrectly explained his height\n"
          ],
          "name": "stdout"
        }
      ]
    },
    {
      "cell_type": "markdown",
      "metadata": {
        "id": "dZSGBB52kOIo"
      },
      "source": [
        "Impute Age with the Median"
      ]
    },
    {
      "cell_type": "code",
      "metadata": {
        "id": "tYPvjcMYkWHE"
      },
      "source": [
        "# df_copy[df_copy['age'] > 69] = df_copy.age.median()\n",
        "median_age = df_copy['age'].median()\n",
        "\n",
        "#Set outliers to the median age to AVOID dropping\n",
        "df_copy.loc[df_copy['age'] > 69, 'age'] = median_age"
      ],
      "execution_count": 24,
      "outputs": []
    },
    {
      "cell_type": "markdown",
      "metadata": {
        "id": "RvD5a_Pkqui6"
      },
      "source": [
        "### Height"
      ]
    },
    {
      "cell_type": "code",
      "metadata": {
        "id": "nr1bZ8MUgCde",
        "colab": {
          "base_uri": "https://localhost:8080/"
        },
        "outputId": "22e514b6-42fb-4177-a1b9-72318fd260cd"
      },
      "source": [
        "df.height.describe()"
      ],
      "execution_count": 25,
      "outputs": [
        {
          "output_type": "execute_result",
          "data": {
            "text/plain": [
              "count    59943.000000\n",
              "mean        68.295281\n",
              "std          3.994803\n",
              "min          1.000000\n",
              "25%         66.000000\n",
              "50%         68.000000\n",
              "75%         71.000000\n",
              "max         95.000000\n",
              "Name: height, dtype: float64"
            ]
          },
          "metadata": {
            "tags": []
          },
          "execution_count": 25
        }
      ]
    },
    {
      "cell_type": "code",
      "metadata": {
        "scrolled": false,
        "id": "FFhfb116gCdi",
        "colab": {
          "base_uri": "https://localhost:8080/",
          "height": 380
        },
        "outputId": "9ed66bb0-f413-4f8a-a6b6-07270423e59c"
      },
      "source": [
        "plt.figure(figsize = (12,5))\n",
        "plt.title('Distribution of Heights')\n",
        "plt.xlabel('Heights')\n",
        "plt.ylabel('Counts')\n",
        "df.height.value_counts().sort_index().plot(kind = 'bar')"
      ],
      "execution_count": 26,
      "outputs": [
        {
          "output_type": "execute_result",
          "data": {
            "text/plain": [
              "<matplotlib.axes._subplots.AxesSubplot at 0x7fad779b4d10>"
            ]
          },
          "metadata": {
            "tags": []
          },
          "execution_count": 26
        },
        {
          "output_type": "display_data",
          "data": {
            "image/png": "[encoded data removed]",
            "text/plain": [
              "<Figure size 864x360 with 1 Axes>"
            ]
          },
          "metadata": {
            "tags": [],
            "needs_background": "light"
          }
        }
      ]
    },
    {
      "cell_type": "code",
      "metadata": {
        "colab": {
          "base_uri": "https://localhost:8080/"
        },
        "id": "bgCz7B2HkftE",
        "outputId": "3604abaa-06c2-4b4c-c50d-882f2cf78916"
      },
      "source": [
        "len(df_copy[df_copy.height < 60])"
      ],
      "execution_count": 27,
      "outputs": [
        {
          "output_type": "execute_result",
          "data": {
            "text/plain": [
              "335"
            ]
          },
          "metadata": {
            "tags": []
          },
          "execution_count": 27
        }
      ]
    },
    {
      "cell_type": "markdown",
      "metadata": {
        "id": "d6xSCBbAgCdp"
      },
      "source": [
        "**Summary**: Heights have a relatively normal distribution centered around 5'8\"(68in).\n",
        "- Upper Outliers (Top 99% Percentile): >6'3\"ft (75in)\n",
        "- Lower Outliers (bottom 1%) : <4'8\"ft (56in)\n",
        "    - Adjusted Dwarf height: <4' or (48in)"
      ]
    },
    {
      "cell_type": "code",
      "metadata": {
        "colab": {
          "base_uri": "https://localhost:8080/",
          "height": 421
        },
        "id": "8uj_eRgZp1GG",
        "outputId": "616603cc-ae1f-4758-a44d-73b280655c15"
      },
      "source": [
        "df_copy[pd.isnull(df_copy.height)] #subset of na heights"
      ],
      "execution_count": 28,
      "outputs": [
        {
          "output_type": "execute_result",
          "data": {
            "text/html": [
              "<div>\n",
              "<style scoped>\n",
              "    .dataframe tbody tr th:only-of-type {\n",
              "        vertical-align: middle;\n",
              "    }\n",
              "\n",
              "    .dataframe tbody tr th {\n",
              "        vertical-align: top;\n",
              "    }\n",
              "\n",
              "    .dataframe thead th {\n",
              "        text-align: right;\n",
              "    }\n",
              "</style>\n",
              "<table border=\"1\" class=\"dataframe\">\n",
              "  <thead>\n",
              "    <tr style=\"text-align: right;\">\n",
              "      <th></th>\n",
              "      <th>age</th>\n",
              "      <th>body_type</th>\n",
              "      <th>diet</th>\n",
              "      <th>drinks</th>\n",
              "      <th>drugs</th>\n",
              "      <th>education</th>\n",
              "      <th>essay0</th>\n",
              "      <th>essay1</th>\n",
              "      <th>essay2</th>\n",
              "      <th>essay3</th>\n",
              "      <th>essay4</th>\n",
              "      <th>essay5</th>\n",
              "      <th>essay6</th>\n",
              "      <th>essay7</th>\n",
              "      <th>essay8</th>\n",
              "      <th>essay9</th>\n",
              "      <th>ethnicity</th>\n",
              "      <th>height</th>\n",
              "      <th>income</th>\n",
              "      <th>job</th>\n",
              "      <th>last_online</th>\n",
              "      <th>location</th>\n",
              "      <th>offspring</th>\n",
              "      <th>orientation</th>\n",
              "      <th>pets</th>\n",
              "      <th>religion</th>\n",
              "      <th>sex</th>\n",
              "      <th>sign</th>\n",
              "      <th>smokes</th>\n",
              "      <th>speaks</th>\n",
              "      <th>status</th>\n",
              "    </tr>\n",
              "  </thead>\n",
              "  <tbody>\n",
              "    <tr>\n",
              "      <th>36428</th>\n",
              "      <td>32</td>\n",
              "      <td>NaN</td>\n",
              "      <td>NaN</td>\n",
              "      <td>NaN</td>\n",
              "      <td>NaN</td>\n",
              "      <td>NaN</td>\n",
              "      <td>NaN</td>\n",
              "      <td>NaN</td>\n",
              "      <td>NaN</td>\n",
              "      <td>NaN</td>\n",
              "      <td>thomas bernhard, foucault, annie hall, taxi dr...</td>\n",
              "      <td>NaN</td>\n",
              "      <td>consciousness</td>\n",
              "      <td>NaN</td>\n",
              "      <td>i passionately hate liars!</td>\n",
              "      <td>you know what my user name means and if you ar...</td>\n",
              "      <td>other</td>\n",
              "      <td>NaN</td>\n",
              "      <td>-1</td>\n",
              "      <td>artistic / musical / writer</td>\n",
              "      <td>2012-06-30-20-41</td>\n",
              "      <td>berkeley, california</td>\n",
              "      <td>NaN</td>\n",
              "      <td>straight</td>\n",
              "      <td>NaN</td>\n",
              "      <td>NaN</td>\n",
              "      <td>f</td>\n",
              "      <td>NaN</td>\n",
              "      <td>NaN</td>\n",
              "      <td>english (fluently), german (fluently)</td>\n",
              "      <td>True</td>\n",
              "    </tr>\n",
              "    <tr>\n",
              "      <th>54002</th>\n",
              "      <td>25</td>\n",
              "      <td>NaN</td>\n",
              "      <td>NaN</td>\n",
              "      <td>NaN</td>\n",
              "      <td>never</td>\n",
              "      <td>NaN</td>\n",
              "      <td>NaN</td>\n",
              "      <td>NaN</td>\n",
              "      <td>NaN</td>\n",
              "      <td>NaN</td>\n",
              "      <td>NaN</td>\n",
              "      <td>NaN</td>\n",
              "      <td>NaN</td>\n",
              "      <td>NaN</td>\n",
              "      <td>NaN</td>\n",
              "      <td>NaN</td>\n",
              "      <td>hispanic / latin</td>\n",
              "      <td>NaN</td>\n",
              "      <td>-1</td>\n",
              "      <td>NaN</td>\n",
              "      <td>2012-06-30-18-41</td>\n",
              "      <td>guadalajara, mexico</td>\n",
              "      <td>NaN</td>\n",
              "      <td>straight</td>\n",
              "      <td>NaN</td>\n",
              "      <td>NaN</td>\n",
              "      <td>m</td>\n",
              "      <td>aries</td>\n",
              "      <td>NaN</td>\n",
              "      <td>english</td>\n",
              "      <td>True</td>\n",
              "    </tr>\n",
              "    <tr>\n",
              "      <th>58983</th>\n",
              "      <td>49</td>\n",
              "      <td>NaN</td>\n",
              "      <td>NaN</td>\n",
              "      <td>NaN</td>\n",
              "      <td>NaN</td>\n",
              "      <td>NaN</td>\n",
              "      <td>great guy, lots of positive attributes*, but s...</td>\n",
              "      <td>living it.&lt;br /&gt;\\n&lt;br /&gt;\\nquite a bit more tha...</td>\n",
              "      <td>lots, notably good, deep, excellent communicat...</td>\n",
              "      <td>some positive stuff, but i'll hold my tongue o...</td>\n",
              "      <td>lots.&lt;br /&gt;\\n&lt;br /&gt;\\nnot especially up to list...</td>\n",
              "      <td>1. damn good friend, or better&lt;br /&gt;\\n2. manag...</td>\n",
              "      <td>many things. maybe too much.&lt;br /&gt;\\nnot really...</td>\n",
              "      <td>at the moment, i'd rather not even say or thin...</td>\n",
              "      <td>i have a blog of much that's personal and priv...</td>\n",
              "      <td>you've good reason to think we'd like make at ...</td>\n",
              "      <td>NaN</td>\n",
              "      <td>NaN</td>\n",
              "      <td>-1</td>\n",
              "      <td>NaN</td>\n",
              "      <td>2012-07-01-08-35</td>\n",
              "      <td>berkeley, california</td>\n",
              "      <td>doesn&amp;rsquo;t have kids</td>\n",
              "      <td>straight</td>\n",
              "      <td>likes cats</td>\n",
              "      <td>NaN</td>\n",
              "      <td>m</td>\n",
              "      <td>NaN</td>\n",
              "      <td>no</td>\n",
              "      <td>english (fluently)</td>\n",
              "      <td>True</td>\n",
              "    </tr>\n",
              "  </tbody>\n",
              "</table>\n",
              "</div>"
            ],
            "text/plain": [
              "       age body_type diet  ... smokes                                 speaks status\n",
              "36428   32       NaN  NaN  ...    NaN  english (fluently), german (fluently)   True\n",
              "54002   25       NaN  NaN  ...    NaN                                english   True\n",
              "58983   49       NaN  NaN  ...     no                     english (fluently)   True\n",
              "\n",
              "[3 rows x 31 columns]"
            ]
          },
          "metadata": {
            "tags": []
          },
          "execution_count": 28
        }
      ]
    },
    {
      "cell_type": "code",
      "metadata": {
        "colab": {
          "base_uri": "https://localhost:8080/"
        },
        "id": "mdiDoC3RqPim",
        "outputId": "99df3617-797c-49ec-dbb5-9cbb28e15234"
      },
      "source": [
        "df_copy['height'].isna().sum()"
      ],
      "execution_count": 29,
      "outputs": [
        {
          "output_type": "execute_result",
          "data": {
            "text/plain": [
              "3"
            ]
          },
          "metadata": {
            "tags": []
          },
          "execution_count": 29
        }
      ]
    },
    {
      "cell_type": "code",
      "metadata": {
        "id": "g3Vm2FmC9bna",
        "colab": {
          "base_uri": "https://localhost:8080/"
        },
        "outputId": "7df0970f-7f8c-4a34-9ad0-1ac410b5a801"
      },
      "source": [
        "median_height = df_copy['height'].median()\n",
        "\n",
        "#Update outliers with Median\n",
        "df_copy.loc[df_copy['height'] < 48, 'height'] = median_height\n",
        "df_copy.loc[df_copy['height'] > 84, 'height'] = median_height\n",
        "\n",
        "#Update Nulls with Median\n",
        "df_copy['height'].fillna(median_height)"
      ],
      "execution_count": 30,
      "outputs": [
        {
          "output_type": "execute_result",
          "data": {
            "text/plain": [
              "0        75.0\n",
              "1        70.0\n",
              "2        68.0\n",
              "3        71.0\n",
              "4        66.0\n",
              "         ... \n",
              "59941    62.0\n",
              "59942    72.0\n",
              "59943    71.0\n",
              "59944    73.0\n",
              "59945    68.0\n",
              "Name: height, Length: 59946, dtype: float64"
            ]
          },
          "metadata": {
            "tags": []
          },
          "execution_count": 30
        }
      ]
    },
    {
      "cell_type": "markdown",
      "metadata": {
        "id": "9t5BpNY0q0Zj"
      },
      "source": [
        "### Income"
      ]
    },
    {
      "cell_type": "code",
      "metadata": {
        "scrolled": false,
        "id": "GPCpeIlPgCds",
        "colab": {
          "base_uri": "https://localhost:8080/",
          "height": 401
        },
        "outputId": "7d8491c8-2698-4c01-d9b5-f320af7bcc05"
      },
      "source": [
        "plt.figure(figsize = (12,5))\n",
        "plt.title('Distribution of Income')\n",
        "plt.xlabel('Heights')\n",
        "plt.ylabel('Counts')\n",
        "df.income.value_counts().sort_index().plot(kind = 'bar')"
      ],
      "execution_count": 31,
      "outputs": [
        {
          "output_type": "execute_result",
          "data": {
            "text/plain": [
              "<matplotlib.axes._subplots.AxesSubplot at 0x7fad779447d0>"
            ]
          },
          "metadata": {
            "tags": []
          },
          "execution_count": 31
        },
        {
          "output_type": "display_data",
          "data": {
            "image/png": "[encoded data removed]",
            "text/plain": [
              "<Figure size 864x360 with 1 Axes>"
            ]
          },
          "metadata": {
            "tags": [],
            "needs_background": "light"
          }
        }
      ]
    },
    {
      "cell_type": "code",
      "metadata": {
        "id": "HCbaOJgogCdy",
        "colab": {
          "base_uri": "https://localhost:8080/"
        },
        "outputId": "c1a81a0f-66f1-477d-ef76-b2b5e01aa6ee"
      },
      "source": [
        "i = df_copy.income\n",
        "unreported = 100* (i.value_counts().sum() - i[i==-1].count()) / i.value_counts().sum()\n",
        "print(\"Only {x:.2f}% of data NOT EQUAL to -1 & avaiable, one should DROP the feature.\".format(x = unreported))"
      ],
      "execution_count": 32,
      "outputs": [
        {
          "output_type": "stream",
          "text": [
            "Only 19.19% of data NOT EQUAL to -1 & avaiable, one should DROP the feature.\n"
          ],
          "name": "stdout"
        }
      ]
    },
    {
      "cell_type": "markdown",
      "metadata": {
        "id": "gUlW1mqIgCdy"
      },
      "source": [
        "**Summary**: Overwhelming amount of unreported incomes as (-1) --> DROP"
      ]
    },
    {
      "cell_type": "markdown",
      "metadata": {
        "id": "xVF5mO_KdFbW"
      },
      "source": [
        "Instead FEATURE GENERATION: Create a boolean, \"unreported income\" feature to feed into the model"
      ]
    },
    {
      "cell_type": "code",
      "metadata": {
        "id": "rjckB5-Eg2Jf"
      },
      "source": [
        "df_copy['reported_income'] = df_copy['income'].apply(lambda inc: 0 if inc == -1 else 1).astype(bool)\n",
        "del df_copy['income']"
      ],
      "execution_count": 33,
      "outputs": []
    },
    {
      "cell_type": "code",
      "metadata": {
        "colab": {
          "base_uri": "https://localhost:8080/",
          "height": 265
        },
        "id": "c5IRnvzh-9u-",
        "outputId": "701e27f4-0b3a-4f5d-8d88-26a15a425e36"
      },
      "source": [
        "df_copy['reported_income'].value_counts().plot(kind = 'pie')"
      ],
      "execution_count": 34,
      "outputs": [
        {
          "output_type": "execute_result",
          "data": {
            "text/plain": [
              "<matplotlib.axes._subplots.AxesSubplot at 0x7fad77780950>"
            ]
          },
          "metadata": {
            "tags": []
          },
          "execution_count": 34
        },
        {
          "output_type": "display_data",
          "data": {
            "image/png": "[encoded data removed]",
            "text/plain": [
              "<Figure size 432x288 with 1 Axes>"
            ]
          },
          "metadata": {
            "tags": []
          }
        }
      ]
    },
    {
      "cell_type": "code",
      "metadata": {
        "colab": {
          "base_uri": "https://localhost:8080/"
        },
        "id": "ekeNsQ7udM6l",
        "outputId": "c15be134-82a8-4d2e-9068-2ead93506062"
      },
      "source": [
        "df_copy.columns"
      ],
      "execution_count": 35,
      "outputs": [
        {
          "output_type": "execute_result",
          "data": {
            "text/plain": [
              "Index(['age', 'body_type', 'diet', 'drinks', 'drugs', 'education', 'essay0',\n",
              "       'essay1', 'essay2', 'essay3', 'essay4', 'essay5', 'essay6', 'essay7',\n",
              "       'essay8', 'essay9', 'ethnicity', 'height', 'job', 'last_online',\n",
              "       'location', 'offspring', 'orientation', 'pets', 'religion', 'sex',\n",
              "       'sign', 'smokes', 'speaks', 'status', 'reported_income'],\n",
              "      dtype='object')"
            ]
          },
          "metadata": {
            "tags": []
          },
          "execution_count": 35
        }
      ]
    },
    {
      "cell_type": "markdown",
      "metadata": {
        "id": "bBa9Gp6xgCel"
      },
      "source": [
        "## Categorical Features"
      ]
    },
    {
      "cell_type": "code",
      "metadata": {
        "colab": {
          "base_uri": "https://localhost:8080/"
        },
        "id": "ouMn2vplrE4P",
        "outputId": "50cd0a0b-35a8-4b23-e876-759f17f8ffaf"
      },
      "source": [
        "feats_to_explore = df_copy.columns.tolist()\n",
        "feats_to_explore.pop(0)\n",
        "feats_to_explore.pop(16)\n",
        "feats_to_explore.pop(-1)\n",
        "feats_to_explore.pop(-1)\n",
        "feats_to_explore\n",
        "# feats_to_explore.remove(['age', 'height', 'income', 'unreported_income'])"
      ],
      "execution_count": 36,
      "outputs": [
        {
          "output_type": "execute_result",
          "data": {
            "text/plain": [
              "['body_type',\n",
              " 'diet',\n",
              " 'drinks',\n",
              " 'drugs',\n",
              " 'education',\n",
              " 'essay0',\n",
              " 'essay1',\n",
              " 'essay2',\n",
              " 'essay3',\n",
              " 'essay4',\n",
              " 'essay5',\n",
              " 'essay6',\n",
              " 'essay7',\n",
              " 'essay8',\n",
              " 'essay9',\n",
              " 'ethnicity',\n",
              " 'job',\n",
              " 'last_online',\n",
              " 'location',\n",
              " 'offspring',\n",
              " 'orientation',\n",
              " 'pets',\n",
              " 'religion',\n",
              " 'sex',\n",
              " 'sign',\n",
              " 'smokes',\n",
              " 'speaks']"
            ]
          },
          "metadata": {
            "tags": []
          },
          "execution_count": 36
        }
      ]
    },
    {
      "cell_type": "markdown",
      "metadata": {
        "id": "AV5-Q4Wt5iOz"
      },
      "source": [
        "### Male (repl sex)"
      ]
    },
    {
      "cell_type": "code",
      "metadata": {
        "colab": {
          "base_uri": "https://localhost:8080/",
          "height": 34
        },
        "id": "2SpvtiHl5n0P",
        "outputId": "124f55f4-e542-4f4c-8186-ae934db51764"
      },
      "source": [
        "df_copy['is_male'] = df_copy['sex'].apply(lambda sex: 1 if sex== 'm' else 0).astype(bool)\n",
        "del df_copy['sex']\n",
        "feats_to_explore.pop(-4)"
      ],
      "execution_count": 37,
      "outputs": [
        {
          "output_type": "execute_result",
          "data": {
            "application/vnd.google.colaboratory.intrinsic+json": {
              "type": "string"
            },
            "text/plain": [
              "'sex'"
            ]
          },
          "metadata": {
            "tags": []
          },
          "execution_count": 37
        }
      ]
    },
    {
      "cell_type": "markdown",
      "metadata": {
        "id": "tsi89CKa7ZeM"
      },
      "source": [
        "### Orientation\n",
        "OHE"
      ]
    },
    {
      "cell_type": "code",
      "metadata": {
        "colab": {
          "base_uri": "https://localhost:8080/",
          "height": 265
        },
        "id": "Iq9-8JOk7VM3",
        "outputId": "2070eb32-24e1-4a34-dc5b-35ad649118ae"
      },
      "source": [
        "df_copy['orientation'].value_counts().plot(kind = 'pie')"
      ],
      "execution_count": 38,
      "outputs": [
        {
          "output_type": "execute_result",
          "data": {
            "text/plain": [
              "<matplotlib.axes._subplots.AxesSubplot at 0x7fad7766e850>"
            ]
          },
          "metadata": {
            "tags": []
          },
          "execution_count": 38
        },
        {
          "output_type": "display_data",
          "data": {
            "image/png": "[encoded data removed]",
            "text/plain": [
              "<Figure size 432x288 with 1 Axes>"
            ]
          },
          "metadata": {
            "tags": []
          }
        }
      ]
    },
    {
      "cell_type": "code",
      "metadata": {
        "id": "gzAc2gCf8d-U"
      },
      "source": [
        "df_copy = pd.concat([df_copy, pd.get_dummies(df_copy['orientation'], drop_first= True).astype(bool)], axis =1)"
      ],
      "execution_count": 39,
      "outputs": []
    },
    {
      "cell_type": "code",
      "metadata": {
        "colab": {
          "base_uri": "https://localhost:8080/",
          "height": 34
        },
        "id": "I6yrUqre7i1A",
        "outputId": "d9cf7b26-d14e-49b8-be92-26e204867a15"
      },
      "source": [
        "feats_to_explore.pop(-6)"
      ],
      "execution_count": 40,
      "outputs": [
        {
          "output_type": "execute_result",
          "data": {
            "application/vnd.google.colaboratory.intrinsic+json": {
              "type": "string"
            },
            "text/plain": [
              "'orientation'"
            ]
          },
          "metadata": {
            "tags": []
          },
          "execution_count": 40
        }
      ]
    },
    {
      "cell_type": "markdown",
      "metadata": {
        "id": "zyiZ8KvBG_MB"
      },
      "source": [
        "### *Location"
      ]
    },
    {
      "cell_type": "code",
      "metadata": {
        "scrolled": true,
        "id": "AMFrnAl9gCez",
        "colab": {
          "base_uri": "https://localhost:8080/",
          "height": 416
        },
        "outputId": "4eceb679-0097-436c-9b33-c404b5f607c9"
      },
      "source": [
        "location_table = df_copy.location.str.split(pat = ', ', expand = True)\n",
        "location_table.drop(2, axis =1, inplace=True)\n",
        "location_table.columns = ['City', \"State\"]\n",
        "location_table"
      ],
      "execution_count": 41,
      "outputs": [
        {
          "output_type": "execute_result",
          "data": {
            "text/html": [
              "<div>\n",
              "<style scoped>\n",
              "    .dataframe tbody tr th:only-of-type {\n",
              "        vertical-align: middle;\n",
              "    }\n",
              "\n",
              "    .dataframe tbody tr th {\n",
              "        vertical-align: top;\n",
              "    }\n",
              "\n",
              "    .dataframe thead th {\n",
              "        text-align: right;\n",
              "    }\n",
              "</style>\n",
              "<table border=\"1\" class=\"dataframe\">\n",
              "  <thead>\n",
              "    <tr style=\"text-align: right;\">\n",
              "      <th></th>\n",
              "      <th>City</th>\n",
              "      <th>State</th>\n",
              "    </tr>\n",
              "  </thead>\n",
              "  <tbody>\n",
              "    <tr>\n",
              "      <th>0</th>\n",
              "      <td>south san francisco</td>\n",
              "      <td>california</td>\n",
              "    </tr>\n",
              "    <tr>\n",
              "      <th>1</th>\n",
              "      <td>oakland</td>\n",
              "      <td>california</td>\n",
              "    </tr>\n",
              "    <tr>\n",
              "      <th>2</th>\n",
              "      <td>san francisco</td>\n",
              "      <td>california</td>\n",
              "    </tr>\n",
              "    <tr>\n",
              "      <th>3</th>\n",
              "      <td>berkeley</td>\n",
              "      <td>california</td>\n",
              "    </tr>\n",
              "    <tr>\n",
              "      <th>4</th>\n",
              "      <td>san francisco</td>\n",
              "      <td>california</td>\n",
              "    </tr>\n",
              "    <tr>\n",
              "      <th>...</th>\n",
              "      <td>...</td>\n",
              "      <td>...</td>\n",
              "    </tr>\n",
              "    <tr>\n",
              "      <th>59941</th>\n",
              "      <td>oakland</td>\n",
              "      <td>california</td>\n",
              "    </tr>\n",
              "    <tr>\n",
              "      <th>59942</th>\n",
              "      <td>san francisco</td>\n",
              "      <td>california</td>\n",
              "    </tr>\n",
              "    <tr>\n",
              "      <th>59943</th>\n",
              "      <td>south san francisco</td>\n",
              "      <td>california</td>\n",
              "    </tr>\n",
              "    <tr>\n",
              "      <th>59944</th>\n",
              "      <td>san francisco</td>\n",
              "      <td>california</td>\n",
              "    </tr>\n",
              "    <tr>\n",
              "      <th>59945</th>\n",
              "      <td>san francisco</td>\n",
              "      <td>california</td>\n",
              "    </tr>\n",
              "  </tbody>\n",
              "</table>\n",
              "<p>59946 rows × 2 columns</p>\n",
              "</div>"
            ],
            "text/plain": [
              "                      City       State\n",
              "0      south san francisco  california\n",
              "1                  oakland  california\n",
              "2            san francisco  california\n",
              "3                 berkeley  california\n",
              "4            san francisco  california\n",
              "...                    ...         ...\n",
              "59941              oakland  california\n",
              "59942        san francisco  california\n",
              "59943  south san francisco  california\n",
              "59944        san francisco  california\n",
              "59945        san francisco  california\n",
              "\n",
              "[59946 rows x 2 columns]"
            ]
          },
          "metadata": {
            "tags": []
          },
          "execution_count": 41
        }
      ]
    },
    {
      "cell_type": "markdown",
      "metadata": {
        "id": "3350NEXJHnob"
      },
      "source": [
        "States"
      ]
    },
    {
      "cell_type": "code",
      "metadata": {
        "colab": {
          "base_uri": "https://localhost:8080/"
        },
        "id": "9IFBpiXtHs2v",
        "outputId": "f6bc71f4-ef96-4569-f7de-ebf80e67e9eb"
      },
      "source": [
        "outsider_state_mask = location_table['State'] != 'california'\n",
        "outsiders = len(location_table[outsider_state_mask])\n",
        "state_total = len(location_table['State'])\n",
        "print(outsiders/state_total)"
      ],
      "execution_count": 42,
      "outputs": [
        {
          "output_type": "stream",
          "text": [
            "0.0015180328962733126\n"
          ],
          "name": "stdout"
        }
      ]
    },
    {
      "cell_type": "markdown",
      "metadata": {
        "id": "-p0wW0AqgCe9"
      },
      "source": [
        "**Summary**: Notice *overwhelming majority* of survey respondents are from **California**\n",
        "- **Note**: There are locations *outside of the United States*: i.e. **\"germany\", \"british columbia\", \"ireland\", \"vietnam\"**\n",
        "- DROP Locations where states are outside of California\n",
        "- Reduce the variety of locations by 134 to remove 0.5% of Responses"
      ]
    },
    {
      "cell_type": "code",
      "metadata": {
        "id": "WGkEQqaTI3eY"
      },
      "source": [
        "#get indices of rows where State != Cali\n",
        "nonca_indices = [index for index, state in zip(range(len(location_table.State)), location_table.State) if state != 'california']"
      ],
      "execution_count": 43,
      "outputs": []
    },
    {
      "cell_type": "code",
      "metadata": {
        "id": "JecQffGFHEBk"
      },
      "source": [
        "#concat the city column to the copy_df\n",
        "df_copy = pd.concat([df_copy, location_table], axis =1)\n",
        "\n",
        "df_copy.drop(nonca_indices, axis=0, inplace = True)\n",
        "df_copy.drop('State', axis=1, inplace = True)\n",
        "df_copy.drop('location', axis = 1, inplace = True)"
      ],
      "execution_count": 44,
      "outputs": []
    },
    {
      "cell_type": "markdown",
      "metadata": {
        "id": "mdzvh5tkLqo5"
      },
      "source": [
        "Cities"
      ]
    },
    {
      "cell_type": "code",
      "metadata": {
        "colab": {
          "base_uri": "https://localhost:8080/"
        },
        "id": "7aQxdSwcLBde",
        "outputId": "d2af4476-1f6f-4fd3-c7b1-4ec154c494cc"
      },
      "source": [
        "print(\"Will have to concat the OHE of cities before feeding into the model, which creates {} new columns\".format(df_copy['City'].nunique()))"
      ],
      "execution_count": 45,
      "outputs": [
        {
          "output_type": "stream",
          "text": [
            "Will have to concat the OHE of cities before feeding into the model, which creates 135 new columns\n"
          ],
          "name": "stdout"
        }
      ]
    },
    {
      "cell_type": "code",
      "metadata": {
        "colab": {
          "base_uri": "https://localhost:8080/",
          "height": 34
        },
        "id": "U8mfgjmgMK-H",
        "outputId": "d4ea2f22-1d22-4458-e899-3b8cf4bcf23e"
      },
      "source": [
        "feats_to_explore.pop(-7)"
      ],
      "execution_count": 46,
      "outputs": [
        {
          "output_type": "execute_result",
          "data": {
            "application/vnd.google.colaboratory.intrinsic+json": {
              "type": "string"
            },
            "text/plain": [
              "'location'"
            ]
          },
          "metadata": {
            "tags": []
          },
          "execution_count": 46
        }
      ]
    },
    {
      "cell_type": "markdown",
      "metadata": {
        "id": "UHpGAiR7MjsQ"
      },
      "source": [
        "### Last Online\n",
        "+ 2011 - 2012\n",
        "+ End of June to Beginning of July (~Essentially JULY2011 - July2012)"
      ]
    },
    {
      "cell_type": "code",
      "metadata": {
        "id": "GzOzkVm1MMsn"
      },
      "source": [
        "df_copy['last_online'] = df_copy['last_online'].astype('string') # Change dtype to a string to convert into Datetime\n",
        "df_copy['last_online'] = pd.to_datetime(df['last_online'], format = \"%Y-%m-%d-%H-%M\")"
      ],
      "execution_count": 47,
      "outputs": []
    },
    {
      "cell_type": "code",
      "metadata": {
        "id": "wBiHMh_dgCfx",
        "colab": {
          "base_uri": "https://localhost:8080/",
          "height": 416
        },
        "outputId": "3827fc14-802f-45df-e48b-e0b0d153a9a9"
      },
      "source": [
        "dt_table = pd.DataFrame()\n",
        "dt_table['Date'] = df_copy['last_online'].dt.date\n",
        "dt_table['Time'] = df_copy['last_online'].dt.time\n",
        "sorted = dt_table.sort_values(by = 'Date')\n",
        "sorted"
      ],
      "execution_count": 48,
      "outputs": [
        {
          "output_type": "execute_result",
          "data": {
            "text/html": [
              "<div>\n",
              "<style scoped>\n",
              "    .dataframe tbody tr th:only-of-type {\n",
              "        vertical-align: middle;\n",
              "    }\n",
              "\n",
              "    .dataframe tbody tr th {\n",
              "        vertical-align: top;\n",
              "    }\n",
              "\n",
              "    .dataframe thead th {\n",
              "        text-align: right;\n",
              "    }\n",
              "</style>\n",
              "<table border=\"1\" class=\"dataframe\">\n",
              "  <thead>\n",
              "    <tr style=\"text-align: right;\">\n",
              "      <th></th>\n",
              "      <th>Date</th>\n",
              "      <th>Time</th>\n",
              "    </tr>\n",
              "  </thead>\n",
              "  <tbody>\n",
              "    <tr>\n",
              "      <th>57082</th>\n",
              "      <td>2011-06-27</td>\n",
              "      <td>09:35:00</td>\n",
              "    </tr>\n",
              "    <tr>\n",
              "      <th>22537</th>\n",
              "      <td>2011-06-27</td>\n",
              "      <td>22:47:00</td>\n",
              "    </tr>\n",
              "    <tr>\n",
              "      <th>40423</th>\n",
              "      <td>2011-06-27</td>\n",
              "      <td>10:36:00</td>\n",
              "    </tr>\n",
              "    <tr>\n",
              "      <th>10864</th>\n",
              "      <td>2011-06-27</td>\n",
              "      <td>23:57:00</td>\n",
              "    </tr>\n",
              "    <tr>\n",
              "      <th>1162</th>\n",
              "      <td>2011-06-27</td>\n",
              "      <td>16:17:00</td>\n",
              "    </tr>\n",
              "    <tr>\n",
              "      <th>...</th>\n",
              "      <td>...</td>\n",
              "      <td>...</td>\n",
              "    </tr>\n",
              "    <tr>\n",
              "      <th>55568</th>\n",
              "      <td>2012-07-01</td>\n",
              "      <td>04:09:00</td>\n",
              "    </tr>\n",
              "    <tr>\n",
              "      <th>46350</th>\n",
              "      <td>2012-07-01</td>\n",
              "      <td>02:13:00</td>\n",
              "    </tr>\n",
              "    <tr>\n",
              "      <th>55577</th>\n",
              "      <td>2012-07-01</td>\n",
              "      <td>01:27:00</td>\n",
              "    </tr>\n",
              "    <tr>\n",
              "      <th>55591</th>\n",
              "      <td>2012-07-01</td>\n",
              "      <td>07:14:00</td>\n",
              "    </tr>\n",
              "    <tr>\n",
              "      <th>42057</th>\n",
              "      <td>2012-07-01</td>\n",
              "      <td>00:27:00</td>\n",
              "    </tr>\n",
              "  </tbody>\n",
              "</table>\n",
              "<p>59855 rows × 2 columns</p>\n",
              "</div>"
            ],
            "text/plain": [
              "             Date      Time\n",
              "57082  2011-06-27  09:35:00\n",
              "22537  2011-06-27  22:47:00\n",
              "40423  2011-06-27  10:36:00\n",
              "10864  2011-06-27  23:57:00\n",
              "1162   2011-06-27  16:17:00\n",
              "...           ...       ...\n",
              "55568  2012-07-01  04:09:00\n",
              "46350  2012-07-01  02:13:00\n",
              "55577  2012-07-01  01:27:00\n",
              "55591  2012-07-01  07:14:00\n",
              "42057  2012-07-01  00:27:00\n",
              "\n",
              "[59855 rows x 2 columns]"
            ]
          },
          "metadata": {
            "tags": []
          },
          "execution_count": 48
        }
      ]
    },
    {
      "cell_type": "markdown",
      "metadata": {
        "id": "5ufAbYKhgCf2"
      },
      "source": [
        "#### Most Frequent Log-In times\n",
        "- Dates\n",
        "    - Growth Stage\n",
        "    - Weekdays\n",
        "- Times\n",
        "    - Which **Hour** of the Day is most popular: \n",
        "        - Morning\n",
        "        - Afternoon\n",
        "        - Evening\n",
        "- Create 2 new features\n",
        "    - OHE day of the week\n",
        "    - OHE bins of morning, midday, evening"
      ]
    },
    {
      "cell_type": "markdown",
      "metadata": {
        "id": "Bxso7NMaQZ7i"
      },
      "source": [
        "##### Dates"
      ]
    },
    {
      "cell_type": "code",
      "metadata": {
        "id": "khK9-mXAQYJA"
      },
      "source": [
        "dates = dt_table.Date #Extract Dates\n",
        "(unq_date, date_count) = np.unique(dates, return_counts = True) #Get number of logins per unique date\n",
        "unique_dates = np.asarray((unq_date, date_count)).T\n",
        "dt = pd.DataFrame(unique_dates, columns = ['Dates', 'Frequency'])"
      ],
      "execution_count": 49,
      "outputs": []
    },
    {
      "cell_type": "code",
      "metadata": {
        "colab": {
          "base_uri": "https://localhost:8080/",
          "height": 368
        },
        "id": "kI9KlycoO-Ij",
        "outputId": "23e4d8c7-bbcd-4438-e3d8-6caa38d70361"
      },
      "source": [
        "dt_order = dt.sort_values(by = 'Dates', ascending = True) #Dates from past to most recent\n",
        "\n",
        "plt.figure(figsize= (12,5))\n",
        "plt.plot_date(x = dt_order['Dates'], y = dt_order['Frequency'])\n",
        "plt.xlabel('Dates')\n",
        "plt.ylabel('Count')\n",
        "plt.title(\"Last-Online Frequency by Date\")"
      ],
      "execution_count": 50,
      "outputs": [
        {
          "output_type": "execute_result",
          "data": {
            "text/plain": [
              "Text(0.5, 1.0, 'Last-Online Frequency by Date')"
            ]
          },
          "metadata": {
            "tags": []
          },
          "execution_count": 50
        },
        {
          "output_type": "display_data",
          "data": {
            "image/png": "[encoded data removed]",
            "text/plain": [
              "<Figure size 864x360 with 1 Axes>"
            ]
          },
          "metadata": {
            "tags": [],
            "needs_background": "light"
          }
        }
      ]
    },
    {
      "cell_type": "markdown",
      "metadata": {
        "id": "p0RFSyPhRKO-"
      },
      "source": [
        "Explore the Growth stage of the dates"
      ]
    },
    {
      "cell_type": "code",
      "metadata": {
        "colab": {
          "base_uri": "https://localhost:8080/",
          "height": 368
        },
        "id": "mPKv36MGRJJl",
        "outputId": "292944e1-435a-470f-8cd6-b6e2b2d43378"
      },
      "source": [
        "low_freq_dt = dt_order[0:355]\n",
        "low_freq_dt\n",
        "\n",
        "plt.figure(figsize= (12,5))\n",
        "plt.plot_date(x = low_freq_dt['Dates'], y = low_freq_dt['Frequency'])\n",
        "plt.xlabel('Dates')\n",
        "plt.ylabel('Count')\n",
        "plt.title(\"Last-Online Frequency by Date\")"
      ],
      "execution_count": 51,
      "outputs": [
        {
          "output_type": "execute_result",
          "data": {
            "text/plain": [
              "Text(0.5, 1.0, 'Last-Online Frequency by Date')"
            ]
          },
          "metadata": {
            "tags": []
          },
          "execution_count": 51
        },
        {
          "output_type": "display_data",
          "data": {
            "image/png": "[encoded data removed]",
            "text/plain": [
              "<Figure size 864x360 with 1 Axes>"
            ]
          },
          "metadata": {
            "tags": [],
            "needs_background": "light"
          }
        }
      ]
    },
    {
      "cell_type": "code",
      "metadata": {
        "colab": {
          "base_uri": "https://localhost:8080/",
          "height": 80
        },
        "id": "vZ26hgqfSIuv",
        "outputId": "e057da11-8786-41bd-bdcc-30de2e796a86"
      },
      "source": [
        "weekday_table = pd.to_datetime(dt_table.Date).dt.dayofweek.value_counts().to_frame().sort_index().T\n",
        "weekday_table.columns = ['Monday', 'Tuesday', 'Wednesday', 'Thursday', 'Friday', 'Saturday', 'Sunday']\n",
        "weekday_table.rename(index= {'Date': 'Last-Online'}, inplace= True)\n",
        "weekday_table"
      ],
      "execution_count": 52,
      "outputs": [
        {
          "output_type": "execute_result",
          "data": {
            "text/html": [
              "<div>\n",
              "<style scoped>\n",
              "    .dataframe tbody tr th:only-of-type {\n",
              "        vertical-align: middle;\n",
              "    }\n",
              "\n",
              "    .dataframe tbody tr th {\n",
              "        vertical-align: top;\n",
              "    }\n",
              "\n",
              "    .dataframe thead th {\n",
              "        text-align: right;\n",
              "    }\n",
              "</style>\n",
              "<table border=\"1\" class=\"dataframe\">\n",
              "  <thead>\n",
              "    <tr style=\"text-align: right;\">\n",
              "      <th></th>\n",
              "      <th>Monday</th>\n",
              "      <th>Tuesday</th>\n",
              "      <th>Wednesday</th>\n",
              "      <th>Thursday</th>\n",
              "      <th>Friday</th>\n",
              "      <th>Saturday</th>\n",
              "      <th>Sunday</th>\n",
              "    </tr>\n",
              "  </thead>\n",
              "  <tbody>\n",
              "    <tr>\n",
              "      <th>Last-Online</th>\n",
              "      <td>5058</td>\n",
              "      <td>5624</td>\n",
              "      <td>6279</td>\n",
              "      <td>7499</td>\n",
              "      <td>11843</td>\n",
              "      <td>17010</td>\n",
              "      <td>6542</td>\n",
              "    </tr>\n",
              "  </tbody>\n",
              "</table>\n",
              "</div>"
            ],
            "text/plain": [
              "             Monday  Tuesday  Wednesday  Thursday  Friday  Saturday  Sunday\n",
              "Last-Online    5058     5624       6279      7499   11843     17010    6542"
            ]
          },
          "metadata": {
            "tags": []
          },
          "execution_count": 52
        }
      ]
    },
    {
      "cell_type": "code",
      "metadata": {
        "colab": {
          "base_uri": "https://localhost:8080/",
          "height": 369
        },
        "id": "i46PfNroRok9",
        "outputId": "2bce3e80-135c-4a62-9dc2-9d5cf3f477b7"
      },
      "source": [
        "plt.figure(figsize= (12,5))\n",
        "plt.bar(weekday_table.columns, weekday_table.values[0])\n",
        "plt.title(\"Members that were Last-online According to the Weekday\")\n",
        "plt.xlabel('Weekdays')\n",
        "plt.ylabel('Count')\n",
        "plt.tight_layout()"
      ],
      "execution_count": 53,
      "outputs": [
        {
          "output_type": "display_data",
          "data": {
            "image/png": "[encoded data removed]",
            "text/plain": [
              "<Figure size 864x360 with 1 Axes>"
            ]
          },
          "metadata": {
            "tags": [],
            "needs_background": "light"
          }
        }
      ]
    },
    {
      "cell_type": "markdown",
      "metadata": {
        "id": "iJcUeonTPo5X"
      },
      "source": [
        "##### Hours or Time of Day"
      ]
    },
    {
      "cell_type": "code",
      "metadata": {
        "colab": {
          "base_uri": "https://localhost:8080/",
          "height": 416
        },
        "id": "jNopRZ8Lypdw",
        "outputId": "6ea8a053-2e17-4bc3-9ccf-d73eb6b03b51"
      },
      "source": [
        "dt_table"
      ],
      "execution_count": 54,
      "outputs": [
        {
          "output_type": "execute_result",
          "data": {
            "text/html": [
              "<div>\n",
              "<style scoped>\n",
              "    .dataframe tbody tr th:only-of-type {\n",
              "        vertical-align: middle;\n",
              "    }\n",
              "\n",
              "    .dataframe tbody tr th {\n",
              "        vertical-align: top;\n",
              "    }\n",
              "\n",
              "    .dataframe thead th {\n",
              "        text-align: right;\n",
              "    }\n",
              "</style>\n",
              "<table border=\"1\" class=\"dataframe\">\n",
              "  <thead>\n",
              "    <tr style=\"text-align: right;\">\n",
              "      <th></th>\n",
              "      <th>Date</th>\n",
              "      <th>Time</th>\n",
              "    </tr>\n",
              "  </thead>\n",
              "  <tbody>\n",
              "    <tr>\n",
              "      <th>0</th>\n",
              "      <td>2012-06-28</td>\n",
              "      <td>20:30:00</td>\n",
              "    </tr>\n",
              "    <tr>\n",
              "      <th>1</th>\n",
              "      <td>2012-06-29</td>\n",
              "      <td>21:41:00</td>\n",
              "    </tr>\n",
              "    <tr>\n",
              "      <th>2</th>\n",
              "      <td>2012-06-27</td>\n",
              "      <td>09:10:00</td>\n",
              "    </tr>\n",
              "    <tr>\n",
              "      <th>3</th>\n",
              "      <td>2012-06-28</td>\n",
              "      <td>14:22:00</td>\n",
              "    </tr>\n",
              "    <tr>\n",
              "      <th>4</th>\n",
              "      <td>2012-06-27</td>\n",
              "      <td>21:26:00</td>\n",
              "    </tr>\n",
              "    <tr>\n",
              "      <th>...</th>\n",
              "      <td>...</td>\n",
              "      <td>...</td>\n",
              "    </tr>\n",
              "    <tr>\n",
              "      <th>59941</th>\n",
              "      <td>2012-06-12</td>\n",
              "      <td>21:47:00</td>\n",
              "    </tr>\n",
              "    <tr>\n",
              "      <th>59942</th>\n",
              "      <td>2012-06-29</td>\n",
              "      <td>11:01:00</td>\n",
              "    </tr>\n",
              "    <tr>\n",
              "      <th>59943</th>\n",
              "      <td>2012-06-27</td>\n",
              "      <td>23:37:00</td>\n",
              "    </tr>\n",
              "    <tr>\n",
              "      <th>59944</th>\n",
              "      <td>2012-06-23</td>\n",
              "      <td>13:01:00</td>\n",
              "    </tr>\n",
              "    <tr>\n",
              "      <th>59945</th>\n",
              "      <td>2012-06-29</td>\n",
              "      <td>00:42:00</td>\n",
              "    </tr>\n",
              "  </tbody>\n",
              "</table>\n",
              "<p>59855 rows × 2 columns</p>\n",
              "</div>"
            ],
            "text/plain": [
              "             Date      Time\n",
              "0      2012-06-28  20:30:00\n",
              "1      2012-06-29  21:41:00\n",
              "2      2012-06-27  09:10:00\n",
              "3      2012-06-28  14:22:00\n",
              "4      2012-06-27  21:26:00\n",
              "...           ...       ...\n",
              "59941  2012-06-12  21:47:00\n",
              "59942  2012-06-29  11:01:00\n",
              "59943  2012-06-27  23:37:00\n",
              "59944  2012-06-23  13:01:00\n",
              "59945  2012-06-29  00:42:00\n",
              "\n",
              "[59855 rows x 2 columns]"
            ]
          },
          "metadata": {
            "tags": []
          },
          "execution_count": 54
        }
      ]
    },
    {
      "cell_type": "code",
      "metadata": {
        "scrolled": true,
        "id": "sPsdXPfGgCf3"
      },
      "source": [
        "hours = [x.hour for x in dt_table.Time]\n",
        "c = countFreq(hours)\n",
        "sort_hours = SortedDict(c)"
      ],
      "execution_count": 55,
      "outputs": []
    },
    {
      "cell_type": "code",
      "metadata": {
        "colab": {
          "base_uri": "https://localhost:8080/"
        },
        "id": "swc5exmL0uKH",
        "outputId": "3cbf7a61-140d-4ddb-9db8-8ba7a3536624"
      },
      "source": [
        "sort_hours"
      ],
      "execution_count": 56,
      "outputs": [
        {
          "output_type": "execute_result",
          "data": {
            "text/plain": [
              "SortedDict({0: 3323, 1: 2218, 2: 1406, 3: 785, 4: 521, 5: 550, 6: 824, 7: 1459, 8: 2151, 9: 2479, 10: 2561, 11: 2523, 12: 2453, 13: 2456, 14: 2581, 15: 2685, 16: 2646, 17: 2918, 18: 3076, 19: 3363, 20: 3690, 21: 4263, 22: 4678, 23: 4246})"
            ]
          },
          "metadata": {
            "tags": []
          },
          "execution_count": 56
        }
      ]
    },
    {
      "cell_type": "code",
      "metadata": {
        "id": "oXsAybYcgCf9",
        "colab": {
          "base_uri": "https://localhost:8080/",
          "height": 297
        },
        "outputId": "ff169cd4-4ce7-430c-f08f-47fd1d359981"
      },
      "source": [
        "x = list(sort_hours.keys())\n",
        "y = list(sort_hours.values())\n",
        "plt.bar(x = x, height = y, edgecolor = \"black\", tick_label = x)\n",
        "\n",
        "plt.title(\"Most Frequent log-in Hours for Users\")\n",
        "plt.xlabel(\"Hour of the Day\")\n",
        "plt.ylabel(\"Number of Users logged in\")\n",
        "plt.tight_layout()"
      ],
      "execution_count": 57,
      "outputs": [
        {
          "output_type": "display_data",
          "data": {
            "image/png": "[encoded data removed]",
            "text/plain": [
              "<Figure size 432x288 with 1 Axes>"
            ]
          },
          "metadata": {
            "tags": [],
            "needs_background": "light"
          }
        }
      ]
    },
    {
      "cell_type": "code",
      "metadata": {
        "id": "m5-bbWNDBPkD"
      },
      "source": [
        "#not including the 'evening' column to mimic the drop_first option in pd.get_dummies\n",
        "df_copy['morning'] = df_copy['last_online'].apply(lambda date: True if date.hour < 8 else False)\n",
        "df_copy['midday'] = df_copy['last_online'].apply(lambda date: True if date.hour >= 8 and date.hour < 16 else False)"
      ],
      "execution_count": 58,
      "outputs": []
    },
    {
      "cell_type": "code",
      "metadata": {
        "id": "5W74vIUP6jZY"
      },
      "source": [
        "feats_to_explore.pop(-7)\n",
        "df_copy.drop('last_online', axis=1, inplace= True)"
      ],
      "execution_count": 59,
      "outputs": []
    },
    {
      "cell_type": "code",
      "metadata": {
        "colab": {
          "base_uri": "https://localhost:8080/",
          "height": 473
        },
        "id": "N7CCRQdd9N8r",
        "outputId": "c8b70888-cc22-47c8-cd17-57d9d686386e"
      },
      "source": [
        "df_copy.head(3)"
      ],
      "execution_count": 60,
      "outputs": [
        {
          "output_type": "execute_result",
          "data": {
            "text/html": [
              "<div>\n",
              "<style scoped>\n",
              "    .dataframe tbody tr th:only-of-type {\n",
              "        vertical-align: middle;\n",
              "    }\n",
              "\n",
              "    .dataframe tbody tr th {\n",
              "        vertical-align: top;\n",
              "    }\n",
              "\n",
              "    .dataframe thead th {\n",
              "        text-align: right;\n",
              "    }\n",
              "</style>\n",
              "<table border=\"1\" class=\"dataframe\">\n",
              "  <thead>\n",
              "    <tr style=\"text-align: right;\">\n",
              "      <th></th>\n",
              "      <th>age</th>\n",
              "      <th>body_type</th>\n",
              "      <th>diet</th>\n",
              "      <th>drinks</th>\n",
              "      <th>drugs</th>\n",
              "      <th>education</th>\n",
              "      <th>essay0</th>\n",
              "      <th>essay1</th>\n",
              "      <th>essay2</th>\n",
              "      <th>essay3</th>\n",
              "      <th>essay4</th>\n",
              "      <th>essay5</th>\n",
              "      <th>essay6</th>\n",
              "      <th>essay7</th>\n",
              "      <th>essay8</th>\n",
              "      <th>essay9</th>\n",
              "      <th>ethnicity</th>\n",
              "      <th>height</th>\n",
              "      <th>job</th>\n",
              "      <th>offspring</th>\n",
              "      <th>orientation</th>\n",
              "      <th>pets</th>\n",
              "      <th>religion</th>\n",
              "      <th>sign</th>\n",
              "      <th>smokes</th>\n",
              "      <th>speaks</th>\n",
              "      <th>status</th>\n",
              "      <th>reported_income</th>\n",
              "      <th>is_male</th>\n",
              "      <th>gay</th>\n",
              "      <th>straight</th>\n",
              "      <th>City</th>\n",
              "      <th>morning</th>\n",
              "      <th>midday</th>\n",
              "    </tr>\n",
              "  </thead>\n",
              "  <tbody>\n",
              "    <tr>\n",
              "      <th>0</th>\n",
              "      <td>22</td>\n",
              "      <td>a little extra</td>\n",
              "      <td>strictly anything</td>\n",
              "      <td>socially</td>\n",
              "      <td>never</td>\n",
              "      <td>working on college/university</td>\n",
              "      <td>about me:&lt;br /&gt;\\n&lt;br /&gt;\\ni would love to think...</td>\n",
              "      <td>currently working as an international agent fo...</td>\n",
              "      <td>making people laugh.&lt;br /&gt;\\nranting about a go...</td>\n",
              "      <td>the way i look. i am a six foot half asian, ha...</td>\n",
              "      <td>books:&lt;br /&gt;\\nabsurdistan, the republic, of mi...</td>\n",
              "      <td>food.&lt;br /&gt;\\nwater.&lt;br /&gt;\\ncell phone.&lt;br /&gt;\\n...</td>\n",
              "      <td>duality and humorous things</td>\n",
              "      <td>trying to find someone to hang out with. i am ...</td>\n",
              "      <td>i am new to california and looking for someone...</td>\n",
              "      <td>you want to be swept off your feet!&lt;br /&gt;\\nyou...</td>\n",
              "      <td>asian, white</td>\n",
              "      <td>75.0</td>\n",
              "      <td>transportation</td>\n",
              "      <td>doesn&amp;rsquo;t have kids, but might want them</td>\n",
              "      <td>straight</td>\n",
              "      <td>likes dogs and likes cats</td>\n",
              "      <td>agnosticism and very serious about it</td>\n",
              "      <td>gemini</td>\n",
              "      <td>sometimes</td>\n",
              "      <td>english</td>\n",
              "      <td>True</td>\n",
              "      <td>False</td>\n",
              "      <td>True</td>\n",
              "      <td>False</td>\n",
              "      <td>True</td>\n",
              "      <td>south san francisco</td>\n",
              "      <td>False</td>\n",
              "      <td>False</td>\n",
              "    </tr>\n",
              "    <tr>\n",
              "      <th>1</th>\n",
              "      <td>35</td>\n",
              "      <td>average</td>\n",
              "      <td>mostly other</td>\n",
              "      <td>often</td>\n",
              "      <td>sometimes</td>\n",
              "      <td>working on space camp</td>\n",
              "      <td>i am a chef: this is what that means.&lt;br /&gt;\\n1...</td>\n",
              "      <td>dedicating everyday to being an unbelievable b...</td>\n",
              "      <td>being silly. having ridiculous amonts of fun w...</td>\n",
              "      <td>NaN</td>\n",
              "      <td>i am die hard christopher moore fan. i don't r...</td>\n",
              "      <td>delicious porkness in all of its glories.&lt;br /...</td>\n",
              "      <td>NaN</td>\n",
              "      <td>NaN</td>\n",
              "      <td>i am very open and will share just about anyth...</td>\n",
              "      <td>NaN</td>\n",
              "      <td>white</td>\n",
              "      <td>70.0</td>\n",
              "      <td>hospitality / travel</td>\n",
              "      <td>doesn&amp;rsquo;t have kids, but might want them</td>\n",
              "      <td>straight</td>\n",
              "      <td>likes dogs and likes cats</td>\n",
              "      <td>agnosticism but not too serious about it</td>\n",
              "      <td>cancer</td>\n",
              "      <td>no</td>\n",
              "      <td>english (fluently), spanish (poorly), french (...</td>\n",
              "      <td>True</td>\n",
              "      <td>True</td>\n",
              "      <td>True</td>\n",
              "      <td>False</td>\n",
              "      <td>True</td>\n",
              "      <td>oakland</td>\n",
              "      <td>False</td>\n",
              "      <td>False</td>\n",
              "    </tr>\n",
              "    <tr>\n",
              "      <th>2</th>\n",
              "      <td>38</td>\n",
              "      <td>thin</td>\n",
              "      <td>anything</td>\n",
              "      <td>socially</td>\n",
              "      <td>NaN</td>\n",
              "      <td>graduated from masters program</td>\n",
              "      <td>i'm not ashamed of much, but writing public te...</td>\n",
              "      <td>i make nerdy software for musicians, artists, ...</td>\n",
              "      <td>improvising in different contexts. alternating...</td>\n",
              "      <td>my large jaw and large glasses are the physica...</td>\n",
              "      <td>okay this is where the cultural matrix gets so...</td>\n",
              "      <td>movement&lt;br /&gt;\\nconversation&lt;br /&gt;\\ncreation&lt;b...</td>\n",
              "      <td>NaN</td>\n",
              "      <td>viewing. listening. dancing. talking. drinking...</td>\n",
              "      <td>when i was five years old, i was known as \"the...</td>\n",
              "      <td>you are bright, open, intense, silly, ironic, ...</td>\n",
              "      <td>NaN</td>\n",
              "      <td>68.0</td>\n",
              "      <td>NaN</td>\n",
              "      <td>NaN</td>\n",
              "      <td>straight</td>\n",
              "      <td>has cats</td>\n",
              "      <td>NaN</td>\n",
              "      <td>pisces but it doesn&amp;rsquo;t matter</td>\n",
              "      <td>no</td>\n",
              "      <td>english, french, c++</td>\n",
              "      <td>True</td>\n",
              "      <td>False</td>\n",
              "      <td>True</td>\n",
              "      <td>False</td>\n",
              "      <td>True</td>\n",
              "      <td>san francisco</td>\n",
              "      <td>False</td>\n",
              "      <td>True</td>\n",
              "    </tr>\n",
              "  </tbody>\n",
              "</table>\n",
              "</div>"
            ],
            "text/plain": [
              "   age       body_type               diet  ...                 City morning midday\n",
              "0   22  a little extra  strictly anything  ...  south san francisco   False  False\n",
              "1   35         average       mostly other  ...              oakland   False  False\n",
              "2   38            thin           anything  ...        san francisco   False   True\n",
              "\n",
              "[3 rows x 34 columns]"
            ]
          },
          "metadata": {
            "tags": []
          },
          "execution_count": 60
        }
      ]
    },
    {
      "cell_type": "code",
      "metadata": {
        "colab": {
          "base_uri": "https://localhost:8080/",
          "height": 754
        },
        "id": "qygpRbupGwOQ",
        "outputId": "40cace18-2b6c-48e6-ed35-7dcee64eabf9"
      },
      "source": [
        "missing_features = draw_missing_data_table(df_copy[feats_to_explore])\n",
        "missing_features"
      ],
      "execution_count": 61,
      "outputs": [
        {
          "output_type": "execute_result",
          "data": {
            "text/html": [
              "<div>\n",
              "<style scoped>\n",
              "    .dataframe tbody tr th:only-of-type {\n",
              "        vertical-align: middle;\n",
              "    }\n",
              "\n",
              "    .dataframe tbody tr th {\n",
              "        vertical-align: top;\n",
              "    }\n",
              "\n",
              "    .dataframe thead th {\n",
              "        text-align: right;\n",
              "    }\n",
              "</style>\n",
              "<table border=\"1\" class=\"dataframe\">\n",
              "  <thead>\n",
              "    <tr style=\"text-align: right;\">\n",
              "      <th></th>\n",
              "      <th>feature</th>\n",
              "      <th>total null</th>\n",
              "      <th>% of null values in the column</th>\n",
              "    </tr>\n",
              "  </thead>\n",
              "  <tbody>\n",
              "    <tr>\n",
              "      <th>0</th>\n",
              "      <td>offspring</td>\n",
              "      <td>35511</td>\n",
              "      <td>0.593284</td>\n",
              "    </tr>\n",
              "    <tr>\n",
              "      <th>1</th>\n",
              "      <td>diet</td>\n",
              "      <td>24360</td>\n",
              "      <td>0.406984</td>\n",
              "    </tr>\n",
              "    <tr>\n",
              "      <th>2</th>\n",
              "      <td>religion</td>\n",
              "      <td>20192</td>\n",
              "      <td>0.337349</td>\n",
              "    </tr>\n",
              "    <tr>\n",
              "      <th>3</th>\n",
              "      <td>pets</td>\n",
              "      <td>19888</td>\n",
              "      <td>0.332270</td>\n",
              "    </tr>\n",
              "    <tr>\n",
              "      <th>4</th>\n",
              "      <td>essay8</td>\n",
              "      <td>19202</td>\n",
              "      <td>0.320809</td>\n",
              "    </tr>\n",
              "    <tr>\n",
              "      <th>5</th>\n",
              "      <td>drugs</td>\n",
              "      <td>14057</td>\n",
              "      <td>0.234851</td>\n",
              "    </tr>\n",
              "    <tr>\n",
              "      <th>6</th>\n",
              "      <td>essay6</td>\n",
              "      <td>13757</td>\n",
              "      <td>0.229839</td>\n",
              "    </tr>\n",
              "    <tr>\n",
              "      <th>7</th>\n",
              "      <td>essay9</td>\n",
              "      <td>12591</td>\n",
              "      <td>0.210358</td>\n",
              "    </tr>\n",
              "    <tr>\n",
              "      <th>8</th>\n",
              "      <td>essay7</td>\n",
              "      <td>12433</td>\n",
              "      <td>0.207719</td>\n",
              "    </tr>\n",
              "    <tr>\n",
              "      <th>9</th>\n",
              "      <td>essay3</td>\n",
              "      <td>11463</td>\n",
              "      <td>0.191513</td>\n",
              "    </tr>\n",
              "    <tr>\n",
              "      <th>10</th>\n",
              "      <td>sign</td>\n",
              "      <td>11037</td>\n",
              "      <td>0.184396</td>\n",
              "    </tr>\n",
              "    <tr>\n",
              "      <th>11</th>\n",
              "      <td>essay5</td>\n",
              "      <td>10831</td>\n",
              "      <td>0.180954</td>\n",
              "    </tr>\n",
              "    <tr>\n",
              "      <th>12</th>\n",
              "      <td>essay4</td>\n",
              "      <td>10523</td>\n",
              "      <td>0.175808</td>\n",
              "    </tr>\n",
              "    <tr>\n",
              "      <th>13</th>\n",
              "      <td>essay2</td>\n",
              "      <td>9626</td>\n",
              "      <td>0.160822</td>\n",
              "    </tr>\n",
              "    <tr>\n",
              "      <th>14</th>\n",
              "      <td>job</td>\n",
              "      <td>8182</td>\n",
              "      <td>0.136697</td>\n",
              "    </tr>\n",
              "    <tr>\n",
              "      <th>15</th>\n",
              "      <td>essay1</td>\n",
              "      <td>7563</td>\n",
              "      <td>0.126355</td>\n",
              "    </tr>\n",
              "    <tr>\n",
              "      <th>16</th>\n",
              "      <td>education</td>\n",
              "      <td>6619</td>\n",
              "      <td>0.110584</td>\n",
              "    </tr>\n",
              "    <tr>\n",
              "      <th>17</th>\n",
              "      <td>ethnicity</td>\n",
              "      <td>5674</td>\n",
              "      <td>0.094796</td>\n",
              "    </tr>\n",
              "    <tr>\n",
              "      <th>18</th>\n",
              "      <td>smokes</td>\n",
              "      <td>5505</td>\n",
              "      <td>0.091972</td>\n",
              "    </tr>\n",
              "    <tr>\n",
              "      <th>19</th>\n",
              "      <td>essay0</td>\n",
              "      <td>5483</td>\n",
              "      <td>0.091605</td>\n",
              "    </tr>\n",
              "    <tr>\n",
              "      <th>20</th>\n",
              "      <td>body_type</td>\n",
              "      <td>5289</td>\n",
              "      <td>0.088364</td>\n",
              "    </tr>\n",
              "    <tr>\n",
              "      <th>21</th>\n",
              "      <td>drinks</td>\n",
              "      <td>2980</td>\n",
              "      <td>0.049787</td>\n",
              "    </tr>\n",
              "    <tr>\n",
              "      <th>22</th>\n",
              "      <td>speaks</td>\n",
              "      <td>50</td>\n",
              "      <td>0.000835</td>\n",
              "    </tr>\n",
              "  </tbody>\n",
              "</table>\n",
              "</div>"
            ],
            "text/plain": [
              "      feature  total null  % of null values in the column\n",
              "0   offspring       35511                        0.593284\n",
              "1        diet       24360                        0.406984\n",
              "2    religion       20192                        0.337349\n",
              "3        pets       19888                        0.332270\n",
              "4      essay8       19202                        0.320809\n",
              "5       drugs       14057                        0.234851\n",
              "6      essay6       13757                        0.229839\n",
              "7      essay9       12591                        0.210358\n",
              "8      essay7       12433                        0.207719\n",
              "9      essay3       11463                        0.191513\n",
              "10       sign       11037                        0.184396\n",
              "11     essay5       10831                        0.180954\n",
              "12     essay4       10523                        0.175808\n",
              "13     essay2        9626                        0.160822\n",
              "14        job        8182                        0.136697\n",
              "15     essay1        7563                        0.126355\n",
              "16  education        6619                        0.110584\n",
              "17  ethnicity        5674                        0.094796\n",
              "18     smokes        5505                        0.091972\n",
              "19     essay0        5483                        0.091605\n",
              "20  body_type        5289                        0.088364\n",
              "21     drinks        2980                        0.049787\n",
              "22     speaks          50                        0.000835"
            ]
          },
          "metadata": {
            "tags": []
          },
          "execution_count": 61
        }
      ]
    },
    {
      "cell_type": "markdown",
      "metadata": {
        "id": "gCz8SzXUV6rj"
      },
      "source": [
        "### Speaks"
      ]
    },
    {
      "cell_type": "code",
      "metadata": {
        "colab": {
          "base_uri": "https://localhost:8080/",
          "height": 265
        },
        "id": "rZbFUGZlV5kX",
        "outputId": "aa5e082d-75e6-4521-8ef7-e81cf3b42488"
      },
      "source": [
        "df_copy['speaks'].value_counts().head(10).plot(kind = 'pie')"
      ],
      "execution_count": 62,
      "outputs": [
        {
          "output_type": "execute_result",
          "data": {
            "text/plain": [
              "<matplotlib.axes._subplots.AxesSubplot at 0x7fad768dad90>"
            ]
          },
          "metadata": {
            "tags": []
          },
          "execution_count": 62
        },
        {
          "output_type": "display_data",
          "data": {
            "image/png": "[encoded data removed]",
            "text/plain": [
              "<Figure size 432x288 with 1 Axes>"
            ]
          },
          "metadata": {
            "tags": []
          }
        }
      ]
    },
    {
      "cell_type": "code",
      "metadata": {
        "colab": {
          "base_uri": "https://localhost:8080/",
          "height": 416
        },
        "id": "HO-4etsFYMcf",
        "outputId": "3d917cdb-72e8-4af1-d651-8eb241f4dc46"
      },
      "source": [
        "lang_table= df_copy['speaks'].str.split(', ', expand = True)\n",
        "lang_table['total known langs'] = lang_table.apply(lambda x: 5 - sum(x.isnull().values), axis =1)\n",
        "\n",
        "lang_table"
      ],
      "execution_count": 63,
      "outputs": [
        {
          "output_type": "execute_result",
          "data": {
            "text/html": [
              "<div>\n",
              "<style scoped>\n",
              "    .dataframe tbody tr th:only-of-type {\n",
              "        vertical-align: middle;\n",
              "    }\n",
              "\n",
              "    .dataframe tbody tr th {\n",
              "        vertical-align: top;\n",
              "    }\n",
              "\n",
              "    .dataframe thead th {\n",
              "        text-align: right;\n",
              "    }\n",
              "</style>\n",
              "<table border=\"1\" class=\"dataframe\">\n",
              "  <thead>\n",
              "    <tr style=\"text-align: right;\">\n",
              "      <th></th>\n",
              "      <th>0</th>\n",
              "      <th>1</th>\n",
              "      <th>2</th>\n",
              "      <th>3</th>\n",
              "      <th>4</th>\n",
              "      <th>total known langs</th>\n",
              "    </tr>\n",
              "  </thead>\n",
              "  <tbody>\n",
              "    <tr>\n",
              "      <th>0</th>\n",
              "      <td>english</td>\n",
              "      <td>None</td>\n",
              "      <td>None</td>\n",
              "      <td>None</td>\n",
              "      <td>None</td>\n",
              "      <td>1</td>\n",
              "    </tr>\n",
              "    <tr>\n",
              "      <th>1</th>\n",
              "      <td>english (fluently)</td>\n",
              "      <td>spanish (poorly)</td>\n",
              "      <td>french (poorly)</td>\n",
              "      <td>None</td>\n",
              "      <td>None</td>\n",
              "      <td>3</td>\n",
              "    </tr>\n",
              "    <tr>\n",
              "      <th>2</th>\n",
              "      <td>english</td>\n",
              "      <td>french</td>\n",
              "      <td>c++</td>\n",
              "      <td>None</td>\n",
              "      <td>None</td>\n",
              "      <td>3</td>\n",
              "    </tr>\n",
              "    <tr>\n",
              "      <th>3</th>\n",
              "      <td>english</td>\n",
              "      <td>german (poorly)</td>\n",
              "      <td>None</td>\n",
              "      <td>None</td>\n",
              "      <td>None</td>\n",
              "      <td>2</td>\n",
              "    </tr>\n",
              "    <tr>\n",
              "      <th>4</th>\n",
              "      <td>english</td>\n",
              "      <td>None</td>\n",
              "      <td>None</td>\n",
              "      <td>None</td>\n",
              "      <td>None</td>\n",
              "      <td>1</td>\n",
              "    </tr>\n",
              "    <tr>\n",
              "      <th>...</th>\n",
              "      <td>...</td>\n",
              "      <td>...</td>\n",
              "      <td>...</td>\n",
              "      <td>...</td>\n",
              "      <td>...</td>\n",
              "      <td>...</td>\n",
              "    </tr>\n",
              "    <tr>\n",
              "      <th>59941</th>\n",
              "      <td>english</td>\n",
              "      <td>None</td>\n",
              "      <td>None</td>\n",
              "      <td>None</td>\n",
              "      <td>None</td>\n",
              "      <td>1</td>\n",
              "    </tr>\n",
              "    <tr>\n",
              "      <th>59942</th>\n",
              "      <td>english (fluently)</td>\n",
              "      <td>None</td>\n",
              "      <td>None</td>\n",
              "      <td>None</td>\n",
              "      <td>None</td>\n",
              "      <td>1</td>\n",
              "    </tr>\n",
              "    <tr>\n",
              "      <th>59943</th>\n",
              "      <td>english (fluently)</td>\n",
              "      <td>None</td>\n",
              "      <td>None</td>\n",
              "      <td>None</td>\n",
              "      <td>None</td>\n",
              "      <td>1</td>\n",
              "    </tr>\n",
              "    <tr>\n",
              "      <th>59944</th>\n",
              "      <td>english (fluently)</td>\n",
              "      <td>spanish (poorly)</td>\n",
              "      <td>chinese (poorly)</td>\n",
              "      <td>korean (poorly)</td>\n",
              "      <td>japanese (poorly)</td>\n",
              "      <td>5</td>\n",
              "    </tr>\n",
              "    <tr>\n",
              "      <th>59945</th>\n",
              "      <td>english</td>\n",
              "      <td>None</td>\n",
              "      <td>None</td>\n",
              "      <td>None</td>\n",
              "      <td>None</td>\n",
              "      <td>1</td>\n",
              "    </tr>\n",
              "  </tbody>\n",
              "</table>\n",
              "<p>59855 rows × 6 columns</p>\n",
              "</div>"
            ],
            "text/plain": [
              "                        0  ... total known langs\n",
              "0                 english  ...                 1\n",
              "1      english (fluently)  ...                 3\n",
              "2                 english  ...                 3\n",
              "3                 english  ...                 2\n",
              "4                 english  ...                 1\n",
              "...                   ...  ...               ...\n",
              "59941             english  ...                 1\n",
              "59942  english (fluently)  ...                 1\n",
              "59943  english (fluently)  ...                 1\n",
              "59944  english (fluently)  ...                 5\n",
              "59945             english  ...                 1\n",
              "\n",
              "[59855 rows x 6 columns]"
            ]
          },
          "metadata": {
            "tags": []
          },
          "execution_count": 63
        }
      ]
    },
    {
      "cell_type": "code",
      "metadata": {
        "colab": {
          "base_uri": "https://localhost:8080/"
        },
        "id": "PRz3Xr-cqTEl",
        "outputId": "a7a4f485-e5c9-488e-82c1-191f8a88fd20"
      },
      "source": [
        "df_copy = pd.concat([df_copy, lang_table['total known langs']], axis =1)\n",
        "df_copy.drop('speaks', axis = 1, inplace= True)\n",
        "df_copy.head()"
      ],
      "execution_count": 64,
      "outputs": [
        {
          "output_type": "execute_result",
          "data": {
            "text/html": [
              "<div>\n",
              "<style scoped>\n",
              "    .dataframe tbody tr th:only-of-type {\n",
              "        vertical-align: middle;\n",
              "    }\n",
              "\n",
              "    .dataframe tbody tr th {\n",
              "        vertical-align: top;\n",
              "    }\n",
              "\n",
              "    .dataframe thead th {\n",
              "        text-align: right;\n",
              "    }\n",
              "</style>\n",
              "<table border=\"1\" class=\"dataframe\">\n",
              "  <thead>\n",
              "    <tr style=\"text-align: right;\">\n",
              "      <th></th>\n",
              "      <th>age</th>\n",
              "      <th>body_type</th>\n",
              "      <th>diet</th>\n",
              "      <th>drinks</th>\n",
              "      <th>drugs</th>\n",
              "      <th>education</th>\n",
              "      <th>essay0</th>\n",
              "      <th>essay1</th>\n",
              "      <th>essay2</th>\n",
              "      <th>essay3</th>\n",
              "      <th>essay4</th>\n",
              "      <th>essay5</th>\n",
              "      <th>essay6</th>\n",
              "      <th>essay7</th>\n",
              "      <th>essay8</th>\n",
              "      <th>essay9</th>\n",
              "      <th>ethnicity</th>\n",
              "      <th>height</th>\n",
              "      <th>job</th>\n",
              "      <th>offspring</th>\n",
              "      <th>orientation</th>\n",
              "      <th>pets</th>\n",
              "      <th>religion</th>\n",
              "      <th>sign</th>\n",
              "      <th>smokes</th>\n",
              "      <th>status</th>\n",
              "      <th>reported_income</th>\n",
              "      <th>is_male</th>\n",
              "      <th>gay</th>\n",
              "      <th>straight</th>\n",
              "      <th>City</th>\n",
              "      <th>morning</th>\n",
              "      <th>midday</th>\n",
              "      <th>total known langs</th>\n",
              "    </tr>\n",
              "  </thead>\n",
              "  <tbody>\n",
              "    <tr>\n",
              "      <th>0</th>\n",
              "      <td>22</td>\n",
              "      <td>a little extra</td>\n",
              "      <td>strictly anything</td>\n",
              "      <td>socially</td>\n",
              "      <td>never</td>\n",
              "      <td>working on college/university</td>\n",
              "      <td>about me:&lt;br /&gt;\\n&lt;br /&gt;\\ni would love to think...</td>\n",
              "      <td>currently working as an international agent fo...</td>\n",
              "      <td>making people laugh.&lt;br /&gt;\\nranting about a go...</td>\n",
              "      <td>the way i look. i am a six foot half asian, ha...</td>\n",
              "      <td>books:&lt;br /&gt;\\nabsurdistan, the republic, of mi...</td>\n",
              "      <td>food.&lt;br /&gt;\\nwater.&lt;br /&gt;\\ncell phone.&lt;br /&gt;\\n...</td>\n",
              "      <td>duality and humorous things</td>\n",
              "      <td>trying to find someone to hang out with. i am ...</td>\n",
              "      <td>i am new to california and looking for someone...</td>\n",
              "      <td>you want to be swept off your feet!&lt;br /&gt;\\nyou...</td>\n",
              "      <td>asian, white</td>\n",
              "      <td>75.0</td>\n",
              "      <td>transportation</td>\n",
              "      <td>doesn&amp;rsquo;t have kids, but might want them</td>\n",
              "      <td>straight</td>\n",
              "      <td>likes dogs and likes cats</td>\n",
              "      <td>agnosticism and very serious about it</td>\n",
              "      <td>gemini</td>\n",
              "      <td>sometimes</td>\n",
              "      <td>True</td>\n",
              "      <td>False</td>\n",
              "      <td>True</td>\n",
              "      <td>False</td>\n",
              "      <td>True</td>\n",
              "      <td>south san francisco</td>\n",
              "      <td>False</td>\n",
              "      <td>False</td>\n",
              "      <td>1</td>\n",
              "    </tr>\n",
              "    <tr>\n",
              "      <th>1</th>\n",
              "      <td>35</td>\n",
              "      <td>average</td>\n",
              "      <td>mostly other</td>\n",
              "      <td>often</td>\n",
              "      <td>sometimes</td>\n",
              "      <td>working on space camp</td>\n",
              "      <td>i am a chef: this is what that means.&lt;br /&gt;\\n1...</td>\n",
              "      <td>dedicating everyday to being an unbelievable b...</td>\n",
              "      <td>being silly. having ridiculous amonts of fun w...</td>\n",
              "      <td>NaN</td>\n",
              "      <td>i am die hard christopher moore fan. i don't r...</td>\n",
              "      <td>delicious porkness in all of its glories.&lt;br /...</td>\n",
              "      <td>NaN</td>\n",
              "      <td>NaN</td>\n",
              "      <td>i am very open and will share just about anyth...</td>\n",
              "      <td>NaN</td>\n",
              "      <td>white</td>\n",
              "      <td>70.0</td>\n",
              "      <td>hospitality / travel</td>\n",
              "      <td>doesn&amp;rsquo;t have kids, but might want them</td>\n",
              "      <td>straight</td>\n",
              "      <td>likes dogs and likes cats</td>\n",
              "      <td>agnosticism but not too serious about it</td>\n",
              "      <td>cancer</td>\n",
              "      <td>no</td>\n",
              "      <td>True</td>\n",
              "      <td>True</td>\n",
              "      <td>True</td>\n",
              "      <td>False</td>\n",
              "      <td>True</td>\n",
              "      <td>oakland</td>\n",
              "      <td>False</td>\n",
              "      <td>False</td>\n",
              "      <td>3</td>\n",
              "    </tr>\n",
              "    <tr>\n",
              "      <th>2</th>\n",
              "      <td>38</td>\n",
              "      <td>thin</td>\n",
              "      <td>anything</td>\n",
              "      <td>socially</td>\n",
              "      <td>NaN</td>\n",
              "      <td>graduated from masters program</td>\n",
              "      <td>i'm not ashamed of much, but writing public te...</td>\n",
              "      <td>i make nerdy software for musicians, artists, ...</td>\n",
              "      <td>improvising in different contexts. alternating...</td>\n",
              "      <td>my large jaw and large glasses are the physica...</td>\n",
              "      <td>okay this is where the cultural matrix gets so...</td>\n",
              "      <td>movement&lt;br /&gt;\\nconversation&lt;br /&gt;\\ncreation&lt;b...</td>\n",
              "      <td>NaN</td>\n",
              "      <td>viewing. listening. dancing. talking. drinking...</td>\n",
              "      <td>when i was five years old, i was known as \"the...</td>\n",
              "      <td>you are bright, open, intense, silly, ironic, ...</td>\n",
              "      <td>NaN</td>\n",
              "      <td>68.0</td>\n",
              "      <td>NaN</td>\n",
              "      <td>NaN</td>\n",
              "      <td>straight</td>\n",
              "      <td>has cats</td>\n",
              "      <td>NaN</td>\n",
              "      <td>pisces but it doesn&amp;rsquo;t matter</td>\n",
              "      <td>no</td>\n",
              "      <td>True</td>\n",
              "      <td>False</td>\n",
              "      <td>True</td>\n",
              "      <td>False</td>\n",
              "      <td>True</td>\n",
              "      <td>san francisco</td>\n",
              "      <td>False</td>\n",
              "      <td>True</td>\n",
              "      <td>3</td>\n",
              "    </tr>\n",
              "    <tr>\n",
              "      <th>3</th>\n",
              "      <td>23</td>\n",
              "      <td>thin</td>\n",
              "      <td>vegetarian</td>\n",
              "      <td>socially</td>\n",
              "      <td>NaN</td>\n",
              "      <td>working on college/university</td>\n",
              "      <td>i work in a library and go to school. . .</td>\n",
              "      <td>reading things written by old dead people</td>\n",
              "      <td>playing synthesizers and organizing books acco...</td>\n",
              "      <td>socially awkward but i do my best</td>\n",
              "      <td>bataille, celine, beckett. . .&lt;br /&gt;\\nlynch, j...</td>\n",
              "      <td>NaN</td>\n",
              "      <td>cats and german philosophy</td>\n",
              "      <td>NaN</td>\n",
              "      <td>NaN</td>\n",
              "      <td>you feel so inclined.</td>\n",
              "      <td>white</td>\n",
              "      <td>71.0</td>\n",
              "      <td>student</td>\n",
              "      <td>doesn&amp;rsquo;t want kids</td>\n",
              "      <td>straight</td>\n",
              "      <td>likes cats</td>\n",
              "      <td>NaN</td>\n",
              "      <td>pisces</td>\n",
              "      <td>no</td>\n",
              "      <td>True</td>\n",
              "      <td>True</td>\n",
              "      <td>True</td>\n",
              "      <td>False</td>\n",
              "      <td>True</td>\n",
              "      <td>berkeley</td>\n",
              "      <td>False</td>\n",
              "      <td>True</td>\n",
              "      <td>2</td>\n",
              "    </tr>\n",
              "    <tr>\n",
              "      <th>4</th>\n",
              "      <td>29</td>\n",
              "      <td>athletic</td>\n",
              "      <td>NaN</td>\n",
              "      <td>socially</td>\n",
              "      <td>never</td>\n",
              "      <td>graduated from college/university</td>\n",
              "      <td>hey how's it going? currently vague on the pro...</td>\n",
              "      <td>work work work work + play</td>\n",
              "      <td>creating imagery to look at:&lt;br /&gt;\\nhttp://bag...</td>\n",
              "      <td>i smile a lot and my inquisitive nature</td>\n",
              "      <td>music: bands, rappers, musicians&lt;br /&gt;\\nat the...</td>\n",
              "      <td>NaN</td>\n",
              "      <td>NaN</td>\n",
              "      <td>NaN</td>\n",
              "      <td>NaN</td>\n",
              "      <td>NaN</td>\n",
              "      <td>asian, black, other</td>\n",
              "      <td>66.0</td>\n",
              "      <td>artistic / musical / writer</td>\n",
              "      <td>NaN</td>\n",
              "      <td>straight</td>\n",
              "      <td>likes dogs and likes cats</td>\n",
              "      <td>NaN</td>\n",
              "      <td>aquarius</td>\n",
              "      <td>no</td>\n",
              "      <td>True</td>\n",
              "      <td>False</td>\n",
              "      <td>True</td>\n",
              "      <td>False</td>\n",
              "      <td>True</td>\n",
              "      <td>san francisco</td>\n",
              "      <td>False</td>\n",
              "      <td>False</td>\n",
              "      <td>1</td>\n",
              "    </tr>\n",
              "  </tbody>\n",
              "</table>\n",
              "</div>"
            ],
            "text/plain": [
              "   age       body_type               diet  ... morning midday total known langs\n",
              "0   22  a little extra  strictly anything  ...   False  False                 1\n",
              "1   35         average       mostly other  ...   False  False                 3\n",
              "2   38            thin           anything  ...   False   True                 3\n",
              "3   23            thin         vegetarian  ...   False   True                 2\n",
              "4   29        athletic                NaN  ...   False  False                 1\n",
              "\n",
              "[5 rows x 34 columns]"
            ]
          },
          "metadata": {
            "tags": []
          },
          "execution_count": 64
        }
      ]
    },
    {
      "cell_type": "code",
      "metadata": {
        "colab": {
          "base_uri": "https://localhost:8080/"
        },
        "id": "1zKD4dEKeFZx",
        "outputId": "a55a430a-e8a8-4294-d5f1-4a867eb82eaa"
      },
      "source": [
        "feats_to_explore.pop(-1)\n",
        "draw_missing_data_table(df_copy[feats_to_explore])"
      ],
      "execution_count": 65,
      "outputs": [
        {
          "output_type": "execute_result",
          "data": {
            "text/html": [
              "<div>\n",
              "<style scoped>\n",
              "    .dataframe tbody tr th:only-of-type {\n",
              "        vertical-align: middle;\n",
              "    }\n",
              "\n",
              "    .dataframe tbody tr th {\n",
              "        vertical-align: top;\n",
              "    }\n",
              "\n",
              "    .dataframe thead th {\n",
              "        text-align: right;\n",
              "    }\n",
              "</style>\n",
              "<table border=\"1\" class=\"dataframe\">\n",
              "  <thead>\n",
              "    <tr style=\"text-align: right;\">\n",
              "      <th></th>\n",
              "      <th>feature</th>\n",
              "      <th>total null</th>\n",
              "      <th>% of null values in the column</th>\n",
              "    </tr>\n",
              "  </thead>\n",
              "  <tbody>\n",
              "    <tr>\n",
              "      <th>0</th>\n",
              "      <td>offspring</td>\n",
              "      <td>35511</td>\n",
              "      <td>0.593284</td>\n",
              "    </tr>\n",
              "    <tr>\n",
              "      <th>1</th>\n",
              "      <td>diet</td>\n",
              "      <td>24360</td>\n",
              "      <td>0.406984</td>\n",
              "    </tr>\n",
              "    <tr>\n",
              "      <th>2</th>\n",
              "      <td>religion</td>\n",
              "      <td>20192</td>\n",
              "      <td>0.337349</td>\n",
              "    </tr>\n",
              "    <tr>\n",
              "      <th>3</th>\n",
              "      <td>pets</td>\n",
              "      <td>19888</td>\n",
              "      <td>0.332270</td>\n",
              "    </tr>\n",
              "    <tr>\n",
              "      <th>4</th>\n",
              "      <td>essay8</td>\n",
              "      <td>19202</td>\n",
              "      <td>0.320809</td>\n",
              "    </tr>\n",
              "    <tr>\n",
              "      <th>5</th>\n",
              "      <td>drugs</td>\n",
              "      <td>14057</td>\n",
              "      <td>0.234851</td>\n",
              "    </tr>\n",
              "    <tr>\n",
              "      <th>6</th>\n",
              "      <td>essay6</td>\n",
              "      <td>13757</td>\n",
              "      <td>0.229839</td>\n",
              "    </tr>\n",
              "    <tr>\n",
              "      <th>7</th>\n",
              "      <td>essay9</td>\n",
              "      <td>12591</td>\n",
              "      <td>0.210358</td>\n",
              "    </tr>\n",
              "    <tr>\n",
              "      <th>8</th>\n",
              "      <td>essay7</td>\n",
              "      <td>12433</td>\n",
              "      <td>0.207719</td>\n",
              "    </tr>\n",
              "    <tr>\n",
              "      <th>9</th>\n",
              "      <td>essay3</td>\n",
              "      <td>11463</td>\n",
              "      <td>0.191513</td>\n",
              "    </tr>\n",
              "    <tr>\n",
              "      <th>10</th>\n",
              "      <td>sign</td>\n",
              "      <td>11037</td>\n",
              "      <td>0.184396</td>\n",
              "    </tr>\n",
              "    <tr>\n",
              "      <th>11</th>\n",
              "      <td>essay5</td>\n",
              "      <td>10831</td>\n",
              "      <td>0.180954</td>\n",
              "    </tr>\n",
              "    <tr>\n",
              "      <th>12</th>\n",
              "      <td>essay4</td>\n",
              "      <td>10523</td>\n",
              "      <td>0.175808</td>\n",
              "    </tr>\n",
              "    <tr>\n",
              "      <th>13</th>\n",
              "      <td>essay2</td>\n",
              "      <td>9626</td>\n",
              "      <td>0.160822</td>\n",
              "    </tr>\n",
              "    <tr>\n",
              "      <th>14</th>\n",
              "      <td>job</td>\n",
              "      <td>8182</td>\n",
              "      <td>0.136697</td>\n",
              "    </tr>\n",
              "    <tr>\n",
              "      <th>15</th>\n",
              "      <td>essay1</td>\n",
              "      <td>7563</td>\n",
              "      <td>0.126355</td>\n",
              "    </tr>\n",
              "    <tr>\n",
              "      <th>16</th>\n",
              "      <td>education</td>\n",
              "      <td>6619</td>\n",
              "      <td>0.110584</td>\n",
              "    </tr>\n",
              "    <tr>\n",
              "      <th>17</th>\n",
              "      <td>ethnicity</td>\n",
              "      <td>5674</td>\n",
              "      <td>0.094796</td>\n",
              "    </tr>\n",
              "    <tr>\n",
              "      <th>18</th>\n",
              "      <td>smokes</td>\n",
              "      <td>5505</td>\n",
              "      <td>0.091972</td>\n",
              "    </tr>\n",
              "    <tr>\n",
              "      <th>19</th>\n",
              "      <td>essay0</td>\n",
              "      <td>5483</td>\n",
              "      <td>0.091605</td>\n",
              "    </tr>\n",
              "    <tr>\n",
              "      <th>20</th>\n",
              "      <td>body_type</td>\n",
              "      <td>5289</td>\n",
              "      <td>0.088364</td>\n",
              "    </tr>\n",
              "    <tr>\n",
              "      <th>21</th>\n",
              "      <td>drinks</td>\n",
              "      <td>2980</td>\n",
              "      <td>0.049787</td>\n",
              "    </tr>\n",
              "  </tbody>\n",
              "</table>\n",
              "</div>"
            ],
            "text/plain": [
              "      feature  total null  % of null values in the column\n",
              "0   offspring       35511                        0.593284\n",
              "1        diet       24360                        0.406984\n",
              "2    religion       20192                        0.337349\n",
              "3        pets       19888                        0.332270\n",
              "4      essay8       19202                        0.320809\n",
              "5       drugs       14057                        0.234851\n",
              "6      essay6       13757                        0.229839\n",
              "7      essay9       12591                        0.210358\n",
              "8      essay7       12433                        0.207719\n",
              "9      essay3       11463                        0.191513\n",
              "10       sign       11037                        0.184396\n",
              "11     essay5       10831                        0.180954\n",
              "12     essay4       10523                        0.175808\n",
              "13     essay2        9626                        0.160822\n",
              "14        job        8182                        0.136697\n",
              "15     essay1        7563                        0.126355\n",
              "16  education        6619                        0.110584\n",
              "17  ethnicity        5674                        0.094796\n",
              "18     smokes        5505                        0.091972\n",
              "19     essay0        5483                        0.091605\n",
              "20  body_type        5289                        0.088364\n",
              "21     drinks        2980                        0.049787"
            ]
          },
          "metadata": {
            "tags": []
          },
          "execution_count": 65
        }
      ]
    },
    {
      "cell_type": "code",
      "metadata": {
        "id": "6L38k3EEWrpi"
      },
      "source": [
        "# unique_language_dict = {}\n",
        "# for response in df_copy['speaks']:"
      ],
      "execution_count": 66,
      "outputs": []
    },
    {
      "cell_type": "markdown",
      "metadata": {
        "id": "zYvWeIka7uQr"
      },
      "source": [
        "### Drinks"
      ]
    },
    {
      "cell_type": "code",
      "metadata": {
        "colab": {
          "base_uri": "https://localhost:8080/"
        },
        "id": "erQ0I8w97u0S",
        "outputId": "387c45d8-1096-4be0-b21e-07b42072556d"
      },
      "source": [
        "df_copy['drinks'].value_counts()"
      ],
      "execution_count": 67,
      "outputs": [
        {
          "output_type": "execute_result",
          "data": {
            "text/plain": [
              "socially       41718\n",
              "rarely          5947\n",
              "often           5156\n",
              "not at all      3263\n",
              "very often       470\n",
              "desperately      321\n",
              "Name: drinks, dtype: int64"
            ]
          },
          "metadata": {
            "tags": []
          },
          "execution_count": 67
        }
      ]
    },
    {
      "cell_type": "code",
      "metadata": {
        "id": "dFLHPwlK8XVr"
      },
      "source": [
        "# Assumption: if no value is given then assume they are not fond of drinking\n",
        "df_copy['drinks'].fillna('not at all', inplace = True)"
      ],
      "execution_count": 68,
      "outputs": []
    },
    {
      "cell_type": "code",
      "metadata": {
        "id": "sYMZw0dj_46Q"
      },
      "source": [
        "drink_mapping = {\"not at all\": 0, \n",
        "                 \"rarely\": 1, \n",
        "                 \"socially\": 2, \n",
        "                 \"often\": 3, \n",
        "                 \"very often\": 4, \n",
        "                 \"desperately\": 5}\n",
        "\n",
        "df_copy[\"drinks\"] = df_copy.drinks.map(drink_mapping).astype(int)"
      ],
      "execution_count": 69,
      "outputs": []
    },
    {
      "cell_type": "code",
      "metadata": {
        "colab": {
          "base_uri": "https://localhost:8080/"
        },
        "id": "j22isOz5_Xb-",
        "outputId": "74a2a1f3-e287-400a-c99c-de0fe1c4e016"
      },
      "source": [
        "feats_to_explore.pop(2)\n",
        "draw_missing_data_table(df_copy[feats_to_explore])"
      ],
      "execution_count": 70,
      "outputs": [
        {
          "output_type": "execute_result",
          "data": {
            "text/html": [
              "<div>\n",
              "<style scoped>\n",
              "    .dataframe tbody tr th:only-of-type {\n",
              "        vertical-align: middle;\n",
              "    }\n",
              "\n",
              "    .dataframe tbody tr th {\n",
              "        vertical-align: top;\n",
              "    }\n",
              "\n",
              "    .dataframe thead th {\n",
              "        text-align: right;\n",
              "    }\n",
              "</style>\n",
              "<table border=\"1\" class=\"dataframe\">\n",
              "  <thead>\n",
              "    <tr style=\"text-align: right;\">\n",
              "      <th></th>\n",
              "      <th>feature</th>\n",
              "      <th>total null</th>\n",
              "      <th>% of null values in the column</th>\n",
              "    </tr>\n",
              "  </thead>\n",
              "  <tbody>\n",
              "    <tr>\n",
              "      <th>0</th>\n",
              "      <td>offspring</td>\n",
              "      <td>35511</td>\n",
              "      <td>0.593284</td>\n",
              "    </tr>\n",
              "    <tr>\n",
              "      <th>1</th>\n",
              "      <td>diet</td>\n",
              "      <td>24360</td>\n",
              "      <td>0.406984</td>\n",
              "    </tr>\n",
              "    <tr>\n",
              "      <th>2</th>\n",
              "      <td>religion</td>\n",
              "      <td>20192</td>\n",
              "      <td>0.337349</td>\n",
              "    </tr>\n",
              "    <tr>\n",
              "      <th>3</th>\n",
              "      <td>pets</td>\n",
              "      <td>19888</td>\n",
              "      <td>0.332270</td>\n",
              "    </tr>\n",
              "    <tr>\n",
              "      <th>4</th>\n",
              "      <td>essay8</td>\n",
              "      <td>19202</td>\n",
              "      <td>0.320809</td>\n",
              "    </tr>\n",
              "    <tr>\n",
              "      <th>5</th>\n",
              "      <td>drugs</td>\n",
              "      <td>14057</td>\n",
              "      <td>0.234851</td>\n",
              "    </tr>\n",
              "    <tr>\n",
              "      <th>6</th>\n",
              "      <td>essay6</td>\n",
              "      <td>13757</td>\n",
              "      <td>0.229839</td>\n",
              "    </tr>\n",
              "    <tr>\n",
              "      <th>7</th>\n",
              "      <td>essay9</td>\n",
              "      <td>12591</td>\n",
              "      <td>0.210358</td>\n",
              "    </tr>\n",
              "    <tr>\n",
              "      <th>8</th>\n",
              "      <td>essay7</td>\n",
              "      <td>12433</td>\n",
              "      <td>0.207719</td>\n",
              "    </tr>\n",
              "    <tr>\n",
              "      <th>9</th>\n",
              "      <td>essay3</td>\n",
              "      <td>11463</td>\n",
              "      <td>0.191513</td>\n",
              "    </tr>\n",
              "    <tr>\n",
              "      <th>10</th>\n",
              "      <td>sign</td>\n",
              "      <td>11037</td>\n",
              "      <td>0.184396</td>\n",
              "    </tr>\n",
              "    <tr>\n",
              "      <th>11</th>\n",
              "      <td>essay5</td>\n",
              "      <td>10831</td>\n",
              "      <td>0.180954</td>\n",
              "    </tr>\n",
              "    <tr>\n",
              "      <th>12</th>\n",
              "      <td>essay4</td>\n",
              "      <td>10523</td>\n",
              "      <td>0.175808</td>\n",
              "    </tr>\n",
              "    <tr>\n",
              "      <th>13</th>\n",
              "      <td>essay2</td>\n",
              "      <td>9626</td>\n",
              "      <td>0.160822</td>\n",
              "    </tr>\n",
              "    <tr>\n",
              "      <th>14</th>\n",
              "      <td>job</td>\n",
              "      <td>8182</td>\n",
              "      <td>0.136697</td>\n",
              "    </tr>\n",
              "    <tr>\n",
              "      <th>15</th>\n",
              "      <td>essay1</td>\n",
              "      <td>7563</td>\n",
              "      <td>0.126355</td>\n",
              "    </tr>\n",
              "    <tr>\n",
              "      <th>16</th>\n",
              "      <td>education</td>\n",
              "      <td>6619</td>\n",
              "      <td>0.110584</td>\n",
              "    </tr>\n",
              "    <tr>\n",
              "      <th>17</th>\n",
              "      <td>ethnicity</td>\n",
              "      <td>5674</td>\n",
              "      <td>0.094796</td>\n",
              "    </tr>\n",
              "    <tr>\n",
              "      <th>18</th>\n",
              "      <td>smokes</td>\n",
              "      <td>5505</td>\n",
              "      <td>0.091972</td>\n",
              "    </tr>\n",
              "    <tr>\n",
              "      <th>19</th>\n",
              "      <td>essay0</td>\n",
              "      <td>5483</td>\n",
              "      <td>0.091605</td>\n",
              "    </tr>\n",
              "    <tr>\n",
              "      <th>20</th>\n",
              "      <td>body_type</td>\n",
              "      <td>5289</td>\n",
              "      <td>0.088364</td>\n",
              "    </tr>\n",
              "  </tbody>\n",
              "</table>\n",
              "</div>"
            ],
            "text/plain": [
              "      feature  total null  % of null values in the column\n",
              "0   offspring       35511                        0.593284\n",
              "1        diet       24360                        0.406984\n",
              "2    religion       20192                        0.337349\n",
              "3        pets       19888                        0.332270\n",
              "4      essay8       19202                        0.320809\n",
              "5       drugs       14057                        0.234851\n",
              "6      essay6       13757                        0.229839\n",
              "7      essay9       12591                        0.210358\n",
              "8      essay7       12433                        0.207719\n",
              "9      essay3       11463                        0.191513\n",
              "10       sign       11037                        0.184396\n",
              "11     essay5       10831                        0.180954\n",
              "12     essay4       10523                        0.175808\n",
              "13     essay2        9626                        0.160822\n",
              "14        job        8182                        0.136697\n",
              "15     essay1        7563                        0.126355\n",
              "16  education        6619                        0.110584\n",
              "17  ethnicity        5674                        0.094796\n",
              "18     smokes        5505                        0.091972\n",
              "19     essay0        5483                        0.091605\n",
              "20  body_type        5289                        0.088364"
            ]
          },
          "metadata": {
            "tags": []
          },
          "execution_count": 70
        }
      ]
    },
    {
      "cell_type": "markdown",
      "metadata": {
        "id": "vT9Yld2B_UKv"
      },
      "source": [
        "### Body Type"
      ]
    },
    {
      "cell_type": "code",
      "metadata": {
        "colab": {
          "base_uri": "https://localhost:8080/"
        },
        "id": "emdeXyZK_U-8",
        "outputId": "4cb95278-d528-4668-ad6d-03af1c9fbb79"
      },
      "source": [
        "df_copy['body_type'].value_counts()"
      ],
      "execution_count": 71,
      "outputs": [
        {
          "output_type": "execute_result",
          "data": {
            "text/plain": [
              "average           14627\n",
              "fit               12693\n",
              "athletic          11797\n",
              "thin               4710\n",
              "curvy              3917\n",
              "a little extra     2627\n",
              "skinny             1774\n",
              "full figured       1008\n",
              "overweight          444\n",
              "jacked              418\n",
              "used up             353\n",
              "rather not say      198\n",
              "Name: body_type, dtype: int64"
            ]
          },
          "metadata": {
            "tags": []
          },
          "execution_count": 71
        }
      ]
    },
    {
      "cell_type": "code",
      "metadata": {
        "id": "Yk1s1-do_udZ"
      },
      "source": [
        "df_copy['body_type'].fillna('rather not say', inplace= True)\n",
        "df_copy = pd.concat([df_copy, pd.get_dummies(df_copy['body_type'], prefix= 'body_type_', drop_first= True)], axis = 1)\n",
        "df_copy.drop('body_type', axis = 1, inplace= True)"
      ],
      "execution_count": 72,
      "outputs": []
    },
    {
      "cell_type": "code",
      "metadata": {
        "colab": {
          "base_uri": "https://localhost:8080/"
        },
        "id": "eeP4JbKcBv5J",
        "outputId": "e7acb1c8-d117-47ca-abc6-326cb6006370"
      },
      "source": [
        "feats_to_explore.pop(0)\n",
        "draw_missing_data_table(df_copy[feats_to_explore])"
      ],
      "execution_count": 73,
      "outputs": [
        {
          "output_type": "execute_result",
          "data": {
            "text/html": [
              "<div>\n",
              "<style scoped>\n",
              "    .dataframe tbody tr th:only-of-type {\n",
              "        vertical-align: middle;\n",
              "    }\n",
              "\n",
              "    .dataframe tbody tr th {\n",
              "        vertical-align: top;\n",
              "    }\n",
              "\n",
              "    .dataframe thead th {\n",
              "        text-align: right;\n",
              "    }\n",
              "</style>\n",
              "<table border=\"1\" class=\"dataframe\">\n",
              "  <thead>\n",
              "    <tr style=\"text-align: right;\">\n",
              "      <th></th>\n",
              "      <th>feature</th>\n",
              "      <th>total null</th>\n",
              "      <th>% of null values in the column</th>\n",
              "    </tr>\n",
              "  </thead>\n",
              "  <tbody>\n",
              "    <tr>\n",
              "      <th>0</th>\n",
              "      <td>offspring</td>\n",
              "      <td>35511</td>\n",
              "      <td>0.593284</td>\n",
              "    </tr>\n",
              "    <tr>\n",
              "      <th>1</th>\n",
              "      <td>diet</td>\n",
              "      <td>24360</td>\n",
              "      <td>0.406984</td>\n",
              "    </tr>\n",
              "    <tr>\n",
              "      <th>2</th>\n",
              "      <td>religion</td>\n",
              "      <td>20192</td>\n",
              "      <td>0.337349</td>\n",
              "    </tr>\n",
              "    <tr>\n",
              "      <th>3</th>\n",
              "      <td>pets</td>\n",
              "      <td>19888</td>\n",
              "      <td>0.332270</td>\n",
              "    </tr>\n",
              "    <tr>\n",
              "      <th>4</th>\n",
              "      <td>essay8</td>\n",
              "      <td>19202</td>\n",
              "      <td>0.320809</td>\n",
              "    </tr>\n",
              "    <tr>\n",
              "      <th>5</th>\n",
              "      <td>drugs</td>\n",
              "      <td>14057</td>\n",
              "      <td>0.234851</td>\n",
              "    </tr>\n",
              "    <tr>\n",
              "      <th>6</th>\n",
              "      <td>essay6</td>\n",
              "      <td>13757</td>\n",
              "      <td>0.229839</td>\n",
              "    </tr>\n",
              "    <tr>\n",
              "      <th>7</th>\n",
              "      <td>essay9</td>\n",
              "      <td>12591</td>\n",
              "      <td>0.210358</td>\n",
              "    </tr>\n",
              "    <tr>\n",
              "      <th>8</th>\n",
              "      <td>essay7</td>\n",
              "      <td>12433</td>\n",
              "      <td>0.207719</td>\n",
              "    </tr>\n",
              "    <tr>\n",
              "      <th>9</th>\n",
              "      <td>essay3</td>\n",
              "      <td>11463</td>\n",
              "      <td>0.191513</td>\n",
              "    </tr>\n",
              "    <tr>\n",
              "      <th>10</th>\n",
              "      <td>sign</td>\n",
              "      <td>11037</td>\n",
              "      <td>0.184396</td>\n",
              "    </tr>\n",
              "    <tr>\n",
              "      <th>11</th>\n",
              "      <td>essay5</td>\n",
              "      <td>10831</td>\n",
              "      <td>0.180954</td>\n",
              "    </tr>\n",
              "    <tr>\n",
              "      <th>12</th>\n",
              "      <td>essay4</td>\n",
              "      <td>10523</td>\n",
              "      <td>0.175808</td>\n",
              "    </tr>\n",
              "    <tr>\n",
              "      <th>13</th>\n",
              "      <td>essay2</td>\n",
              "      <td>9626</td>\n",
              "      <td>0.160822</td>\n",
              "    </tr>\n",
              "    <tr>\n",
              "      <th>14</th>\n",
              "      <td>job</td>\n",
              "      <td>8182</td>\n",
              "      <td>0.136697</td>\n",
              "    </tr>\n",
              "    <tr>\n",
              "      <th>15</th>\n",
              "      <td>essay1</td>\n",
              "      <td>7563</td>\n",
              "      <td>0.126355</td>\n",
              "    </tr>\n",
              "    <tr>\n",
              "      <th>16</th>\n",
              "      <td>education</td>\n",
              "      <td>6619</td>\n",
              "      <td>0.110584</td>\n",
              "    </tr>\n",
              "    <tr>\n",
              "      <th>17</th>\n",
              "      <td>ethnicity</td>\n",
              "      <td>5674</td>\n",
              "      <td>0.094796</td>\n",
              "    </tr>\n",
              "    <tr>\n",
              "      <th>18</th>\n",
              "      <td>smokes</td>\n",
              "      <td>5505</td>\n",
              "      <td>0.091972</td>\n",
              "    </tr>\n",
              "    <tr>\n",
              "      <th>19</th>\n",
              "      <td>essay0</td>\n",
              "      <td>5483</td>\n",
              "      <td>0.091605</td>\n",
              "    </tr>\n",
              "  </tbody>\n",
              "</table>\n",
              "</div>"
            ],
            "text/plain": [
              "      feature  total null  % of null values in the column\n",
              "0   offspring       35511                        0.593284\n",
              "1        diet       24360                        0.406984\n",
              "2    religion       20192                        0.337349\n",
              "3        pets       19888                        0.332270\n",
              "4      essay8       19202                        0.320809\n",
              "5       drugs       14057                        0.234851\n",
              "6      essay6       13757                        0.229839\n",
              "7      essay9       12591                        0.210358\n",
              "8      essay7       12433                        0.207719\n",
              "9      essay3       11463                        0.191513\n",
              "10       sign       11037                        0.184396\n",
              "11     essay5       10831                        0.180954\n",
              "12     essay4       10523                        0.175808\n",
              "13     essay2        9626                        0.160822\n",
              "14        job        8182                        0.136697\n",
              "15     essay1        7563                        0.126355\n",
              "16  education        6619                        0.110584\n",
              "17  ethnicity        5674                        0.094796\n",
              "18     smokes        5505                        0.091972\n",
              "19     essay0        5483                        0.091605"
            ]
          },
          "metadata": {
            "tags": []
          },
          "execution_count": 73
        }
      ]
    },
    {
      "cell_type": "markdown",
      "metadata": {
        "id": "9-Mhi3hN_vnC"
      },
      "source": [
        "### Smokes"
      ]
    },
    {
      "cell_type": "code",
      "metadata": {
        "colab": {
          "base_uri": "https://localhost:8080/"
        },
        "id": "xQR_LZ0aC4Z4",
        "outputId": "43a55c46-e588-46db-bd6c-c2925f5cebaf"
      },
      "source": [
        "df_copy['smokes'].value_counts().plot(kind = 'pie')"
      ],
      "execution_count": null,
      "outputs": [
        {
          "output_type": "execute_result",
          "data": {
            "text/plain": [
              "<matplotlib.axes._subplots.AxesSubplot at 0x7fad76120a50>"
            ]
          },
          "metadata": {
            "tags": []
          },
          "execution_count": 74
        }
      ]
    },
    {
      "cell_type": "code",
      "metadata": {
        "id": "OIKmXMN3C4Et"
      },
      "source": [
        "#If a respondent didn't care to fill this question out, safe to assume that they do NOT smoke\n",
        "df_copy['smokes'].fillna('no', inplace = True)\n",
        "df_copy = pd.concat([df_copy, pd.get_dummies(df_copy['smokes'], drop_first= True, prefix= 'smokes_')], axis = 1)"
      ],
      "execution_count": null,
      "outputs": []
    },
    {
      "cell_type": "code",
      "metadata": {
        "id": "fU4EfeodEVeD"
      },
      "source": [
        "df_copy.head()"
      ],
      "execution_count": null,
      "outputs": []
    },
    {
      "cell_type": "code",
      "metadata": {
        "id": "Wts_0k7sEIT_"
      },
      "source": [
        "feats_to_explore.pop(-1)\n",
        "draw_missing_data_table(df_copy[feats_to_explore])"
      ],
      "execution_count": null,
      "outputs": []
    },
    {
      "cell_type": "markdown",
      "metadata": {
        "id": "ThYVLGOBErb2"
      },
      "source": [
        "### Ethnicity"
      ]
    },
    {
      "cell_type": "code",
      "metadata": {
        "id": "KOSgUPGqEsYx"
      },
      "source": [
        "df_copy['ethnicity'].value_counts().head(10).plot(kind = 'pie')"
      ],
      "execution_count": null,
      "outputs": []
    },
    {
      "cell_type": "code",
      "metadata": {
        "id": "XbcOFkkYEs8b"
      },
      "source": [
        "df_copy['ethnicity'].nunique()"
      ],
      "execution_count": null,
      "outputs": []
    },
    {
      "cell_type": "code",
      "metadata": {
        "id": "b9bnpBtOEw0C"
      },
      "source": [
        "df_copy['ethnicity'].head(10)"
      ],
      "execution_count": null,
      "outputs": []
    },
    {
      "cell_type": "markdown",
      "metadata": {
        "id": "riSeYJgLIx7A"
      },
      "source": [
        "*  *fillna as \"white\" - experiment 1\n",
        "*  *fillna between \"white | asian | black - experiment 2\n",
        "\n"
      ]
    },
    {
      "cell_type": "code",
      "metadata": {
        "id": "ttn1B7q2Jbte"
      },
      "source": [
        "df_copy['ethnicity'].fillna('white', inplace= True)"
      ],
      "execution_count": null,
      "outputs": []
    },
    {
      "cell_type": "code",
      "metadata": {
        "id": "_hWap7PZFG3G"
      },
      "source": [
        "race_table = df_copy['ethnicity'].str.split(', ', expand = True)\n",
        "race_table['multiracial'] = race_table.apply(lambda x: 9 - sum(x.isnull().values), axis =1)\n",
        "race_table"
      ],
      "execution_count": null,
      "outputs": []
    },
    {
      "cell_type": "code",
      "metadata": {
        "id": "f-NxFQiZKXOe"
      },
      "source": [
        "df_copy = pd.concat([df_copy, race_table['multiracial']], axis= 1)"
      ],
      "execution_count": null,
      "outputs": []
    },
    {
      "cell_type": "code",
      "metadata": {
        "id": "IXVSD8peKitn"
      },
      "source": [
        "feats_to_explore.pop(-6)\n",
        "draw_missing_data_table(df_copy[feats_to_explore])"
      ],
      "execution_count": null,
      "outputs": []
    },
    {
      "cell_type": "markdown",
      "metadata": {
        "id": "C6CUrQ6MEzLv"
      },
      "source": [
        "### Education"
      ]
    },
    {
      "cell_type": "code",
      "metadata": {
        "id": "SsDqEkf5E1IZ"
      },
      "source": [
        "df_copy['education'].value_counts()"
      ],
      "execution_count": null,
      "outputs": []
    },
    {
      "cell_type": "code",
      "metadata": {
        "id": "n1bzKEHUDCD0"
      },
      "source": [
        "edu_table = df_copy['education'].str.split(' ', expand = True)\n",
        "edu_table[0].value_counts()"
      ],
      "execution_count": null,
      "outputs": []
    },
    {
      "cell_type": "code",
      "metadata": {
        "id": "lGa78zqDDh1F"
      },
      "source": [
        "edustatus_mapping = {'graduated': 'edu_status_graduated', 'working': 'edu_status_working', 'dropped':'edu_status_dropped',\n",
        "               'college/university': 'edu_status_unknown', 'two-year': 'edu_status_unknown', 'masters': 'edu_status_unknown', \n",
        "               'high':'edu_status_unknown', 'space':'edu_status_unknown', 'ph.d': 'edu_status_unknown', 'law':'edu_status_unknown', 'med':'edu_status_unknown'}\n",
        "edu_table['edu_status'] = edu_table[0].map(edustatus_mapping)\n",
        "edu_table['edu_status'].fillna('edu_status_unknown', inplace=True)"
      ],
      "execution_count": null,
      "outputs": []
    },
    {
      "cell_type": "code",
      "metadata": {
        "id": "ICaFKsTzHZiT"
      },
      "source": [
        "edu_table['edu_status'].value_counts()"
      ],
      "execution_count": null,
      "outputs": []
    },
    {
      "cell_type": "code",
      "metadata": {
        "id": "Ty5JTTcjH5X4"
      },
      "source": [
        "df_copy = pd.concat([df_copy, pd.get_dummies(edu_table['edu_status'], drop_first= True).astype(bool)], axis =1)\n",
        "df_copy.drop('education', axis=1, inplace = True)"
      ],
      "execution_count": null,
      "outputs": []
    },
    {
      "cell_type": "code",
      "metadata": {
        "id": "8GvyYjg1nCjf"
      },
      "source": [
        "feats_to_explore.pop(2)\n",
        "draw_missing_data_table(df_copy[feats_to_explore])"
      ],
      "execution_count": null,
      "outputs": []
    },
    {
      "cell_type": "markdown",
      "metadata": {
        "id": "ZHRkZkWqPSlx"
      },
      "source": [
        "Create 2 new feature columns:\n",
        "- Education Status (experiment 1)\n",
        "    - graduated\n",
        "    - working\n",
        "    - dropped out\n",
        "    - \"unspecified\"\n",
        "- Education Affiliation (experiment 2)\n",
        "    - College/University\n",
        "    - Masters\n",
        "    - ph.d\n",
        "    - high school\n",
        "    - space camp\n",
        "    - two year college\n",
        "    - not mentioned"
      ]
    },
    {
      "cell_type": "markdown",
      "metadata": {
        "id": "LFMgV4HMQ_DC"
      },
      "source": [
        "\n",
        "### Job"
      ]
    },
    {
      "cell_type": "code",
      "metadata": {
        "id": "YnnauObmQ-mF"
      },
      "source": [
        "df_copy['job'].value_counts()"
      ],
      "execution_count": null,
      "outputs": []
    },
    {
      "cell_type": "code",
      "metadata": {
        "id": "zrHkG8lypG4f"
      },
      "source": [
        "df_copy['job'].fillna('rather not say', inplace = True)\n",
        "df_copy = pd.concat([df_copy, pd.get_dummies(df_copy['job'], prefix = '_job',drop_first= True).astype(bool)], axis =1)\n",
        "df_copy.drop('job', axis=1, inplace = True)\n",
        "df_copy.head()"
      ],
      "execution_count": null,
      "outputs": []
    },
    {
      "cell_type": "code",
      "metadata": {
        "id": "QyFZH01Ev4Jj"
      },
      "source": [
        "feats_to_explore.pop(-5)\n",
        "draw_missing_data_table(df_copy[feats_to_explore])"
      ],
      "execution_count": null,
      "outputs": []
    },
    {
      "cell_type": "markdown",
      "metadata": {
        "id": "PxFMewaURBp5"
      },
      "source": [
        "### Sign"
      ]
    },
    {
      "cell_type": "code",
      "metadata": {
        "id": "idGBf2VBRCMV"
      },
      "source": [
        "df_copy['sign'] = df_copy['sign'].str.replace('&rsquo;', \"'\")"
      ],
      "execution_count": null,
      "outputs": []
    },
    {
      "cell_type": "code",
      "metadata": {
        "id": "FWYvn12X2Yvr"
      },
      "source": [
        "df_copy['stripped_signs'] = df_copy['sign'].str.split(' ', expand =True)[0]"
      ],
      "execution_count": null,
      "outputs": []
    },
    {
      "cell_type": "code",
      "metadata": {
        "id": "oC8gxsz0Cmva"
      },
      "source": [
        "df_copy['stripped_signs'].value_counts().plot(kind = 'barh')"
      ],
      "execution_count": null,
      "outputs": []
    },
    {
      "cell_type": "code",
      "metadata": {
        "id": "Fk8LtNeMHV9W"
      },
      "source": [
        "df_copy['stripped_signs'] = df_copy['stripped_signs'].fillna(method = 'ffill')"
      ],
      "execution_count": null,
      "outputs": []
    },
    {
      "cell_type": "code",
      "metadata": {
        "id": "Rzc1ENZI1Kt0"
      },
      "source": [
        "sign_table = df_copy['sign'].str.split(' ', 1, expand =True)\n",
        "sign_table[1].fillna(\"but it doesn't matter\", inplace = True)\n",
        "sign_table[1].value_counts()"
      ],
      "execution_count": null,
      "outputs": []
    },
    {
      "cell_type": "code",
      "metadata": {
        "id": "3R-pD74K_dGD"
      },
      "source": [
        "df_copy['sign_matters'] = sign_table[1] \n",
        "df_copy= pd.concat([df_copy, pd.get_dummies(df_copy['sign_matters'], prefix = '_sign', drop_first= True).astype(bool)], axis =1)\n",
        "df_copy= pd.concat([df_copy, pd.get_dummies(df_copy['stripped_signs'], prefix = 'sign', drop_first= True).astype(bool)], axis =1)\n",
        "df_copy.drop('sign', axis=1, inplace= True)"
      ],
      "execution_count": null,
      "outputs": []
    },
    {
      "cell_type": "code",
      "metadata": {
        "id": "ibRPGb3TIkLn"
      },
      "source": [
        "feats_to_explore.pop(-1)\n",
        "draw_missing_data_table(df_copy[feats_to_explore])"
      ],
      "execution_count": null,
      "outputs": []
    },
    {
      "cell_type": "markdown",
      "metadata": {
        "id": "2x99_j4LRPEq"
      },
      "source": [
        "### Drugs"
      ]
    },
    {
      "cell_type": "code",
      "metadata": {
        "id": "BDlTiJN1RPy3"
      },
      "source": [
        "df_copy.drugs.value_counts()\n",
        "df_copy['drugs'].fillna('unreported', inplace = True)"
      ],
      "execution_count": null,
      "outputs": []
    },
    {
      "cell_type": "code",
      "metadata": {
        "id": "5X1P9cnQgCgt"
      },
      "source": [
        "df_copy.drugs.value_counts()"
      ],
      "execution_count": null,
      "outputs": []
    },
    {
      "cell_type": "code",
      "metadata": {
        "id": "U54mRHaDILQA"
      },
      "source": [
        "df_copy = pd.concat([df_copy, pd.get_dummies(df_copy['drugs'], prefix= '_drugs',drop_first= True).astype(bool)], axis =1)"
      ],
      "execution_count": null,
      "outputs": []
    },
    {
      "cell_type": "code",
      "metadata": {
        "id": "MargFNsDKIHs"
      },
      "source": [
        "feats_to_explore.pop(1)\n",
        "draw_missing_data_table(df_copy[feats_to_explore])"
      ],
      "execution_count": null,
      "outputs": []
    },
    {
      "cell_type": "markdown",
      "metadata": {
        "id": "xmY7y4ItgCeQ"
      },
      "source": [
        "# Drop Features with (>30% Null values); \n",
        "\n",
        "- pets\n",
        "- religion\n",
        "- diet\n",
        "- offspring\n",
        "- **essay8**\n",
        "\n",
        "**Experiment 2**: fillna with \"unreported\" to still try to capture signal"
      ]
    },
    {
      "cell_type": "code",
      "metadata": {
        "id": "NfyNibDAOKAd"
      },
      "source": [
        "df_copy.drop(['pets', 'religion', 'diet', 'offspring', 'essay8'], axis = 1, inplace= True)"
      ],
      "execution_count": null,
      "outputs": []
    },
    {
      "cell_type": "code",
      "metadata": {
        "id": "yXytgkSAOrOW"
      },
      "source": [
        "feats_to_explore.pop(-1)\n",
        "feats_to_explore.pop(-1)\n",
        "feats_to_explore.pop(-1)\n",
        "feats_to_explore.pop(0)\n",
        "draw_missing_data_table(df_copy[feats_to_explore])"
      ],
      "execution_count": null,
      "outputs": []
    },
    {
      "cell_type": "markdown",
      "metadata": {
        "id": "OXmtKAGZQM3f"
      },
      "source": [
        "# Essay Exploration"
      ]
    },
    {
      "cell_type": "markdown",
      "metadata": {
        "id": "Qhl9nM2QV0J9"
      },
      "source": [
        "## Regex Manipulation"
      ]
    },
    {
      "cell_type": "code",
      "metadata": {
        "id": "3Nz8UWE1cVE_"
      },
      "source": [
        "# br_regex = '<br />'\n",
        "# next_line_regex = '\\\\n'\n",
        "\n",
        "# def re_replace(df, essay, expression):\n",
        "#     response_len = range(len(self.df[self.essay]))\n",
        "\n",
        "#     for index in response_len:\n",
        "#         if pd.isnull(self.df.loc[index, self.essay]):\n",
        "#             self.df.loc[index, essay] = 'Did not respond'\n",
        "#         else:\n",
        "#             self.df.loc[index, self.essay].replace(expression, ' ')"
      ],
      "execution_count": null,
      "outputs": []
    },
    {
      "cell_type": "code",
      "metadata": {
        "id": "wRYge83bChWE"
      },
      "source": [
        "# essay0_text.re_replace(expression = br_regex)"
      ],
      "execution_count": null,
      "outputs": []
    },
    {
      "cell_type": "code",
      "metadata": {
        "id": "p8UDTjkGHXpa"
      },
      "source": [
        "# essay0_text.df['essay0']"
      ],
      "execution_count": null,
      "outputs": []
    },
    {
      "cell_type": "markdown",
      "metadata": {
        "id": "nRIy-UM-_e5k"
      },
      "source": [
        "## Introducing Spacy to analyze Essay Text Features"
      ]
    },
    {
      "cell_type": "code",
      "metadata": {
        "id": "mfDbD_O2YFQU"
      },
      "source": [
        "nlp = spacy.load('en_core_web_sm')\n",
        "essay0_response_dict = {}"
      ],
      "execution_count": null,
      "outputs": []
    },
    {
      "cell_type": "markdown",
      "metadata": {
        "id": "rNg2EwQfbfLK"
      },
      "source": [
        "## NERs per essay question"
      ]
    },
    {
      "cell_type": "code",
      "metadata": {
        "id": "U64fVGE9_U3R"
      },
      "source": [
        "# #Identifying NER in Spacy\n",
        "# for index in p_bar(range(len(df_copy['essay0']))):\n",
        "#     doc = nlp(df_copy.loc[index, 'essay0'])\n",
        "#     ent_list = [ent.label_ for ent in doc.ents]\n",
        "#     essay0_response_dict[index] = ent_list"
      ],
      "execution_count": null,
      "outputs": []
    },
    {
      "cell_type": "code",
      "metadata": {
        "id": "NrCWOTts5Q2y"
      },
      "source": [
        "df_copy['essay0'][0]"
      ],
      "execution_count": null,
      "outputs": []
    },
    {
      "cell_type": "code",
      "metadata": {
        "id": "_i4kh_8pxwHO"
      },
      "source": [
        "# for response in df_copy['essay0'].head():\n",
        "#     response = response.replace('<br />', ' ')\n",
        "\n",
        "#     print(response)"
      ],
      "execution_count": null,
      "outputs": []
    },
    {
      "cell_type": "markdown",
      "metadata": {
        "id": "Qr3EJCNPgCdD"
      },
      "source": [
        "**Summary**: There is missing data in *many* columns"
      ]
    }
  ]
}