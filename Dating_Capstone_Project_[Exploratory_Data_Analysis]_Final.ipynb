{
  "nbformat": 4,
  "nbformat_minor": 0,
  "metadata": {
    "kernelspec": {
      "display_name": "Python 3",
      "language": "python",
      "name": "python3"
    },
    "language_info": {
      "codemirror_mode": {
        "name": "ipython",
        "version": 3
      },
      "file_extension": ".py",
      "mimetype": "text/x-python",
      "name": "python",
      "nbconvert_exporter": "python",
      "pygments_lexer": "ipython3",
      "version": "3.7.6"
    },
    "colab": {
      "name": "Dating_Capstone_Project [Exploratory Data Analysis]-Final.ipynb",
      "provenance": [],
      "collapsed_sections": [
        "8SM9SAIagCdH",
        "Uw6HiwkG78ep",
        "JUj8xOB27_hh",
        "v51rF19k8Jgp"
      ],
      "include_colab_link": true
    }
  },
  "cells": [
    {
      "cell_type": "markdown",
      "metadata": {
        "id": "view-in-github",
        "colab_type": "text"
      },
      "source": [
        "<a href=\"https://colab.research.google.com/github/siddley1001/CodeCademy-Capstone-Project/blob/master/Dating_Capstone_Project_%5BExploratory_Data_Analysis%5D_Final.ipynb\" target=\"_parent\"><img src=\"https://colab.research.google.com/assets/colab-badge.svg\" alt=\"Open In Colab\"/></a>"
      ]
    },
    {
      "cell_type": "markdown",
      "metadata": {
        "id": "e4aempOngCcK"
      },
      "source": [
        "# Import relevant libraries"
      ]
    },
    {
      "cell_type": "code",
      "metadata": {
        "id": "qRwBmnVrgCcN"
      },
      "source": [
        "import pandas as pd\n",
        "import matplotlib.pyplot as plt\n",
        "import seaborn as sns\n",
        "import numpy as np\n",
        "from datetime import datetime\n",
        "import re\n",
        "from sortedcontainers import SortedDict\n",
        "\n",
        "%matplotlib inline\n",
        "\n",
        "# import missingno as msno"
      ],
      "execution_count": 1,
      "outputs": []
    },
    {
      "cell_type": "code",
      "metadata": {
        "id": "JRB-0tmvai5E",
        "outputId": "06cc91c6-14bf-4dce-e597-d3f475fde3cf",
        "colab": {
          "base_uri": "https://localhost:8080/"
        }
      },
      "source": [
        "from google.colab import drive\n",
        "drive.mount('/content/drive')"
      ],
      "execution_count": 2,
      "outputs": [
        {
          "output_type": "stream",
          "text": [
            "Drive already mounted at /content/drive; to attempt to forcibly remount, call drive.mount(\"/content/drive\", force_remount=True).\n"
          ],
          "name": "stdout"
        }
      ]
    },
    {
      "cell_type": "markdown",
      "metadata": {
        "id": "Vu4T03-YgCcX"
      },
      "source": [
        "# Create Helper Functions"
      ]
    },
    {
      "cell_type": "code",
      "metadata": {
        "id": "P3mBVnJAgCcY"
      },
      "source": [
        "def map_colors(df, keyword):\n",
        "    '''Creates a color dictionary based on keyword in dataframe features'''\n",
        "    color_map = {}\n",
        "    \n",
        "    for feature in df.columns:\n",
        "        if keyword in feature:\n",
        "            color_map[feature] = '#62eb96' #emerald green for essay colors\n",
        "        else:\n",
        "            color_map[feature] = '#eb62b7' #pink otherwise\n",
        "    return color_map\n",
        "\n",
        "def draw_missing_data_table(df):\n",
        "    ''' Returns a table of % missing from each feature column in the input dataframe'''\n",
        "    total = df.isnull().sum().sort_values(ascending = False)\n",
        "    percent = (df.isnull().sum()/ df.isnull().count()).sort_values(ascending = False)\n",
        "    missing_data = pd.concat([total, percent], axis = 1, keys = ['Total','Percent Missing'])\n",
        "    final_missing = missing_data.reset_index().rename(columns = \n",
        "                                                      {'index': 'feature', \n",
        "                                                       'Total': 'total null', \n",
        "                                                       'Percent Missing': '% of null values in the column'})\n",
        "    return final_missing\n",
        "\n",
        "def plot_viz(df, feature, barh = True, ascending = True, figsize = (12, 5)):\n",
        "    ''' Returns barplot of the feature's value counts from its respective dataframe\n",
        "    --------------------------------------------------------------------------------\n",
        "    Params\n",
        "    - barh: Returns either a horizontal or vertical bar plots\n",
        "    - ascending: Adjusts how values are ordered in the plot\n",
        "    - figsize: Adjusts the Size of the plot\n",
        "    '''\n",
        "    df[feature].value_counts(ascending = ascending).plot(kind = 'barh', figsize = figsize)\n",
        "    \n",
        "    plt.title('Survey Responses of the ' + feature + ' feature')\n",
        "    plt.xlabel('Survey Counts')\n",
        "    plt.ylabel(feature + 's')\n",
        "\n",
        "    if barh == False:\n",
        "        df[feature].value_counts(ascending = ascending).plot(kind = 'bar', figsize = figsize)\n",
        "        \n",
        "        plt.title('Survey Responses of ' + feature + ' feature')\n",
        "        plt.xlabel(feature + 's')\n",
        "        plt.ylabel('Survey Counts')"
      ],
      "execution_count": 3,
      "outputs": []
    },
    {
      "cell_type": "code",
      "metadata": {
        "id": "zUv2SdOZgCcb"
      },
      "source": [
        "def countFreq(list):\n",
        "    freq_dic = {}\n",
        "    for hour in list:\n",
        "        freq_dic[hour] = list.count(hour)\n",
        "    return(freq_dic)"
      ],
      "execution_count": 4,
      "outputs": []
    },
    {
      "cell_type": "markdown",
      "metadata": {
        "id": "bnHMYhqAgCce"
      },
      "source": [
        "# Load data from CSV"
      ]
    },
    {
      "cell_type": "code",
      "metadata": {
        "id": "T739jg2ugCch"
      },
      "source": [
        "#Make a copy of the dataset so we have all the original information as we manipulate columns and values\n",
        "PATH = '/content/drive/My Drive/Dating Capstone Project/'\n",
        "df = pd.read_csv(PATH + 'data/profiles.csv')\n",
        "\n",
        "#Leave the original data untouched\n",
        "df_copy = df.copy()"
      ],
      "execution_count": 5,
      "outputs": []
    },
    {
      "cell_type": "markdown",
      "metadata": {
        "id": "9WBX_rGBBfJd"
      },
      "source": [
        "# **Objective**: Determine the sex of the survey respondant based on text data and other relevant features."
      ]
    },
    {
      "cell_type": "markdown",
      "metadata": {
        "id": "2JmNR6uLgCcl"
      },
      "source": [
        "### Understand the Distribution of the Target Feature"
      ]
    },
    {
      "cell_type": "code",
      "metadata": {
        "id": "C_gyfkFnAJWQ",
        "outputId": "5f6d06fa-be9a-4273-9490-f1bd69da2250",
        "colab": {
          "base_uri": "https://localhost:8080/"
        }
      },
      "source": [
        "df_copy['sex'].value_counts()"
      ],
      "execution_count": 6,
      "outputs": [
        {
          "output_type": "execute_result",
          "data": {
            "text/plain": [
              "m    35829\n",
              "f    24117\n",
              "Name: sex, dtype: int64"
            ]
          },
          "metadata": {
            "tags": []
          },
          "execution_count": 6
        }
      ]
    },
    {
      "cell_type": "code",
      "metadata": {
        "id": "kRYDfhVNFqLW",
        "outputId": "dc61cf3c-3796-4742-df36-c17b49cfc3d6",
        "colab": {
          "base_uri": "https://localhost:8080/",
          "height": 350
        }
      },
      "source": [
        "plot_viz(df_copy, 'sex')"
      ],
      "execution_count": 7,
      "outputs": [
        {
          "output_type": "display_data",
          "data": {
            "image/png": "[encoded data removed]",
            "text/plain": [
              "<Figure size 864x360 with 1 Axes>"
            ]
          },
          "metadata": {
            "tags": [],
            "needs_background": "light"
          }
        }
      ]
    },
    {
      "cell_type": "markdown",
      "metadata": {
        "id": "uciGsHuuDYqW"
      },
      "source": [
        "# Understand the Data\n",
        "- *Total*: shape, missing data, data types\n",
        "- *Split*: essay and non-essay features\n",
        "- *Distributions* for the features\n",
        "- *Plans* for transforming feature to feed into a Classification model"
      ]
    },
    {
      "cell_type": "markdown",
      "metadata": {
        "id": "iLETV-7RPDdt"
      },
      "source": [
        "## Initial EDA"
      ]
    },
    {
      "cell_type": "code",
      "metadata": {
        "id": "9BtS7m-5gCcv",
        "outputId": "6d5bd031-e1ed-4409-bf39-dc600ee06b3c",
        "colab": {
          "base_uri": "https://localhost:8080/"
        }
      },
      "source": [
        "df_copy.shape"
      ],
      "execution_count": 8,
      "outputs": [
        {
          "output_type": "execute_result",
          "data": {
            "text/plain": [
              "(59946, 31)"
            ]
          },
          "metadata": {
            "tags": []
          },
          "execution_count": 8
        }
      ]
    },
    {
      "cell_type": "markdown",
      "metadata": {
        "id": "as7qkt80gCc6"
      },
      "source": [
        "**Summary**: Almost 60,000 observations!"
      ]
    },
    {
      "cell_type": "code",
      "metadata": {
        "scrolled": false,
        "id": "KRVv4PVRgCc7",
        "outputId": "0dd0bb15-8432-4c94-89d6-ed7f51019aa0",
        "colab": {
          "base_uri": "https://localhost:8080/",
          "height": 708
        }
      },
      "source": [
        "df_copy.head()"
      ],
      "execution_count": 9,
      "outputs": [
        {
          "output_type": "execute_result",
          "data": {
            "text/html": [
              "<div>\n",
              "<style scoped>\n",
              "    .dataframe tbody tr th:only-of-type {\n",
              "        vertical-align: middle;\n",
              "    }\n",
              "\n",
              "    .dataframe tbody tr th {\n",
              "        vertical-align: top;\n",
              "    }\n",
              "\n",
              "    .dataframe thead th {\n",
              "        text-align: right;\n",
              "    }\n",
              "</style>\n",
              "<table border=\"1\" class=\"dataframe\">\n",
              "  <thead>\n",
              "    <tr style=\"text-align: right;\">\n",
              "      <th></th>\n",
              "      <th>age</th>\n",
              "      <th>body_type</th>\n",
              "      <th>diet</th>\n",
              "      <th>drinks</th>\n",
              "      <th>drugs</th>\n",
              "      <th>education</th>\n",
              "      <th>essay0</th>\n",
              "      <th>essay1</th>\n",
              "      <th>essay2</th>\n",
              "      <th>essay3</th>\n",
              "      <th>essay4</th>\n",
              "      <th>essay5</th>\n",
              "      <th>essay6</th>\n",
              "      <th>essay7</th>\n",
              "      <th>essay8</th>\n",
              "      <th>essay9</th>\n",
              "      <th>ethnicity</th>\n",
              "      <th>height</th>\n",
              "      <th>income</th>\n",
              "      <th>job</th>\n",
              "      <th>last_online</th>\n",
              "      <th>location</th>\n",
              "      <th>offspring</th>\n",
              "      <th>orientation</th>\n",
              "      <th>pets</th>\n",
              "      <th>religion</th>\n",
              "      <th>sex</th>\n",
              "      <th>sign</th>\n",
              "      <th>smokes</th>\n",
              "      <th>speaks</th>\n",
              "      <th>status</th>\n",
              "    </tr>\n",
              "  </thead>\n",
              "  <tbody>\n",
              "    <tr>\n",
              "      <th>0</th>\n",
              "      <td>22</td>\n",
              "      <td>a little extra</td>\n",
              "      <td>strictly anything</td>\n",
              "      <td>socially</td>\n",
              "      <td>never</td>\n",
              "      <td>working on college/university</td>\n",
              "      <td>about me:&lt;br /&gt;\\n&lt;br /&gt;\\ni would love to think...</td>\n",
              "      <td>currently working as an international agent fo...</td>\n",
              "      <td>making people laugh.&lt;br /&gt;\\nranting about a go...</td>\n",
              "      <td>the way i look. i am a six foot half asian, ha...</td>\n",
              "      <td>books:&lt;br /&gt;\\nabsurdistan, the republic, of mi...</td>\n",
              "      <td>food.&lt;br /&gt;\\nwater.&lt;br /&gt;\\ncell phone.&lt;br /&gt;\\n...</td>\n",
              "      <td>duality and humorous things</td>\n",
              "      <td>trying to find someone to hang out with. i am ...</td>\n",
              "      <td>i am new to california and looking for someone...</td>\n",
              "      <td>you want to be swept off your feet!&lt;br /&gt;\\nyou...</td>\n",
              "      <td>asian, white</td>\n",
              "      <td>75.0</td>\n",
              "      <td>-1</td>\n",
              "      <td>transportation</td>\n",
              "      <td>2012-06-28-20-30</td>\n",
              "      <td>south san francisco, california</td>\n",
              "      <td>doesn&amp;rsquo;t have kids, but might want them</td>\n",
              "      <td>straight</td>\n",
              "      <td>likes dogs and likes cats</td>\n",
              "      <td>agnosticism and very serious about it</td>\n",
              "      <td>m</td>\n",
              "      <td>gemini</td>\n",
              "      <td>sometimes</td>\n",
              "      <td>english</td>\n",
              "      <td>single</td>\n",
              "    </tr>\n",
              "    <tr>\n",
              "      <th>1</th>\n",
              "      <td>35</td>\n",
              "      <td>average</td>\n",
              "      <td>mostly other</td>\n",
              "      <td>often</td>\n",
              "      <td>sometimes</td>\n",
              "      <td>working on space camp</td>\n",
              "      <td>i am a chef: this is what that means.&lt;br /&gt;\\n1...</td>\n",
              "      <td>dedicating everyday to being an unbelievable b...</td>\n",
              "      <td>being silly. having ridiculous amonts of fun w...</td>\n",
              "      <td>NaN</td>\n",
              "      <td>i am die hard christopher moore fan. i don't r...</td>\n",
              "      <td>delicious porkness in all of its glories.&lt;br /...</td>\n",
              "      <td>NaN</td>\n",
              "      <td>NaN</td>\n",
              "      <td>i am very open and will share just about anyth...</td>\n",
              "      <td>NaN</td>\n",
              "      <td>white</td>\n",
              "      <td>70.0</td>\n",
              "      <td>80000</td>\n",
              "      <td>hospitality / travel</td>\n",
              "      <td>2012-06-29-21-41</td>\n",
              "      <td>oakland, california</td>\n",
              "      <td>doesn&amp;rsquo;t have kids, but might want them</td>\n",
              "      <td>straight</td>\n",
              "      <td>likes dogs and likes cats</td>\n",
              "      <td>agnosticism but not too serious about it</td>\n",
              "      <td>m</td>\n",
              "      <td>cancer</td>\n",
              "      <td>no</td>\n",
              "      <td>english (fluently), spanish (poorly), french (...</td>\n",
              "      <td>single</td>\n",
              "    </tr>\n",
              "    <tr>\n",
              "      <th>2</th>\n",
              "      <td>38</td>\n",
              "      <td>thin</td>\n",
              "      <td>anything</td>\n",
              "      <td>socially</td>\n",
              "      <td>NaN</td>\n",
              "      <td>graduated from masters program</td>\n",
              "      <td>i'm not ashamed of much, but writing public te...</td>\n",
              "      <td>i make nerdy software for musicians, artists, ...</td>\n",
              "      <td>improvising in different contexts. alternating...</td>\n",
              "      <td>my large jaw and large glasses are the physica...</td>\n",
              "      <td>okay this is where the cultural matrix gets so...</td>\n",
              "      <td>movement&lt;br /&gt;\\nconversation&lt;br /&gt;\\ncreation&lt;b...</td>\n",
              "      <td>NaN</td>\n",
              "      <td>viewing. listening. dancing. talking. drinking...</td>\n",
              "      <td>when i was five years old, i was known as \"the...</td>\n",
              "      <td>you are bright, open, intense, silly, ironic, ...</td>\n",
              "      <td>NaN</td>\n",
              "      <td>68.0</td>\n",
              "      <td>-1</td>\n",
              "      <td>NaN</td>\n",
              "      <td>2012-06-27-09-10</td>\n",
              "      <td>san francisco, california</td>\n",
              "      <td>NaN</td>\n",
              "      <td>straight</td>\n",
              "      <td>has cats</td>\n",
              "      <td>NaN</td>\n",
              "      <td>m</td>\n",
              "      <td>pisces but it doesn&amp;rsquo;t matter</td>\n",
              "      <td>no</td>\n",
              "      <td>english, french, c++</td>\n",
              "      <td>available</td>\n",
              "    </tr>\n",
              "    <tr>\n",
              "      <th>3</th>\n",
              "      <td>23</td>\n",
              "      <td>thin</td>\n",
              "      <td>vegetarian</td>\n",
              "      <td>socially</td>\n",
              "      <td>NaN</td>\n",
              "      <td>working on college/university</td>\n",
              "      <td>i work in a library and go to school. . .</td>\n",
              "      <td>reading things written by old dead people</td>\n",
              "      <td>playing synthesizers and organizing books acco...</td>\n",
              "      <td>socially awkward but i do my best</td>\n",
              "      <td>bataille, celine, beckett. . .&lt;br /&gt;\\nlynch, j...</td>\n",
              "      <td>NaN</td>\n",
              "      <td>cats and german philosophy</td>\n",
              "      <td>NaN</td>\n",
              "      <td>NaN</td>\n",
              "      <td>you feel so inclined.</td>\n",
              "      <td>white</td>\n",
              "      <td>71.0</td>\n",
              "      <td>20000</td>\n",
              "      <td>student</td>\n",
              "      <td>2012-06-28-14-22</td>\n",
              "      <td>berkeley, california</td>\n",
              "      <td>doesn&amp;rsquo;t want kids</td>\n",
              "      <td>straight</td>\n",
              "      <td>likes cats</td>\n",
              "      <td>NaN</td>\n",
              "      <td>m</td>\n",
              "      <td>pisces</td>\n",
              "      <td>no</td>\n",
              "      <td>english, german (poorly)</td>\n",
              "      <td>single</td>\n",
              "    </tr>\n",
              "    <tr>\n",
              "      <th>4</th>\n",
              "      <td>29</td>\n",
              "      <td>athletic</td>\n",
              "      <td>NaN</td>\n",
              "      <td>socially</td>\n",
              "      <td>never</td>\n",
              "      <td>graduated from college/university</td>\n",
              "      <td>hey how's it going? currently vague on the pro...</td>\n",
              "      <td>work work work work + play</td>\n",
              "      <td>creating imagery to look at:&lt;br /&gt;\\nhttp://bag...</td>\n",
              "      <td>i smile a lot and my inquisitive nature</td>\n",
              "      <td>music: bands, rappers, musicians&lt;br /&gt;\\nat the...</td>\n",
              "      <td>NaN</td>\n",
              "      <td>NaN</td>\n",
              "      <td>NaN</td>\n",
              "      <td>NaN</td>\n",
              "      <td>NaN</td>\n",
              "      <td>asian, black, other</td>\n",
              "      <td>66.0</td>\n",
              "      <td>-1</td>\n",
              "      <td>artistic / musical / writer</td>\n",
              "      <td>2012-06-27-21-26</td>\n",
              "      <td>san francisco, california</td>\n",
              "      <td>NaN</td>\n",
              "      <td>straight</td>\n",
              "      <td>likes dogs and likes cats</td>\n",
              "      <td>NaN</td>\n",
              "      <td>m</td>\n",
              "      <td>aquarius</td>\n",
              "      <td>no</td>\n",
              "      <td>english</td>\n",
              "      <td>single</td>\n",
              "    </tr>\n",
              "  </tbody>\n",
              "</table>\n",
              "</div>"
            ],
            "text/plain": [
              "   age  ...     status\n",
              "0   22  ...     single\n",
              "1   35  ...     single\n",
              "2   38  ...  available\n",
              "3   23  ...     single\n",
              "4   29  ...     single\n",
              "\n",
              "[5 rows x 31 columns]"
            ]
          },
          "metadata": {
            "tags": []
          },
          "execution_count": 9
        }
      ]
    },
    {
      "cell_type": "code",
      "metadata": {
        "id": "PPDmxWINDXpQ",
        "outputId": "a2a8d3ca-b27c-4dc0-9722-0697d129c5b9",
        "colab": {
          "base_uri": "https://localhost:8080/"
        }
      },
      "source": [
        "df_copy.info()"
      ],
      "execution_count": 10,
      "outputs": [
        {
          "output_type": "stream",
          "text": [
            "<class 'pandas.core.frame.DataFrame'>\n",
            "RangeIndex: 59946 entries, 0 to 59945\n",
            "Data columns (total 31 columns):\n",
            " #   Column       Non-Null Count  Dtype  \n",
            "---  ------       --------------  -----  \n",
            " 0   age          59946 non-null  int64  \n",
            " 1   body_type    54650 non-null  object \n",
            " 2   diet         35551 non-null  object \n",
            " 3   drinks       56961 non-null  object \n",
            " 4   drugs        45866 non-null  object \n",
            " 5   education    53318 non-null  object \n",
            " 6   essay0       54458 non-null  object \n",
            " 7   essay1       52374 non-null  object \n",
            " 8   essay2       50308 non-null  object \n",
            " 9   essay3       48470 non-null  object \n",
            " 10  essay4       49409 non-null  object \n",
            " 11  essay5       49096 non-null  object \n",
            " 12  essay6       46175 non-null  object \n",
            " 13  essay7       47495 non-null  object \n",
            " 14  essay8       40721 non-null  object \n",
            " 15  essay9       47343 non-null  object \n",
            " 16  ethnicity    54266 non-null  object \n",
            " 17  height       59943 non-null  float64\n",
            " 18  income       59946 non-null  int64  \n",
            " 19  job          51748 non-null  object \n",
            " 20  last_online  59946 non-null  object \n",
            " 21  location     59946 non-null  object \n",
            " 22  offspring    24385 non-null  object \n",
            " 23  orientation  59946 non-null  object \n",
            " 24  pets         40025 non-null  object \n",
            " 25  religion     39720 non-null  object \n",
            " 26  sex          59946 non-null  object \n",
            " 27  sign         48890 non-null  object \n",
            " 28  smokes       54434 non-null  object \n",
            " 29  speaks       59896 non-null  object \n",
            " 30  status       59946 non-null  object \n",
            "dtypes: float64(1), int64(2), object(28)\n",
            "memory usage: 14.2+ MB\n"
          ],
          "name": "stdout"
        }
      ]
    },
    {
      "cell_type": "markdown",
      "metadata": {
        "id": "2HY43l3uHoFw"
      },
      "source": [
        "## Total Missing Data"
      ]
    },
    {
      "cell_type": "code",
      "metadata": {
        "id": "6GQiBf_UgCdE",
        "outputId": "1ef52218-f302-4c3e-f503-e0655459134b",
        "colab": {
          "base_uri": "https://localhost:8080/",
          "height": 1000
        }
      },
      "source": [
        "missing_features = draw_missing_data_table(df_copy)\n",
        "missing_features"
      ],
      "execution_count": 11,
      "outputs": [
        {
          "output_type": "execute_result",
          "data": {
            "text/html": [
              "<div>\n",
              "<style scoped>\n",
              "    .dataframe tbody tr th:only-of-type {\n",
              "        vertical-align: middle;\n",
              "    }\n",
              "\n",
              "    .dataframe tbody tr th {\n",
              "        vertical-align: top;\n",
              "    }\n",
              "\n",
              "    .dataframe thead th {\n",
              "        text-align: right;\n",
              "    }\n",
              "</style>\n",
              "<table border=\"1\" class=\"dataframe\">\n",
              "  <thead>\n",
              "    <tr style=\"text-align: right;\">\n",
              "      <th></th>\n",
              "      <th>feature</th>\n",
              "      <th>total null</th>\n",
              "      <th>% of null values in the column</th>\n",
              "    </tr>\n",
              "  </thead>\n",
              "  <tbody>\n",
              "    <tr>\n",
              "      <th>0</th>\n",
              "      <td>offspring</td>\n",
              "      <td>35561</td>\n",
              "      <td>0.593217</td>\n",
              "    </tr>\n",
              "    <tr>\n",
              "      <th>1</th>\n",
              "      <td>diet</td>\n",
              "      <td>24395</td>\n",
              "      <td>0.406950</td>\n",
              "    </tr>\n",
              "    <tr>\n",
              "      <th>2</th>\n",
              "      <td>religion</td>\n",
              "      <td>20226</td>\n",
              "      <td>0.337404</td>\n",
              "    </tr>\n",
              "    <tr>\n",
              "      <th>3</th>\n",
              "      <td>pets</td>\n",
              "      <td>19921</td>\n",
              "      <td>0.332316</td>\n",
              "    </tr>\n",
              "    <tr>\n",
              "      <th>4</th>\n",
              "      <td>essay8</td>\n",
              "      <td>19225</td>\n",
              "      <td>0.320705</td>\n",
              "    </tr>\n",
              "    <tr>\n",
              "      <th>5</th>\n",
              "      <td>drugs</td>\n",
              "      <td>14080</td>\n",
              "      <td>0.234878</td>\n",
              "    </tr>\n",
              "    <tr>\n",
              "      <th>6</th>\n",
              "      <td>essay6</td>\n",
              "      <td>13771</td>\n",
              "      <td>0.229723</td>\n",
              "    </tr>\n",
              "    <tr>\n",
              "      <th>7</th>\n",
              "      <td>essay9</td>\n",
              "      <td>12603</td>\n",
              "      <td>0.210239</td>\n",
              "    </tr>\n",
              "    <tr>\n",
              "      <th>8</th>\n",
              "      <td>essay7</td>\n",
              "      <td>12451</td>\n",
              "      <td>0.207704</td>\n",
              "    </tr>\n",
              "    <tr>\n",
              "      <th>9</th>\n",
              "      <td>essay3</td>\n",
              "      <td>11476</td>\n",
              "      <td>0.191439</td>\n",
              "    </tr>\n",
              "    <tr>\n",
              "      <th>10</th>\n",
              "      <td>sign</td>\n",
              "      <td>11056</td>\n",
              "      <td>0.184433</td>\n",
              "    </tr>\n",
              "    <tr>\n",
              "      <th>11</th>\n",
              "      <td>essay5</td>\n",
              "      <td>10850</td>\n",
              "      <td>0.180996</td>\n",
              "    </tr>\n",
              "    <tr>\n",
              "      <th>12</th>\n",
              "      <td>essay4</td>\n",
              "      <td>10537</td>\n",
              "      <td>0.175775</td>\n",
              "    </tr>\n",
              "    <tr>\n",
              "      <th>13</th>\n",
              "      <td>essay2</td>\n",
              "      <td>9638</td>\n",
              "      <td>0.160778</td>\n",
              "    </tr>\n",
              "    <tr>\n",
              "      <th>14</th>\n",
              "      <td>job</td>\n",
              "      <td>8198</td>\n",
              "      <td>0.136756</td>\n",
              "    </tr>\n",
              "    <tr>\n",
              "      <th>15</th>\n",
              "      <td>essay1</td>\n",
              "      <td>7572</td>\n",
              "      <td>0.126314</td>\n",
              "    </tr>\n",
              "    <tr>\n",
              "      <th>16</th>\n",
              "      <td>education</td>\n",
              "      <td>6628</td>\n",
              "      <td>0.110566</td>\n",
              "    </tr>\n",
              "    <tr>\n",
              "      <th>17</th>\n",
              "      <td>ethnicity</td>\n",
              "      <td>5680</td>\n",
              "      <td>0.094752</td>\n",
              "    </tr>\n",
              "    <tr>\n",
              "      <th>18</th>\n",
              "      <td>smokes</td>\n",
              "      <td>5512</td>\n",
              "      <td>0.091949</td>\n",
              "    </tr>\n",
              "    <tr>\n",
              "      <th>19</th>\n",
              "      <td>essay0</td>\n",
              "      <td>5488</td>\n",
              "      <td>0.091549</td>\n",
              "    </tr>\n",
              "    <tr>\n",
              "      <th>20</th>\n",
              "      <td>body_type</td>\n",
              "      <td>5296</td>\n",
              "      <td>0.088346</td>\n",
              "    </tr>\n",
              "    <tr>\n",
              "      <th>21</th>\n",
              "      <td>drinks</td>\n",
              "      <td>2985</td>\n",
              "      <td>0.049795</td>\n",
              "    </tr>\n",
              "    <tr>\n",
              "      <th>22</th>\n",
              "      <td>speaks</td>\n",
              "      <td>50</td>\n",
              "      <td>0.000834</td>\n",
              "    </tr>\n",
              "    <tr>\n",
              "      <th>23</th>\n",
              "      <td>height</td>\n",
              "      <td>3</td>\n",
              "      <td>0.000050</td>\n",
              "    </tr>\n",
              "    <tr>\n",
              "      <th>24</th>\n",
              "      <td>status</td>\n",
              "      <td>0</td>\n",
              "      <td>0.000000</td>\n",
              "    </tr>\n",
              "    <tr>\n",
              "      <th>25</th>\n",
              "      <td>income</td>\n",
              "      <td>0</td>\n",
              "      <td>0.000000</td>\n",
              "    </tr>\n",
              "    <tr>\n",
              "      <th>26</th>\n",
              "      <td>last_online</td>\n",
              "      <td>0</td>\n",
              "      <td>0.000000</td>\n",
              "    </tr>\n",
              "    <tr>\n",
              "      <th>27</th>\n",
              "      <td>location</td>\n",
              "      <td>0</td>\n",
              "      <td>0.000000</td>\n",
              "    </tr>\n",
              "    <tr>\n",
              "      <th>28</th>\n",
              "      <td>orientation</td>\n",
              "      <td>0</td>\n",
              "      <td>0.000000</td>\n",
              "    </tr>\n",
              "    <tr>\n",
              "      <th>29</th>\n",
              "      <td>sex</td>\n",
              "      <td>0</td>\n",
              "      <td>0.000000</td>\n",
              "    </tr>\n",
              "    <tr>\n",
              "      <th>30</th>\n",
              "      <td>age</td>\n",
              "      <td>0</td>\n",
              "      <td>0.000000</td>\n",
              "    </tr>\n",
              "  </tbody>\n",
              "</table>\n",
              "</div>"
            ],
            "text/plain": [
              "        feature  total null  % of null values in the column\n",
              "0     offspring       35561                        0.593217\n",
              "1          diet       24395                        0.406950\n",
              "2      religion       20226                        0.337404\n",
              "3          pets       19921                        0.332316\n",
              "4        essay8       19225                        0.320705\n",
              "5         drugs       14080                        0.234878\n",
              "6        essay6       13771                        0.229723\n",
              "7        essay9       12603                        0.210239\n",
              "8        essay7       12451                        0.207704\n",
              "9        essay3       11476                        0.191439\n",
              "10         sign       11056                        0.184433\n",
              "11       essay5       10850                        0.180996\n",
              "12       essay4       10537                        0.175775\n",
              "13       essay2        9638                        0.160778\n",
              "14          job        8198                        0.136756\n",
              "15       essay1        7572                        0.126314\n",
              "16    education        6628                        0.110566\n",
              "17    ethnicity        5680                        0.094752\n",
              "18       smokes        5512                        0.091949\n",
              "19       essay0        5488                        0.091549\n",
              "20    body_type        5296                        0.088346\n",
              "21       drinks        2985                        0.049795\n",
              "22       speaks          50                        0.000834\n",
              "23       height           3                        0.000050\n",
              "24       status           0                        0.000000\n",
              "25       income           0                        0.000000\n",
              "26  last_online           0                        0.000000\n",
              "27     location           0                        0.000000\n",
              "28  orientation           0                        0.000000\n",
              "29          sex           0                        0.000000\n",
              "30          age           0                        0.000000"
            ]
          },
          "metadata": {
            "tags": []
          },
          "execution_count": 11
        }
      ]
    },
    {
      "cell_type": "markdown",
      "metadata": {
        "id": "8SM9SAIagCdH"
      },
      "source": [
        "### Visualization of *missing data* by feature"
      ]
    },
    {
      "cell_type": "code",
      "metadata": {
        "scrolled": false,
        "id": "Pvkh6pLjgCdH"
      },
      "source": [
        "essay_color_map = map_colors(df_copy, 'essay')"
      ],
      "execution_count": 12,
      "outputs": []
    },
    {
      "cell_type": "code",
      "metadata": {
        "id": "v7iurjLOgCdL",
        "outputId": "ba13b470-ce72-419b-c6ed-59f22988fb1a",
        "colab": {
          "base_uri": "https://localhost:8080/",
          "height": 0
        }
      },
      "source": [
        "plt.figure(figsize = (15,15))\n",
        "plt.title('Number of NULL instances by Feature in the Raw Data')\n",
        "sns.barplot(y = 'feature', x = 'total null', data = missing_features, palette= essay_color_map)\n",
        "# Include legend: "
      ],
      "execution_count": 13,
      "outputs": [
        {
          "output_type": "execute_result",
          "data": {
            "text/plain": [
              "<matplotlib.axes._subplots.AxesSubplot at 0x7f2d7a9cc978>"
            ]
          },
          "metadata": {
            "tags": []
          },
          "execution_count": 13
        },
        {
          "output_type": "display_data",
          "data": {
            "image/png": "[encoded data removed]",
            "text/plain": [
              "<Figure size 1080x1080 with 1 Axes>"
            ]
          },
          "metadata": {
            "tags": [],
            "needs_background": "light"
          }
        }
      ]
    },
    {
      "cell_type": "markdown",
      "metadata": {
        "id": "1BAnY-Vc8dTA"
      },
      "source": [
        "### Correlation Matrix for Numerical Features"
      ]
    },
    {
      "cell_type": "code",
      "metadata": {
        "scrolled": true,
        "id": "pispwnfxgCdT",
        "outputId": "5b7b8116-d21b-4daa-f6f3-dde610b28565",
        "colab": {
          "base_uri": "https://localhost:8080/",
          "height": 321
        }
      },
      "source": [
        "corr = df_copy.corr()\n",
        "ax = sns.heatmap(corr, vmin = -1, vmax= 1, center = 0, cmap = sns.diverging_palette(20,220, n=200), square = True)\n",
        "ax.set_xticklabels(\n",
        "    ax.get_xticklabels(), rotation= 45, horizontalalignment = 'right'\n",
        ")\n",
        "plt.title('Correlation of Numerical Features')"
      ],
      "execution_count": 14,
      "outputs": [
        {
          "output_type": "execute_result",
          "data": {
            "text/plain": [
              "Text(0.5, 1.0, 'Correlation of Numerical Features')"
            ]
          },
          "metadata": {
            "tags": []
          },
          "execution_count": 14
        },
        {
          "output_type": "display_data",
          "data": {
            "image/png": "[encoded data removed]",
            "text/plain": [
              "<Figure size 432x288 with 2 Axes>"
            ]
          },
          "metadata": {
            "tags": [],
            "needs_background": "light"
          }
        }
      ]
    },
    {
      "cell_type": "markdown",
      "metadata": {
        "id": "8Tf-v9nOgCdW"
      },
      "source": [
        "**Summary**: We can see that there is a *faint* correlation (~.25) between **height** and **income**"
      ]
    },
    {
      "cell_type": "markdown",
      "metadata": {
        "id": "L4R0OGvPgCdX"
      },
      "source": [
        "## *Understand* numerical features:\n",
        "- Correlations\n",
        "- Distributions\n",
        "- Outliers"
      ]
    },
    {
      "cell_type": "markdown",
      "metadata": {
        "id": "Uw6HiwkG78ep"
      },
      "source": [
        "### Age"
      ]
    },
    {
      "cell_type": "code",
      "metadata": {
        "scrolled": false,
        "id": "Js9ovWGDgCdX",
        "outputId": "a89d670e-873b-4347-f720-16ad2cc8dc7f",
        "colab": {
          "base_uri": "https://localhost:8080/"
        }
      },
      "source": [
        "df.age.describe()"
      ],
      "execution_count": 15,
      "outputs": [
        {
          "output_type": "execute_result",
          "data": {
            "text/plain": [
              "count    59946.000000\n",
              "mean        32.340290\n",
              "std          9.452779\n",
              "min         18.000000\n",
              "25%         26.000000\n",
              "50%         30.000000\n",
              "75%         37.000000\n",
              "max        110.000000\n",
              "Name: age, dtype: float64"
            ]
          },
          "metadata": {
            "tags": []
          },
          "execution_count": 15
        }
      ]
    },
    {
      "cell_type": "code",
      "metadata": {
        "scrolled": false,
        "id": "fw8ozXU6gCda",
        "outputId": "a1d8be2e-77fa-4946-b94c-1a838ac5113e",
        "colab": {
          "base_uri": "https://localhost:8080/",
          "height": 0
        }
      },
      "source": [
        "plt.figure(figsize = (15,10))\n",
        "plt.title('Distribution of Age')\n",
        "plt.xlabel('Ages')\n",
        "plt.ylabel('Counts')\n",
        "df_copy.age.value_counts().sort_index().plot(kind = 'bar')"
      ],
      "execution_count": 16,
      "outputs": [
        {
          "output_type": "execute_result",
          "data": {
            "text/plain": [
              "<matplotlib.axes._subplots.AxesSubplot at 0x7f2d795fa470>"
            ]
          },
          "metadata": {
            "tags": []
          },
          "execution_count": 16
        },
        {
          "output_type": "display_data",
          "data": {
            "image/png": "[encoded data removed]",
            "text/plain": [
              "<Figure size 1080x720 with 1 Axes>"
            ]
          },
          "metadata": {
            "tags": [],
            "needs_background": "light"
          }
        }
      ]
    },
    {
      "cell_type": "markdown",
      "metadata": {
        "id": "s7eHx4QrgCdd"
      },
      "source": [
        "**Summary**: \n",
        "- No minors since all ages are >= 18\n",
        "- Distribution of Ages is *right-skewed* where there are **2 outliers** of ages 109 and 110.\n",
        "- Use the Boxcox transformation to realign the distribution"
      ]
    },
    {
      "cell_type": "markdown",
      "metadata": {
        "id": "JUj8xOB27_hh"
      },
      "source": [
        "### Height"
      ]
    },
    {
      "cell_type": "code",
      "metadata": {
        "id": "nr1bZ8MUgCde",
        "outputId": "514af231-df15-47f6-872e-51ce185ed28e",
        "colab": {
          "base_uri": "https://localhost:8080/"
        }
      },
      "source": [
        "df.height.describe()"
      ],
      "execution_count": 17,
      "outputs": [
        {
          "output_type": "execute_result",
          "data": {
            "text/plain": [
              "count    59943.000000\n",
              "mean        68.295281\n",
              "std          3.994803\n",
              "min          1.000000\n",
              "25%         66.000000\n",
              "50%         68.000000\n",
              "75%         71.000000\n",
              "max         95.000000\n",
              "Name: height, dtype: float64"
            ]
          },
          "metadata": {
            "tags": []
          },
          "execution_count": 17
        }
      ]
    },
    {
      "cell_type": "code",
      "metadata": {
        "scrolled": false,
        "id": "FFhfb116gCdi",
        "outputId": "d49cb1ca-97a4-474c-bd3f-2fc2800d75a0",
        "colab": {
          "base_uri": "https://localhost:8080/",
          "height": 0
        }
      },
      "source": [
        "plt.figure(figsize = (15,10))\n",
        "plt.title('Distribution of Heights')\n",
        "plt.xlabel('Heights')\n",
        "plt.ylabel('Counts')\n",
        "df.height.value_counts().sort_index().plot(kind = 'bar')"
      ],
      "execution_count": 18,
      "outputs": [
        {
          "output_type": "execute_result",
          "data": {
            "text/plain": [
              "<matplotlib.axes._subplots.AxesSubplot at 0x7f2d7ae25a58>"
            ]
          },
          "metadata": {
            "tags": []
          },
          "execution_count": 18
        },
        {
          "output_type": "display_data",
          "data": {
            "image/png": "[encoded data removed]",
            "text/plain": [
              "<Figure size 1080x720 with 1 Axes>"
            ]
          },
          "metadata": {
            "tags": [],
            "needs_background": "light"
          }
        }
      ]
    },
    {
      "cell_type": "code",
      "metadata": {
        "id": "0UWgbci1mpyB",
        "outputId": "ffd263db-b8bf-4351-e7e7-28ccca99a747",
        "colab": {
          "base_uri": "https://localhost:8080/",
          "height": 0
        }
      },
      "source": [
        "df_copy.loc[ df_copy['height'] < 48].head()"
      ],
      "execution_count": 19,
      "outputs": [
        {
          "output_type": "execute_result",
          "data": {
            "text/html": [
              "<div>\n",
              "<style scoped>\n",
              "    .dataframe tbody tr th:only-of-type {\n",
              "        vertical-align: middle;\n",
              "    }\n",
              "\n",
              "    .dataframe tbody tr th {\n",
              "        vertical-align: top;\n",
              "    }\n",
              "\n",
              "    .dataframe thead th {\n",
              "        text-align: right;\n",
              "    }\n",
              "</style>\n",
              "<table border=\"1\" class=\"dataframe\">\n",
              "  <thead>\n",
              "    <tr style=\"text-align: right;\">\n",
              "      <th></th>\n",
              "      <th>age</th>\n",
              "      <th>body_type</th>\n",
              "      <th>diet</th>\n",
              "      <th>drinks</th>\n",
              "      <th>drugs</th>\n",
              "      <th>education</th>\n",
              "      <th>essay0</th>\n",
              "      <th>essay1</th>\n",
              "      <th>essay2</th>\n",
              "      <th>essay3</th>\n",
              "      <th>essay4</th>\n",
              "      <th>essay5</th>\n",
              "      <th>essay6</th>\n",
              "      <th>essay7</th>\n",
              "      <th>essay8</th>\n",
              "      <th>essay9</th>\n",
              "      <th>ethnicity</th>\n",
              "      <th>height</th>\n",
              "      <th>income</th>\n",
              "      <th>job</th>\n",
              "      <th>last_online</th>\n",
              "      <th>location</th>\n",
              "      <th>offspring</th>\n",
              "      <th>orientation</th>\n",
              "      <th>pets</th>\n",
              "      <th>religion</th>\n",
              "      <th>sex</th>\n",
              "      <th>sign</th>\n",
              "      <th>smokes</th>\n",
              "      <th>speaks</th>\n",
              "      <th>status</th>\n",
              "    </tr>\n",
              "  </thead>\n",
              "  <tbody>\n",
              "    <tr>\n",
              "      <th>7098</th>\n",
              "      <td>28</td>\n",
              "      <td>average</td>\n",
              "      <td>anything</td>\n",
              "      <td>socially</td>\n",
              "      <td>sometimes</td>\n",
              "      <td>NaN</td>\n",
              "      <td>i am a full time student attending state unive...</td>\n",
              "      <td>besides being a full time student, i work part...</td>\n",
              "      <td>lots of things</td>\n",
              "      <td>my eyes and my smile</td>\n",
              "      <td>i love reading so there's probably too many bo...</td>\n",
              "      <td>pizza&lt;br /&gt;\\ntravelling&lt;br /&gt;\\nblue gatorade&lt;b...</td>\n",
              "      <td>the future</td>\n",
              "      <td>working or catching up with friends</td>\n",
              "      <td>i am quite clumsy</td>\n",
              "      <td>you'd like to meet someone new who is fun and ...</td>\n",
              "      <td>hispanic / latin</td>\n",
              "      <td>36.0</td>\n",
              "      <td>-1</td>\n",
              "      <td>NaN</td>\n",
              "      <td>2012-06-30-03-59</td>\n",
              "      <td>san francisco, california</td>\n",
              "      <td>NaN</td>\n",
              "      <td>straight</td>\n",
              "      <td>NaN</td>\n",
              "      <td>NaN</td>\n",
              "      <td>m</td>\n",
              "      <td>NaN</td>\n",
              "      <td>sometimes</td>\n",
              "      <td>english</td>\n",
              "      <td>single</td>\n",
              "    </tr>\n",
              "    <tr>\n",
              "      <th>7786</th>\n",
              "      <td>24</td>\n",
              "      <td>used up</td>\n",
              "      <td>mostly anything</td>\n",
              "      <td>often</td>\n",
              "      <td>never</td>\n",
              "      <td>graduated from space camp</td>\n",
              "      <td>i've recently moved to the bay and am slightly...</td>\n",
              "      <td>just got done with school. can't say it was an...</td>\n",
              "      <td>paying attention during a conversation; keepin...</td>\n",
              "      <td>itchy feet and fading smiles.&lt;br /&gt;\\nalso, i s...</td>\n",
              "      <td>if i knew how to read, i probably wouldn't.&lt;br...</td>\n",
              "      <td>1. air&lt;br /&gt;\\n2. water&lt;br /&gt;\\n3. food&lt;br /&gt;\\n4...</td>\n",
              "      <td>grammar and punctuation.</td>\n",
              "      <td>either reading at home or overwhelmed.</td>\n",
              "      <td>i once stared back at the big brother until it...</td>\n",
              "      <td>you think you can outweird me; you're good at ...</td>\n",
              "      <td>other</td>\n",
              "      <td>43.0</td>\n",
              "      <td>-1</td>\n",
              "      <td>hospitality / travel</td>\n",
              "      <td>2011-11-11-00-04</td>\n",
              "      <td>el cerrito, california</td>\n",
              "      <td>doesn&amp;rsquo;t want kids</td>\n",
              "      <td>straight</td>\n",
              "      <td>dislikes dogs and likes cats</td>\n",
              "      <td>atheism and laughing about it</td>\n",
              "      <td>m</td>\n",
              "      <td>aquarius and it matters a lot</td>\n",
              "      <td>no</td>\n",
              "      <td>english (poorly), french (poorly)</td>\n",
              "      <td>single</td>\n",
              "    </tr>\n",
              "    <tr>\n",
              "      <th>12193</th>\n",
              "      <td>30</td>\n",
              "      <td>NaN</td>\n",
              "      <td>mostly vegetarian</td>\n",
              "      <td>socially</td>\n",
              "      <td>NaN</td>\n",
              "      <td>graduated from space camp</td>\n",
              "      <td>well, hello and thank you for stopping by my g...</td>\n",
              "      <td>i mostly try to be good at what i do, maintain...</td>\n",
              "      <td>folding laundry.</td>\n",
              "      <td>perhaps my eyes? i'm told they are a unique co...</td>\n",
              "      <td>i really like memoirs of folks who have persev...</td>\n",
              "      <td>NaN</td>\n",
              "      <td>how many more minutes until i can get into my ...</td>\n",
              "      <td>relaxing!</td>\n",
              "      <td>when i was a kid, i poured myself a glass of r...</td>\n",
              "      <td>you are easy going and big loving.&lt;br /&gt;\\nyou ...</td>\n",
              "      <td>white</td>\n",
              "      <td>8.0</td>\n",
              "      <td>-1</td>\n",
              "      <td>medicine / health</td>\n",
              "      <td>2012-06-30-03-02</td>\n",
              "      <td>berkeley, california</td>\n",
              "      <td>doesn&amp;rsquo;t have kids</td>\n",
              "      <td>straight</td>\n",
              "      <td>likes dogs and likes cats</td>\n",
              "      <td>judaism but not too serious about it</td>\n",
              "      <td>f</td>\n",
              "      <td>taurus but it doesn&amp;rsquo;t matter</td>\n",
              "      <td>no</td>\n",
              "      <td>english</td>\n",
              "      <td>single</td>\n",
              "    </tr>\n",
              "    <tr>\n",
              "      <th>12330</th>\n",
              "      <td>50</td>\n",
              "      <td>athletic</td>\n",
              "      <td>mostly anything</td>\n",
              "      <td>rarely</td>\n",
              "      <td>never</td>\n",
              "      <td>graduated from space camp</td>\n",
              "      <td>i'm fiercely independent, highly motivated, cr...</td>\n",
              "      <td>NaN</td>\n",
              "      <td>NaN</td>\n",
              "      <td>my body</td>\n",
              "      <td>NaN</td>\n",
              "      <td>NaN</td>\n",
              "      <td>NaN</td>\n",
              "      <td>tango dancing</td>\n",
              "      <td>NaN</td>\n",
              "      <td>if you are a gem, not a trophy--the stone's co...</td>\n",
              "      <td>white</td>\n",
              "      <td>36.0</td>\n",
              "      <td>-1</td>\n",
              "      <td>retired</td>\n",
              "      <td>2012-02-15-18-17</td>\n",
              "      <td>san francisco, california</td>\n",
              "      <td>doesn&amp;rsquo;t have kids</td>\n",
              "      <td>straight</td>\n",
              "      <td>has dogs and likes cats</td>\n",
              "      <td>christianity but not too serious about it</td>\n",
              "      <td>m</td>\n",
              "      <td>NaN</td>\n",
              "      <td>no</td>\n",
              "      <td>english (fluently)</td>\n",
              "      <td>single</td>\n",
              "    </tr>\n",
              "    <tr>\n",
              "      <th>18583</th>\n",
              "      <td>35</td>\n",
              "      <td>average</td>\n",
              "      <td>NaN</td>\n",
              "      <td>socially</td>\n",
              "      <td>sometimes</td>\n",
              "      <td>NaN</td>\n",
              "      <td>well, i am a dork and i like it! i like &lt;a cla...</td>\n",
              "      <td>currently working at stanford.&lt;br /&gt;\\ngoing to...</td>\n",
              "      <td>&lt;p&gt;&lt;a class=\"ilink\" href=\"/interests?i=paintin...</td>\n",
              "      <td>you tell me.</td>\n",
              "      <td>authors:paulo coelho, dostoevsky,kafka, tom ro...</td>\n",
              "      <td>&lt;a class=\"ilink\" href=\"/interests?i=coffee\"&gt;co...</td>\n",
              "      <td>all the random coincidences that seem to happe...</td>\n",
              "      <td>lately? studying classic films in my netflix q...</td>\n",
              "      <td>i like abba</td>\n",
              "      <td>you like being spontaneous, you play music, si...</td>\n",
              "      <td>white</td>\n",
              "      <td>36.0</td>\n",
              "      <td>150000</td>\n",
              "      <td>entertainment / media</td>\n",
              "      <td>2012-06-30-14-40</td>\n",
              "      <td>san mateo, california</td>\n",
              "      <td>NaN</td>\n",
              "      <td>straight</td>\n",
              "      <td>likes dogs and likes cats</td>\n",
              "      <td>other but not too serious about it</td>\n",
              "      <td>m</td>\n",
              "      <td>leo and it&amp;rsquo;s fun to think about</td>\n",
              "      <td>no</td>\n",
              "      <td>english (fluently), esperanto (poorly)</td>\n",
              "      <td>single</td>\n",
              "    </tr>\n",
              "  </tbody>\n",
              "</table>\n",
              "</div>"
            ],
            "text/plain": [
              "       age body_type  ...                                  speaks  status\n",
              "7098    28   average  ...                                 english  single\n",
              "7786    24   used up  ...       english (poorly), french (poorly)  single\n",
              "12193   30       NaN  ...                                 english  single\n",
              "12330   50  athletic  ...                      english (fluently)  single\n",
              "18583   35   average  ...  english (fluently), esperanto (poorly)  single\n",
              "\n",
              "[5 rows x 31 columns]"
            ]
          },
          "metadata": {
            "tags": []
          },
          "execution_count": 19
        }
      ]
    },
    {
      "cell_type": "code",
      "metadata": {
        "id": "TP9jaCsYlJI_",
        "outputId": "f7d57a12-fa55-4852-cc2b-42b5fed49e83",
        "colab": {
          "base_uri": "https://localhost:8080/",
          "height": 0
        }
      },
      "source": [
        "df_copy.loc[df_copy['height'] > 84].head()"
      ],
      "execution_count": 20,
      "outputs": [
        {
          "output_type": "execute_result",
          "data": {
            "text/html": [
              "<div>\n",
              "<style scoped>\n",
              "    .dataframe tbody tr th:only-of-type {\n",
              "        vertical-align: middle;\n",
              "    }\n",
              "\n",
              "    .dataframe tbody tr th {\n",
              "        vertical-align: top;\n",
              "    }\n",
              "\n",
              "    .dataframe thead th {\n",
              "        text-align: right;\n",
              "    }\n",
              "</style>\n",
              "<table border=\"1\" class=\"dataframe\">\n",
              "  <thead>\n",
              "    <tr style=\"text-align: right;\">\n",
              "      <th></th>\n",
              "      <th>age</th>\n",
              "      <th>body_type</th>\n",
              "      <th>diet</th>\n",
              "      <th>drinks</th>\n",
              "      <th>drugs</th>\n",
              "      <th>education</th>\n",
              "      <th>essay0</th>\n",
              "      <th>essay1</th>\n",
              "      <th>essay2</th>\n",
              "      <th>essay3</th>\n",
              "      <th>essay4</th>\n",
              "      <th>essay5</th>\n",
              "      <th>essay6</th>\n",
              "      <th>essay7</th>\n",
              "      <th>essay8</th>\n",
              "      <th>essay9</th>\n",
              "      <th>ethnicity</th>\n",
              "      <th>height</th>\n",
              "      <th>income</th>\n",
              "      <th>job</th>\n",
              "      <th>last_online</th>\n",
              "      <th>location</th>\n",
              "      <th>offspring</th>\n",
              "      <th>orientation</th>\n",
              "      <th>pets</th>\n",
              "      <th>religion</th>\n",
              "      <th>sex</th>\n",
              "      <th>sign</th>\n",
              "      <th>smokes</th>\n",
              "      <th>speaks</th>\n",
              "      <th>status</th>\n",
              "    </tr>\n",
              "  </thead>\n",
              "  <tbody>\n",
              "    <tr>\n",
              "      <th>402</th>\n",
              "      <td>22</td>\n",
              "      <td>jacked</td>\n",
              "      <td>mostly anything</td>\n",
              "      <td>often</td>\n",
              "      <td>sometimes</td>\n",
              "      <td>graduated from college/university</td>\n",
              "      <td>i wasn't like every other kid, you know, who d...</td>\n",
              "      <td>chick 1: pr, chick 2: biz dev tech startup&lt;br ...</td>\n",
              "      <td>using wikipedia, painting rocks, paddle boardi...</td>\n",
              "      <td>lips and hair and charming wit (both)</td>\n",
              "      <td>armageddon, bob dylan, happy feet 2, mac &amp;amp;...</td>\n",
              "      <td>lust, gluttony, pride, sloth, wrath, greed, envy</td>\n",
              "      <td>enterprise-facing cloud storage products</td>\n",
              "      <td>making calzones and doing body shots off mario...</td>\n",
              "      <td>NaN</td>\n",
              "      <td>you think you can handle one of us... and has ...</td>\n",
              "      <td>white</td>\n",
              "      <td>91.0</td>\n",
              "      <td>150000</td>\n",
              "      <td>sales / marketing / biz dev</td>\n",
              "      <td>2012-06-29-22-25</td>\n",
              "      <td>san francisco, california</td>\n",
              "      <td>NaN</td>\n",
              "      <td>straight</td>\n",
              "      <td>likes dogs and likes cats</td>\n",
              "      <td>other and laughing about it</td>\n",
              "      <td>f</td>\n",
              "      <td>NaN</td>\n",
              "      <td>no</td>\n",
              "      <td>english, afrikaans (okay), french (fluently), ...</td>\n",
              "      <td>single</td>\n",
              "    </tr>\n",
              "    <tr>\n",
              "      <th>2569</th>\n",
              "      <td>26</td>\n",
              "      <td>NaN</td>\n",
              "      <td>strictly other</td>\n",
              "      <td>NaN</td>\n",
              "      <td>NaN</td>\n",
              "      <td>graduated from college/university</td>\n",
              "      <td>about two months ago i bought a 10-pack of pla...</td>\n",
              "      <td>wading thigh-high into the autism spectrum.</td>\n",
              "      <td>nope!</td>\n",
              "      <td>the \"kick me\" sign on my back as i run away fr...</td>\n",
              "      <td>books: envy, the master and margarita, a confe...</td>\n",
              "      <td>i hardly \"do\" by any measure.</td>\n",
              "      <td>retinol, dha, epa, k2. getting my chupacabra h...</td>\n",
              "      <td>sure as hell not skipping tuba practice.</td>\n",
              "      <td>the books on that air-tight list of favorite b...</td>\n",
              "      <td>you aren't necessarily the first one to yell \"...</td>\n",
              "      <td>native american</td>\n",
              "      <td>95.0</td>\n",
              "      <td>-1</td>\n",
              "      <td>NaN</td>\n",
              "      <td>2012-06-29-13-41</td>\n",
              "      <td>san francisco, california</td>\n",
              "      <td>NaN</td>\n",
              "      <td>straight</td>\n",
              "      <td>NaN</td>\n",
              "      <td>NaN</td>\n",
              "      <td>m</td>\n",
              "      <td>taurus</td>\n",
              "      <td>NaN</td>\n",
              "      <td>english</td>\n",
              "      <td>single</td>\n",
              "    </tr>\n",
              "    <tr>\n",
              "      <th>3016</th>\n",
              "      <td>30</td>\n",
              "      <td>fit</td>\n",
              "      <td>NaN</td>\n",
              "      <td>socially</td>\n",
              "      <td>never</td>\n",
              "      <td>graduated from law school</td>\n",
              "      <td>spontaneous guy with a get-up-and-go kind of m...</td>\n",
              "      <td>this is an incredibly difficult question, if y...</td>\n",
              "      <td>im pretty good at getting what i want. if i de...</td>\n",
              "      <td>my hair... don't get me wrong, it looks almost...</td>\n",
              "      <td>too much to go into here..</td>\n",
              "      <td>1. cuddling - yes, i said it ;)&lt;br /&gt;\\n2. art&lt;...</td>\n",
              "      <td>i think a lot about my career and working towa...</td>\n",
              "      <td>this is a tough one. either i am truly pumped ...</td>\n",
              "      <td>my eyes can get a little watery during emotion...</td>\n",
              "      <td>you've caught yourself smiling at any point wh...</td>\n",
              "      <td>white</td>\n",
              "      <td>95.0</td>\n",
              "      <td>-1</td>\n",
              "      <td>law / legal services</td>\n",
              "      <td>2012-04-23-23-36</td>\n",
              "      <td>san francisco, california</td>\n",
              "      <td>NaN</td>\n",
              "      <td>straight</td>\n",
              "      <td>NaN</td>\n",
              "      <td>NaN</td>\n",
              "      <td>m</td>\n",
              "      <td>aquarius but it doesn&amp;rsquo;t matter</td>\n",
              "      <td>no</td>\n",
              "      <td>english (fluently)</td>\n",
              "      <td>single</td>\n",
              "    </tr>\n",
              "    <tr>\n",
              "      <th>6356</th>\n",
              "      <td>26</td>\n",
              "      <td>overweight</td>\n",
              "      <td>mostly anything</td>\n",
              "      <td>not at all</td>\n",
              "      <td>never</td>\n",
              "      <td>graduated from high school</td>\n",
              "      <td>NaN</td>\n",
              "      <td>NaN</td>\n",
              "      <td>picking peoples outfits when they ha any event...</td>\n",
              "      <td>i'm funny outgoing fashinista</td>\n",
              "      <td>my favorite movie is footloose the secret gard...</td>\n",
              "      <td>i can't be without my family i can't go uot wi...</td>\n",
              "      <td>NaN</td>\n",
              "      <td>to the movies</td>\n",
              "      <td>NaN</td>\n",
              "      <td>you are interesting in me</td>\n",
              "      <td>white</td>\n",
              "      <td>87.0</td>\n",
              "      <td>20000</td>\n",
              "      <td>other</td>\n",
              "      <td>2011-12-26-22-05</td>\n",
              "      <td>san mateo, california</td>\n",
              "      <td>NaN</td>\n",
              "      <td>straight</td>\n",
              "      <td>has dogs and dislikes cats</td>\n",
              "      <td>christianity and very serious about it</td>\n",
              "      <td>f</td>\n",
              "      <td>taurus but it doesn&amp;rsquo;t matter</td>\n",
              "      <td>no</td>\n",
              "      <td>english (fluently)</td>\n",
              "      <td>single</td>\n",
              "    </tr>\n",
              "    <tr>\n",
              "      <th>8089</th>\n",
              "      <td>55</td>\n",
              "      <td>rather not say</td>\n",
              "      <td>NaN</td>\n",
              "      <td>desperately</td>\n",
              "      <td>often</td>\n",
              "      <td>dropped out of high school</td>\n",
              "      <td>my life has been a gigantic failure, and a hug...</td>\n",
              "      <td>as little as possible, so as not to use up ene...</td>\n",
              "      <td>smoking&lt;br /&gt;\\ndrinking&lt;br /&gt;\\ncheating&lt;br /&gt;\\...</td>\n",
              "      <td>my charm.&lt;br /&gt;\\nmy fourth leg.&lt;br /&gt;\\n(someho...</td>\n",
              "      <td>anything i am in.</td>\n",
              "      <td>guinness.&lt;br /&gt;\\nscotch.&lt;br /&gt;\\nvodka.&lt;br /&gt;\\n...</td>\n",
              "      <td>me.&lt;br /&gt;\\n&lt;br /&gt;\\nand what others like so muc...</td>\n",
              "      <td>oh, i can never remember that. friday nights. ...</td>\n",
              "      <td>i nearly bought a hybrid.</td>\n",
              "      <td>you think i am god's gift to womankind.</td>\n",
              "      <td>asian, middle eastern, black, native american,...</td>\n",
              "      <td>95.0</td>\n",
              "      <td>20000</td>\n",
              "      <td>unemployed</td>\n",
              "      <td>2012-04-19-07-50</td>\n",
              "      <td>berkeley, california</td>\n",
              "      <td>has a kid, but doesn&amp;rsquo;t want more</td>\n",
              "      <td>straight</td>\n",
              "      <td>dislikes dogs and dislikes cats</td>\n",
              "      <td>other and very serious about it</td>\n",
              "      <td>m</td>\n",
              "      <td>sagittarius but it doesn&amp;rsquo;t matter</td>\n",
              "      <td>when drinking</td>\n",
              "      <td>english</td>\n",
              "      <td>single</td>\n",
              "    </tr>\n",
              "  </tbody>\n",
              "</table>\n",
              "</div>"
            ],
            "text/plain": [
              "      age  ...  status\n",
              "402    22  ...  single\n",
              "2569   26  ...  single\n",
              "3016   30  ...  single\n",
              "6356   26  ...  single\n",
              "8089   55  ...  single\n",
              "\n",
              "[5 rows x 31 columns]"
            ]
          },
          "metadata": {
            "tags": []
          },
          "execution_count": 20
        }
      ]
    },
    {
      "cell_type": "code",
      "metadata": {
        "scrolled": false,
        "id": "0YSdwKgLgCdm",
        "outputId": "8ac2313e-ef68-48a2-86b5-3e625151efb4",
        "colab": {
          "base_uri": "https://localhost:8080/"
        }
      },
      "source": [
        "df.height.value_counts().sort_index()"
      ],
      "execution_count": 21,
      "outputs": [
        {
          "output_type": "execute_result",
          "data": {
            "text/plain": [
              "1.0        1\n",
              "3.0        1\n",
              "4.0        1\n",
              "6.0        1\n",
              "8.0        1\n",
              "9.0        1\n",
              "26.0       1\n",
              "36.0      11\n",
              "37.0       2\n",
              "42.0       1\n",
              "43.0       2\n",
              "47.0       1\n",
              "48.0       2\n",
              "49.0       1\n",
              "50.0       2\n",
              "51.0       1\n",
              "52.0       1\n",
              "53.0       5\n",
              "54.0       3\n",
              "55.0       6\n",
              "56.0       8\n",
              "57.0      17\n",
              "58.0      53\n",
              "59.0     212\n",
              "60.0     791\n",
              "61.0    1090\n",
              "62.0    2244\n",
              "63.0    2767\n",
              "64.0    3865\n",
              "65.0    3794\n",
              "66.0    4759\n",
              "67.0    5354\n",
              "68.0    5449\n",
              "69.0    5179\n",
              "70.0    6074\n",
              "71.0    4826\n",
              "72.0    5315\n",
              "73.0    2815\n",
              "74.0    2547\n",
              "75.0    1382\n",
              "76.0     783\n",
              "77.0     280\n",
              "78.0     132\n",
              "79.0      57\n",
              "80.0      27\n",
              "81.0      11\n",
              "82.0      11\n",
              "83.0      12\n",
              "84.0       9\n",
              "85.0       1\n",
              "86.0       1\n",
              "87.0       1\n",
              "88.0       2\n",
              "89.0       1\n",
              "90.0       1\n",
              "91.0       3\n",
              "92.0       1\n",
              "93.0       1\n",
              "94.0       3\n",
              "95.0      20\n",
              "Name: height, dtype: int64"
            ]
          },
          "metadata": {
            "tags": []
          },
          "execution_count": 21
        }
      ]
    },
    {
      "cell_type": "markdown",
      "metadata": {
        "id": "d6xSCBbAgCdp"
      },
      "source": [
        "**Summary**: Heights have a relatively *normal distribution* centered around 5'8\"(68in).\n",
        "- Outliers\n",
        "    - Upper Outliers: >7ft (84in)\n",
        "    - Lower Outliers: <4ft (48in)\n",
        "- Min and Max for Height are giveaways that the feature data lacks integrity"
      ]
    },
    {
      "cell_type": "markdown",
      "metadata": {
        "id": "v51rF19k8Jgp"
      },
      "source": [
        "### Income"
      ]
    },
    {
      "cell_type": "code",
      "metadata": {
        "scrolled": true,
        "id": "S3jEkumTgCdp",
        "outputId": "141fe588-f0a7-4076-c805-a3b4f1136b41",
        "colab": {
          "base_uri": "https://localhost:8080/"
        }
      },
      "source": [
        "df_copy.income.describe()"
      ],
      "execution_count": 22,
      "outputs": [
        {
          "output_type": "execute_result",
          "data": {
            "text/plain": [
              "count      59946.000000\n",
              "mean       20033.222534\n",
              "std        97346.192104\n",
              "min           -1.000000\n",
              "25%           -1.000000\n",
              "50%           -1.000000\n",
              "75%           -1.000000\n",
              "max      1000000.000000\n",
              "Name: income, dtype: float64"
            ]
          },
          "metadata": {
            "tags": []
          },
          "execution_count": 22
        }
      ]
    },
    {
      "cell_type": "code",
      "metadata": {
        "scrolled": false,
        "id": "GPCpeIlPgCds",
        "outputId": "6fbaaac4-e857-495b-fc3f-ec2e5bfc6763",
        "colab": {
          "base_uri": "https://localhost:8080/",
          "height": 0
        }
      },
      "source": [
        "plt.figure(figsize = (15,10))\n",
        "plt.title('Distribution of Income')\n",
        "plt.xlabel('Income')\n",
        "plt.ylabel('Counts')\n",
        "df.income.value_counts().sort_index().plot(kind = 'barh')"
      ],
      "execution_count": 23,
      "outputs": [
        {
          "output_type": "execute_result",
          "data": {
            "text/plain": [
              "<matplotlib.axes._subplots.AxesSubplot at 0x7f2d76a18160>"
            ]
          },
          "metadata": {
            "tags": []
          },
          "execution_count": 23
        },
        {
          "output_type": "display_data",
          "data": {
            "image/png": "[encoded data removed]",
            "text/plain": [
              "<Figure size 1080x720 with 1 Axes>"
            ]
          },
          "metadata": {
            "tags": [],
            "needs_background": "light"
          }
        }
      ]
    },
    {
      "cell_type": "code",
      "metadata": {
        "id": "HCbaOJgogCdy",
        "outputId": "96609dc0-7260-479b-bbe2-1340cd62bf11",
        "colab": {
          "base_uri": "https://localhost:8080/"
        }
      },
      "source": [
        "i = df_copy.income\n",
        "unreported = 100* (i.value_counts().sum() - i[i==-1].count()) / i.value_counts().sum()\n",
        "print(\"With only {x:.2f}% of data NOT EQUAL to -1 & avaiable, one should DROP the feature.\".format(x = unreported))\n",
        "print('FEATURE GENERATION: Create a boolean, \"unreported income\" feature to feed into the model')"
      ],
      "execution_count": 24,
      "outputs": [
        {
          "output_type": "stream",
          "text": [
            "With only 19.19% of data NOT EQUAL to -1 & avaiable, one should DROP the feature.\n",
            "FEATURE GENERATION: Create a boolean, \"unreported income\" feature to feed into the model\n"
          ],
          "name": "stdout"
        }
      ]
    },
    {
      "cell_type": "markdown",
      "metadata": {
        "id": "gUlW1mqIgCdy"
      },
      "source": [
        "**Summary**: Overwhelming amount of unreported incomes as (-1)"
      ]
    },
    {
      "cell_type": "markdown",
      "metadata": {
        "id": "wuXPuyMeD5FG"
      },
      "source": [
        "## Split the data into Essay and non-essay groups for easy access"
      ]
    },
    {
      "cell_type": "code",
      "metadata": {
        "id": "wqXZw2bfgCcq"
      },
      "source": [
        "essay_cols = [str(x) for x in df_copy.columns if 'essay' in x]\n",
        "essay_df = df_copy[essay_cols]\n",
        "\n",
        "nonessay_cols = [str(x) for x in df_copy.columns if 'essay' not in x]\n",
        "nonessay_df = df_copy[nonessay_cols]"
      ],
      "execution_count": 25,
      "outputs": []
    },
    {
      "cell_type": "markdown",
      "metadata": {
        "id": "1L0WRTXkMjy7"
      },
      "source": [
        "### Non-Essay Features\n",
        "UPDATE: Plot Distribution of each feature in the nonEssay dataframe.\n",
        "- ~~Age~~\n",
        "- Body type\n",
        "- Diet\n",
        "- Drinks\n",
        "- Drugs\n",
        "- Education\n",
        "- Ethnicity\n",
        "- ~~Height~~\n",
        "- ~~Income~~\n",
        "- Job\n",
        "- Last Online\n",
        "- Location\n",
        "- Offspring\n",
        "- Orientation\n",
        "- Pets\n",
        "- Religion\n",
        "- ~~Sex~~\n",
        "- Sign\n",
        "- Smokes\n",
        "- Speaks\n",
        "- Status\n"
      ]
    },
    {
      "cell_type": "code",
      "metadata": {
        "id": "qLq_lZ_EMb8U",
        "outputId": "2249c12e-944c-43d8-95d4-76c52eb2c7aa",
        "colab": {
          "base_uri": "https://localhost:8080/"
        }
      },
      "source": [
        "nonessay_df.columns"
      ],
      "execution_count": 26,
      "outputs": [
        {
          "output_type": "execute_result",
          "data": {
            "text/plain": [
              "Index(['age', 'body_type', 'diet', 'drinks', 'drugs', 'education', 'ethnicity',\n",
              "       'height', 'income', 'job', 'last_online', 'location', 'offspring',\n",
              "       'orientation', 'pets', 'religion', 'sex', 'sign', 'smokes', 'speaks',\n",
              "       'status'],\n",
              "      dtype='object')"
            ]
          },
          "metadata": {
            "tags": []
          },
          "execution_count": 26
        }
      ]
    },
    {
      "cell_type": "markdown",
      "metadata": {
        "id": "kGduJgc05fId"
      },
      "source": [
        "#### Body Type"
      ]
    },
    {
      "cell_type": "code",
      "metadata": {
        "id": "pedepnbd5d79",
        "outputId": "87d94e64-2071-4879-ed5d-14a0ca8c3efc",
        "colab": {
          "base_uri": "https://localhost:8080/"
        }
      },
      "source": [
        "nonessay_df['body_type'].value_counts()"
      ],
      "execution_count": 27,
      "outputs": [
        {
          "output_type": "execute_result",
          "data": {
            "text/plain": [
              "average           14652\n",
              "fit               12711\n",
              "athletic          11819\n",
              "thin               4711\n",
              "curvy              3924\n",
              "a little extra     2629\n",
              "skinny             1777\n",
              "full figured       1009\n",
              "overweight          444\n",
              "jacked              421\n",
              "used up             355\n",
              "rather not say      198\n",
              "Name: body_type, dtype: int64"
            ]
          },
          "metadata": {
            "tags": []
          },
          "execution_count": 27
        }
      ]
    },
    {
      "cell_type": "code",
      "metadata": {
        "id": "2ET9ir8sBEC5",
        "outputId": "8af0123a-0cdf-4ea1-e1ed-3f08d7476931",
        "colab": {
          "base_uri": "https://localhost:8080/",
          "height": 350
        }
      },
      "source": [
        "plot_viz(nonessay_df, 'body_type')"
      ],
      "execution_count": 28,
      "outputs": [
        {
          "output_type": "display_data",
          "data": {
            "image/png": "[encoded data removed]",
            "text/plain": [
              "<Figure size 864x360 with 1 Axes>"
            ]
          },
          "metadata": {
            "tags": [],
            "needs_background": "light"
          }
        }
      ]
    },
    {
      "cell_type": "markdown",
      "metadata": {
        "id": "U21HUQBYJgzw"
      },
      "source": [
        "##### **Summary**: Majority of respondents are >= average\n",
        "- Could binnerize categories with the *apply* function\n",
        "    - Skinny\n",
        "    - Average\n",
        "    - Fat\n",
        "<br> or OHE the feature"
      ]
    },
    {
      "cell_type": "markdown",
      "metadata": {
        "id": "aF69JXOvAaBm"
      },
      "source": [
        "#### Diet"
      ]
    },
    {
      "cell_type": "code",
      "metadata": {
        "id": "kW1TnSU_HIpD",
        "outputId": "f6745030-3e21-4b0e-d1d4-26f2601a9025",
        "colab": {
          "base_uri": "https://localhost:8080/"
        }
      },
      "source": [
        "df_copy['diet'].value_counts()"
      ],
      "execution_count": 29,
      "outputs": [
        {
          "output_type": "execute_result",
          "data": {
            "text/plain": [
              "mostly anything        16585\n",
              "anything                6183\n",
              "strictly anything       5113\n",
              "mostly vegetarian       3444\n",
              "mostly other            1007\n",
              "strictly vegetarian      875\n",
              "vegetarian               667\n",
              "strictly other           452\n",
              "mostly vegan             338\n",
              "other                    331\n",
              "strictly vegan           228\n",
              "vegan                    136\n",
              "mostly kosher             86\n",
              "mostly halal              48\n",
              "strictly halal            18\n",
              "strictly kosher           18\n",
              "kosher                    11\n",
              "halal                     11\n",
              "Name: diet, dtype: int64"
            ]
          },
          "metadata": {
            "tags": []
          },
          "execution_count": 29
        }
      ]
    },
    {
      "cell_type": "code",
      "metadata": {
        "id": "1i8c_K4OLFan",
        "outputId": "daca07d1-898b-472b-d978-422cab32faa1",
        "colab": {
          "base_uri": "https://localhost:8080/",
          "height": 350
        }
      },
      "source": [
        "plot_viz(df_copy, 'diet')"
      ],
      "execution_count": 30,
      "outputs": [
        {
          "output_type": "display_data",
          "data": {
            "image/png": "[encoded data removed]",
            "text/plain": [
              "<Figure size 864x360 with 1 Axes>"
            ]
          },
          "metadata": {
            "tags": [],
            "needs_background": "light"
          }
        }
      ]
    },
    {
      "cell_type": "markdown",
      "metadata": {
        "id": "9g-kSe9sLOdf"
      },
      "source": [
        "##### **Summary**: Majority of respondents are OPEN to eating any type of food\n",
        "Could binnerize categories with the *apply* function\n",
        "    - Picky\n",
        "    - Relax\n",
        "<br> or OHE the feature"
      ]
    },
    {
      "cell_type": "markdown",
      "metadata": {
        "id": "270uVZbqAjTM"
      },
      "source": [
        "#### Drinks"
      ]
    },
    {
      "cell_type": "code",
      "metadata": {
        "id": "p86BgprfAjwl",
        "outputId": "6d306748-79a5-4bca-ffaf-1b152ce42bae",
        "colab": {
          "base_uri": "https://localhost:8080/"
        }
      },
      "source": [
        "df_copy['drinks'].value_counts()"
      ],
      "execution_count": 31,
      "outputs": [
        {
          "output_type": "execute_result",
          "data": {
            "text/plain": [
              "socially       41780\n",
              "rarely          5957\n",
              "often           5164\n",
              "not at all      3267\n",
              "very often       471\n",
              "desperately      322\n",
              "Name: drinks, dtype: int64"
            ]
          },
          "metadata": {
            "tags": []
          },
          "execution_count": 31
        }
      ]
    },
    {
      "cell_type": "code",
      "metadata": {
        "id": "E3snJfX5L-Oe",
        "outputId": "06554b67-4f12-4bee-fcec-e51b1882ae33",
        "colab": {
          "base_uri": "https://localhost:8080/",
          "height": 350
        }
      },
      "source": [
        "plot_viz(df_copy, 'drinks')"
      ],
      "execution_count": 32,
      "outputs": [
        {
          "output_type": "display_data",
          "data": {
            "image/png": "[encoded data removed]",
            "text/plain": [
              "<Figure size 864x360 with 1 Axes>"
            ]
          },
          "metadata": {
            "tags": [],
            "needs_background": "light"
          }
        }
      ]
    },
    {
      "cell_type": "markdown",
      "metadata": {
        "id": "ATkoN7s1MGuA"
      },
      "source": [
        "##### **Summary**: Majority of Respondents drink socially\n",
        "- Could binnerize in 2 categories with the *apply* function\n",
        "    - *Often* = Socially + often + very often + desperately\n",
        "    - *Not Often* = rarely + not at all\n",
        "<br> or OHE the feature"
      ]
    },
    {
      "cell_type": "markdown",
      "metadata": {
        "id": "bOUkH8vHApO7"
      },
      "source": [
        "#### Drugs"
      ]
    },
    {
      "cell_type": "code",
      "metadata": {
        "id": "7FfGdqVlAulx",
        "outputId": "1b558bb3-286d-4061-e896-9ade4dcc479b",
        "colab": {
          "base_uri": "https://localhost:8080/"
        }
      },
      "source": [
        "df_copy['drugs'].value_counts()"
      ],
      "execution_count": 33,
      "outputs": [
        {
          "output_type": "execute_result",
          "data": {
            "text/plain": [
              "never        37724\n",
              "sometimes     7732\n",
              "often          410\n",
              "Name: drugs, dtype: int64"
            ]
          },
          "metadata": {
            "tags": []
          },
          "execution_count": 33
        }
      ]
    },
    {
      "cell_type": "code",
      "metadata": {
        "id": "qjYrcmI9Mz20",
        "outputId": "83ef95d0-60bc-487b-f29e-a34fc354ada5",
        "colab": {
          "base_uri": "https://localhost:8080/",
          "height": 350
        }
      },
      "source": [
        "plot_viz(df_copy, 'drugs')"
      ],
      "execution_count": 34,
      "outputs": [
        {
          "output_type": "display_data",
          "data": {
            "image/png": "[encoded data removed]",
            "text/plain": [
              "<Figure size 864x360 with 1 Axes>"
            ]
          },
          "metadata": {
            "tags": [],
            "needs_background": "light"
          }
        }
      ]
    },
    {
      "cell_type": "markdown",
      "metadata": {
        "id": "_2M8EY3hM6K6"
      },
      "source": [
        "##### **Summary**: Majority of respondents never \"have done/do\" drugs\n",
        "- Could binnerize into 2 categories with the *apply* function\n",
        "    - Never -> No\n",
        "    - Sometimes + Often -> Yes\n",
        "<br> Turn dtype into **boolean**"
      ]
    },
    {
      "cell_type": "markdown",
      "metadata": {
        "id": "B4fj4cQjAvbZ"
      },
      "source": [
        "#### Education"
      ]
    },
    {
      "cell_type": "code",
      "metadata": {
        "id": "L2zGLcmmAyqS",
        "outputId": "bfe55f37-c8da-4960-e4a6-0eef29e1ef97",
        "colab": {
          "base_uri": "https://localhost:8080/"
        }
      },
      "source": [
        "df_copy['education'].value_counts()"
      ],
      "execution_count": 35,
      "outputs": [
        {
          "output_type": "execute_result",
          "data": {
            "text/plain": [
              "graduated from college/university    23959\n",
              "graduated from masters program        8961\n",
              "working on college/university         5712\n",
              "working on masters program            1683\n",
              "graduated from two-year college       1531\n",
              "graduated from high school            1428\n",
              "graduated from ph.d program           1272\n",
              "graduated from law school             1122\n",
              "working on two-year college           1074\n",
              "dropped out of college/university      995\n",
              "working on ph.d program                983\n",
              "college/university                     801\n",
              "graduated from space camp              657\n",
              "dropped out of space camp              523\n",
              "graduated from med school              446\n",
              "working on space camp                  445\n",
              "working on law school                  269\n",
              "two-year college                       222\n",
              "working on med school                  212\n",
              "dropped out of two-year college        191\n",
              "dropped out of masters program         140\n",
              "masters program                        136\n",
              "dropped out of ph.d program            127\n",
              "dropped out of high school             102\n",
              "high school                             96\n",
              "working on high school                  87\n",
              "space camp                              58\n",
              "ph.d program                            26\n",
              "law school                              19\n",
              "dropped out of law school               18\n",
              "dropped out of med school               12\n",
              "med school                              11\n",
              "Name: education, dtype: int64"
            ]
          },
          "metadata": {
            "tags": []
          },
          "execution_count": 35
        }
      ]
    },
    {
      "cell_type": "code",
      "metadata": {
        "id": "xTrm8BrJNqI-",
        "outputId": "5e925a67-5427-40aa-e454-4e12f9d1da2b",
        "colab": {
          "base_uri": "https://localhost:8080/",
          "height": 350
        }
      },
      "source": [
        "plot_viz(df_copy, 'education')"
      ],
      "execution_count": 36,
      "outputs": [
        {
          "output_type": "display_data",
          "data": {
            "image/png": "[encoded data removed]",
            "text/plain": [
              "<Figure size 864x360 with 1 Axes>"
            ]
          },
          "metadata": {
            "tags": [],
            "needs_background": "light"
          }
        }
      ]
    },
    {
      "cell_type": "markdown",
      "metadata": {
        "id": "O_c3QGrNNq0h"
      },
      "source": [
        "##### **Summary**: Majority are affiliated with a University\n",
        "- Lots of different signal from this feature\n",
        "    - (Y/N) Whether or not they are currently in school\n",
        "    - (Y/N) Dropped out/ Graduated\n",
        "    - (OHE) Education affiliate:\n",
        "        - High School degree/ Space Camp\n",
        "        - 2 yr Program\n",
        "        - University\n",
        "        - Graduate (Med school, pHD, Masters)\n",
        "<br> or OHE the feature"
      ]
    },
    {
      "cell_type": "markdown",
      "metadata": {
        "id": "unDay1XcAzDt"
      },
      "source": [
        "#### Ethnicity"
      ]
    },
    {
      "cell_type": "code",
      "metadata": {
        "id": "AwzZ8WxESV7e",
        "outputId": "009e006e-80b2-4dbe-e43a-1c3bb169fdbd",
        "colab": {
          "base_uri": "https://localhost:8080/"
        }
      },
      "source": [
        "df_copy['ethnicity'].value_counts().head(30)"
      ],
      "execution_count": 37,
      "outputs": [
        {
          "output_type": "execute_result",
          "data": {
            "text/plain": [
              "white                                                                                                      32831\n",
              "asian                                                                                                       6134\n",
              "hispanic / latin                                                                                            2823\n",
              "black                                                                                                       2008\n",
              "other                                                                                                       1706\n",
              "hispanic / latin, white                                                                                     1301\n",
              "indian                                                                                                      1077\n",
              "asian, white                                                                                                 811\n",
              "white, other                                                                                                 641\n",
              "pacific islander                                                                                             432\n",
              "asian, pacific islander                                                                                      395\n",
              "native american, white                                                                                       338\n",
              "middle eastern                                                                                               329\n",
              "middle eastern, white                                                                                        300\n",
              "black, white                                                                                                 298\n",
              "pacific islander, white                                                                                      156\n",
              "hispanic / latin, other                                                                                      138\n",
              "black, other                                                                                                 133\n",
              "black, hispanic / latin                                                                                      119\n",
              "hispanic / latin, white, other                                                                               117\n",
              "black, native american, white                                                                                110\n",
              "black, native american                                                                                       100\n",
              "asian, other                                                                                                  95\n",
              "asian, hispanic / latin                                                                                       88\n",
              "native american, hispanic / latin, white                                                                      87\n",
              "native american, hispanic / latin                                                                             73\n",
              "asian, white, other                                                                                           69\n",
              "native american                                                                                               67\n",
              "asian, middle eastern, black, native american, indian, pacific islander, hispanic / latin, white, other       66\n",
              "asian, black                                                                                                  59\n",
              "Name: ethnicity, dtype: int64"
            ]
          },
          "metadata": {
            "tags": []
          },
          "execution_count": 37
        }
      ]
    },
    {
      "cell_type": "markdown",
      "metadata": {
        "id": "yYzeM0z8SWcf"
      },
      "source": [
        "##### **Summary**: There are many multicultural respondents\n",
        "- Create \"multiracial\" categories with the *apply* function\n",
        "    - (OHE) all the Single Ethnicities\n",
        "    - A multiracial ethnicity feature if >= 3 races\n"
      ]
    },
    {
      "cell_type": "markdown",
      "metadata": {
        "id": "05fI5A3yYge0"
      },
      "source": [
        "#### Job"
      ]
    },
    {
      "cell_type": "code",
      "metadata": {
        "id": "4YfebtD8Ydzz",
        "outputId": "5c179fce-933d-43fc-e6de-2b4be833e04f",
        "colab": {
          "base_uri": "https://localhost:8080/"
        }
      },
      "source": [
        "df_copy['job'].value_counts()"
      ],
      "execution_count": 38,
      "outputs": [
        {
          "output_type": "execute_result",
          "data": {
            "text/plain": [
              "other                                7589\n",
              "student                              4882\n",
              "science / tech / engineering         4848\n",
              "computer / hardware / software       4709\n",
              "artistic / musical / writer          4439\n",
              "sales / marketing / biz dev          4391\n",
              "medicine / health                    3680\n",
              "education / academia                 3513\n",
              "executive / management               2373\n",
              "banking / financial / real estate    2266\n",
              "entertainment / media                2250\n",
              "law / legal services                 1381\n",
              "hospitality / travel                 1364\n",
              "construction / craftsmanship         1021\n",
              "clerical / administrative             805\n",
              "political / government                708\n",
              "rather not say                        436\n",
              "transportation                        366\n",
              "unemployed                            273\n",
              "retired                               250\n",
              "military                              204\n",
              "Name: job, dtype: int64"
            ]
          },
          "metadata": {
            "tags": []
          },
          "execution_count": 38
        }
      ]
    },
    {
      "cell_type": "code",
      "metadata": {
        "id": "zlX8kPVfYdfE",
        "outputId": "193fc80c-2386-44a2-88b1-afe565d04678",
        "colab": {
          "base_uri": "https://localhost:8080/",
          "height": 350
        }
      },
      "source": [
        "plot_viz(df_copy, 'job')"
      ],
      "execution_count": 39,
      "outputs": [
        {
          "output_type": "display_data",
          "data": {
            "image/png": "[encoded data removed]",
            "text/plain": [
              "<Figure size 864x360 with 1 Axes>"
            ]
          },
          "metadata": {
            "tags": [],
            "needs_background": "light"
          }
        }
      ]
    },
    {
      "cell_type": "markdown",
      "metadata": {
        "id": "IGuC3HxNafJQ"
      },
      "source": [
        "##### **Summary**: Majority don't specify job industry or are students\n",
        "- (OHE) all the'industries'\n",
        "- **NOTE** how this changes once survey respondants are dropped\n"
      ]
    },
    {
      "cell_type": "markdown",
      "metadata": {
        "id": "IaHsS96YZKaD"
      },
      "source": [
        "#### Last Online"
      ]
    },
    {
      "cell_type": "code",
      "metadata": {
        "id": "ZkcsppsRd9k2"
      },
      "source": [
        "df_copy['last_online'] = df_copy['last_online'].astype('string') # Change dtype to a string to convert into Datetime\n",
        "df_copy['last_online'] = pd.to_datetime(df_copy['last_online'], format = \"%Y-%m-%d-%H-%M\")\n",
        "# df_copy['last_online'].describe()"
      ],
      "execution_count": 40,
      "outputs": []
    },
    {
      "cell_type": "code",
      "metadata": {
        "id": "c20bbaiaZNce",
        "outputId": "8fbf6790-1961-4cc0-b968-c2f8c69facb6",
        "colab": {
          "base_uri": "https://localhost:8080/"
        }
      },
      "source": [
        "df_copy['last_online'].head()"
      ],
      "execution_count": 41,
      "outputs": [
        {
          "output_type": "execute_result",
          "data": {
            "text/plain": [
              "0   2012-06-28 20:30:00\n",
              "1   2012-06-29 21:41:00\n",
              "2   2012-06-27 09:10:00\n",
              "3   2012-06-28 14:22:00\n",
              "4   2012-06-27 21:26:00\n",
              "Name: last_online, dtype: datetime64[ns]"
            ]
          },
          "metadata": {
            "tags": []
          },
          "execution_count": 41
        }
      ]
    },
    {
      "cell_type": "markdown",
      "metadata": {
        "id": "Xy3WErkvgCfw"
      },
      "source": [
        "###### Create a Table of Dates and Times that users Logged on"
      ]
    },
    {
      "cell_type": "code",
      "metadata": {
        "id": "wBiHMh_dgCfx",
        "outputId": "900d966c-da7d-4076-d0d6-ac0a9caee324",
        "colab": {
          "base_uri": "https://localhost:8080/",
          "height": 416
        }
      },
      "source": [
        "dt_table = pd.DataFrame()\n",
        "dt_table['Date'] = df_copy['last_online'].dt.date\n",
        "dt_table['Time'] = df_copy['last_online'].dt.time\n",
        "sorted = dt_table.sort_values(by = 'Date')\n",
        "sorted"
      ],
      "execution_count": 42,
      "outputs": [
        {
          "output_type": "execute_result",
          "data": {
            "text/html": [
              "<div>\n",
              "<style scoped>\n",
              "    .dataframe tbody tr th:only-of-type {\n",
              "        vertical-align: middle;\n",
              "    }\n",
              "\n",
              "    .dataframe tbody tr th {\n",
              "        vertical-align: top;\n",
              "    }\n",
              "\n",
              "    .dataframe thead th {\n",
              "        text-align: right;\n",
              "    }\n",
              "</style>\n",
              "<table border=\"1\" class=\"dataframe\">\n",
              "  <thead>\n",
              "    <tr style=\"text-align: right;\">\n",
              "      <th></th>\n",
              "      <th>Date</th>\n",
              "      <th>Time</th>\n",
              "    </tr>\n",
              "  </thead>\n",
              "  <tbody>\n",
              "    <tr>\n",
              "      <th>48850</th>\n",
              "      <td>2011-06-27</td>\n",
              "      <td>19:22:00</td>\n",
              "    </tr>\n",
              "    <tr>\n",
              "      <th>9849</th>\n",
              "      <td>2011-06-27</td>\n",
              "      <td>08:22:00</td>\n",
              "    </tr>\n",
              "    <tr>\n",
              "      <th>16219</th>\n",
              "      <td>2011-06-27</td>\n",
              "      <td>18:19:00</td>\n",
              "    </tr>\n",
              "    <tr>\n",
              "      <th>57254</th>\n",
              "      <td>2011-06-27</td>\n",
              "      <td>14:18:00</td>\n",
              "    </tr>\n",
              "    <tr>\n",
              "      <th>30652</th>\n",
              "      <td>2011-06-27</td>\n",
              "      <td>23:21:00</td>\n",
              "    </tr>\n",
              "    <tr>\n",
              "      <th>...</th>\n",
              "      <td>...</td>\n",
              "      <td>...</td>\n",
              "    </tr>\n",
              "    <tr>\n",
              "      <th>55568</th>\n",
              "      <td>2012-07-01</td>\n",
              "      <td>04:09:00</td>\n",
              "    </tr>\n",
              "    <tr>\n",
              "      <th>55577</th>\n",
              "      <td>2012-07-01</td>\n",
              "      <td>01:27:00</td>\n",
              "    </tr>\n",
              "    <tr>\n",
              "      <th>46300</th>\n",
              "      <td>2012-07-01</td>\n",
              "      <td>01:27:00</td>\n",
              "    </tr>\n",
              "    <tr>\n",
              "      <th>55591</th>\n",
              "      <td>2012-07-01</td>\n",
              "      <td>07:14:00</td>\n",
              "    </tr>\n",
              "    <tr>\n",
              "      <th>50985</th>\n",
              "      <td>2012-07-01</td>\n",
              "      <td>00:13:00</td>\n",
              "    </tr>\n",
              "  </tbody>\n",
              "</table>\n",
              "<p>59946 rows × 2 columns</p>\n",
              "</div>"
            ],
            "text/plain": [
              "             Date      Time\n",
              "48850  2011-06-27  19:22:00\n",
              "9849   2011-06-27  08:22:00\n",
              "16219  2011-06-27  18:19:00\n",
              "57254  2011-06-27  14:18:00\n",
              "30652  2011-06-27  23:21:00\n",
              "...           ...       ...\n",
              "55568  2012-07-01  04:09:00\n",
              "55577  2012-07-01  01:27:00\n",
              "46300  2012-07-01  01:27:00\n",
              "55591  2012-07-01  07:14:00\n",
              "50985  2012-07-01  00:13:00\n",
              "\n",
              "[59946 rows x 2 columns]"
            ]
          },
          "metadata": {
            "tags": []
          },
          "execution_count": 42
        }
      ]
    },
    {
      "cell_type": "markdown",
      "metadata": {
        "id": "5ufAbYKhgCf2"
      },
      "source": [
        "###### Find the most Frequent Hours users logged on\n",
        "- Create the hour count dictionary\n"
      ]
    },
    {
      "cell_type": "code",
      "metadata": {
        "scrolled": true,
        "id": "sPsdXPfGgCf3"
      },
      "source": [
        "hours = [dt_table.Time[x].hour for x in range(len(dt_table.Time))]\n",
        "c = countFreq(hours)"
      ],
      "execution_count": 43,
      "outputs": []
    },
    {
      "cell_type": "code",
      "metadata": {
        "id": "aprHfoPugCf5",
        "outputId": "15f69020-19f6-4906-9fcc-3fc440eac73c",
        "colab": {
          "base_uri": "https://localhost:8080/"
        }
      },
      "source": [
        "c"
      ],
      "execution_count": 44,
      "outputs": [
        {
          "output_type": "execute_result",
          "data": {
            "text/plain": [
              "{0: 3329,\n",
              " 1: 2225,\n",
              " 2: 1409,\n",
              " 3: 786,\n",
              " 4: 525,\n",
              " 5: 550,\n",
              " 6: 826,\n",
              " 7: 1461,\n",
              " 8: 2154,\n",
              " 9: 2480,\n",
              " 10: 2565,\n",
              " 11: 2527,\n",
              " 12: 2455,\n",
              " 13: 2459,\n",
              " 14: 2585,\n",
              " 15: 2691,\n",
              " 16: 2653,\n",
              " 17: 2920,\n",
              " 18: 3082,\n",
              " 19: 3367,\n",
              " 20: 3698,\n",
              " 21: 4267,\n",
              " 22: 4685,\n",
              " 23: 4247}"
            ]
          },
          "metadata": {
            "tags": []
          },
          "execution_count": 44
        }
      ]
    },
    {
      "cell_type": "code",
      "metadata": {
        "id": "OHiaBLCxgCf7",
        "outputId": "79ebf5da-4373-4f9f-8282-6fc1d2d3df3e",
        "colab": {
          "base_uri": "https://localhost:8080/"
        }
      },
      "source": [
        "sort_hours = SortedDict(c)\n",
        "sort_hours"
      ],
      "execution_count": 45,
      "outputs": [
        {
          "output_type": "execute_result",
          "data": {
            "text/plain": [
              "SortedDict({0: 3329, 1: 2225, 2: 1409, 3: 786, 4: 525, 5: 550, 6: 826, 7: 1461, 8: 2154, 9: 2480, 10: 2565, 11: 2527, 12: 2455, 13: 2459, 14: 2585, 15: 2691, 16: 2653, 17: 2920, 18: 3082, 19: 3367, 20: 3698, 21: 4267, 22: 4685, 23: 4247})"
            ]
          },
          "metadata": {
            "tags": []
          },
          "execution_count": 45
        }
      ]
    },
    {
      "cell_type": "code",
      "metadata": {
        "id": "AFCWQdVLv3aZ",
        "outputId": "88d6950a-6b4e-417b-aa70-baccf5dd6609",
        "colab": {
          "base_uri": "https://localhost:8080/",
          "height": 297
        }
      },
      "source": [
        "x = list(sort_hours.keys())\n",
        "y = list(sort_hours.values())\n",
        "plt.bar(x = x, height = y, edgecolor = \"black\", tick_label = x)\n",
        "plt.title(\"Most Frequent log-in Hours for Users\")\n",
        "plt.tight_layout()"
      ],
      "execution_count": 46,
      "outputs": [
        {
          "output_type": "display_data",
          "data": {
            "image/png": "[encoded data removed]",
            "text/plain": [
              "<Figure size 432x288 with 1 Axes>"
            ]
          },
          "metadata": {
            "tags": [],
            "needs_background": "light"
          }
        }
      ]
    },
    {
      "cell_type": "markdown",
      "metadata": {
        "id": "eQfK84vxhsMI"
      },
      "source": [
        "##### **Summary**: Survey responses spanned ~1 year | Essentially JULY2011 - July2012\n",
        "- **NOTE:** Need to Convert the feature to 'datetime[ns]'\n",
        "- Split into date and time columns; and then drop this feature\n",
        "- Analyze Information:\n",
        "    - Dates\n",
        "        - Most Frequent months\n",
        "        - Most Frequent Weekday\n",
        "    - Times\n",
        "        - Which 1/3 of the Day is most popular: Morning, Afternoon, Evening\n",
        "        - Popular time by the hour\n"
      ]
    },
    {
      "cell_type": "markdown",
      "metadata": {
        "id": "jX9bFBlHZOVV"
      },
      "source": [
        "#### Location"
      ]
    },
    {
      "cell_type": "markdown",
      "metadata": {
        "id": "rrTNEYKvL2id"
      },
      "source": [
        "##### Create new City and State Features on df_copy"
      ]
    },
    {
      "cell_type": "code",
      "metadata": {
        "id": "t4TX9QmRKWqS"
      },
      "source": [
        "df_copy['City'] = df_copy['location'].apply(lambda location: location.split(sep = ', ')[0])\n",
        "df_copy['State'] = df_copy['location'].apply(lambda location: location.split(sep = ', ')[1])"
      ],
      "execution_count": 47,
      "outputs": []
    },
    {
      "cell_type": "code",
      "metadata": {
        "id": "TOTtyGX724oS",
        "outputId": "67d8075e-57ce-4f13-c247-38d94554ffe6",
        "colab": {
          "base_uri": "https://localhost:8080/",
          "height": 416
        }
      },
      "source": [
        "locations = df_copy.location.str.split(pat = ',', expand = True)\n",
        "locations = locations.drop(2, axis = 1) #drops the blank column from splitting\n",
        "locations.rename(columns= {0: 'City', 1: 'State'}, inplace= True)\n",
        "locations"
      ],
      "execution_count": 48,
      "outputs": [
        {
          "output_type": "execute_result",
          "data": {
            "text/html": [
              "<div>\n",
              "<style scoped>\n",
              "    .dataframe tbody tr th:only-of-type {\n",
              "        vertical-align: middle;\n",
              "    }\n",
              "\n",
              "    .dataframe tbody tr th {\n",
              "        vertical-align: top;\n",
              "    }\n",
              "\n",
              "    .dataframe thead th {\n",
              "        text-align: right;\n",
              "    }\n",
              "</style>\n",
              "<table border=\"1\" class=\"dataframe\">\n",
              "  <thead>\n",
              "    <tr style=\"text-align: right;\">\n",
              "      <th></th>\n",
              "      <th>City</th>\n",
              "      <th>State</th>\n",
              "    </tr>\n",
              "  </thead>\n",
              "  <tbody>\n",
              "    <tr>\n",
              "      <th>0</th>\n",
              "      <td>south san francisco</td>\n",
              "      <td>california</td>\n",
              "    </tr>\n",
              "    <tr>\n",
              "      <th>1</th>\n",
              "      <td>oakland</td>\n",
              "      <td>california</td>\n",
              "    </tr>\n",
              "    <tr>\n",
              "      <th>2</th>\n",
              "      <td>san francisco</td>\n",
              "      <td>california</td>\n",
              "    </tr>\n",
              "    <tr>\n",
              "      <th>3</th>\n",
              "      <td>berkeley</td>\n",
              "      <td>california</td>\n",
              "    </tr>\n",
              "    <tr>\n",
              "      <th>4</th>\n",
              "      <td>san francisco</td>\n",
              "      <td>california</td>\n",
              "    </tr>\n",
              "    <tr>\n",
              "      <th>...</th>\n",
              "      <td>...</td>\n",
              "      <td>...</td>\n",
              "    </tr>\n",
              "    <tr>\n",
              "      <th>59941</th>\n",
              "      <td>oakland</td>\n",
              "      <td>california</td>\n",
              "    </tr>\n",
              "    <tr>\n",
              "      <th>59942</th>\n",
              "      <td>san francisco</td>\n",
              "      <td>california</td>\n",
              "    </tr>\n",
              "    <tr>\n",
              "      <th>59943</th>\n",
              "      <td>south san francisco</td>\n",
              "      <td>california</td>\n",
              "    </tr>\n",
              "    <tr>\n",
              "      <th>59944</th>\n",
              "      <td>san francisco</td>\n",
              "      <td>california</td>\n",
              "    </tr>\n",
              "    <tr>\n",
              "      <th>59945</th>\n",
              "      <td>san francisco</td>\n",
              "      <td>california</td>\n",
              "    </tr>\n",
              "  </tbody>\n",
              "</table>\n",
              "<p>59946 rows × 2 columns</p>\n",
              "</div>"
            ],
            "text/plain": [
              "                      City        State\n",
              "0      south san francisco   california\n",
              "1                  oakland   california\n",
              "2            san francisco   california\n",
              "3                 berkeley   california\n",
              "4            san francisco   california\n",
              "...                    ...          ...\n",
              "59941              oakland   california\n",
              "59942        san francisco   california\n",
              "59943  south san francisco   california\n",
              "59944        san francisco   california\n",
              "59945        san francisco   california\n",
              "\n",
              "[59946 rows x 2 columns]"
            ]
          },
          "metadata": {
            "tags": []
          },
          "execution_count": 48
        }
      ]
    },
    {
      "cell_type": "code",
      "metadata": {
        "id": "LS7D483aZu5k",
        "outputId": "b35dd428-161f-4d31-db14-9a448f907263",
        "colab": {
          "base_uri": "https://localhost:8080/"
        }
      },
      "source": [
        "locations['State'].value_counts().head(20)"
      ],
      "execution_count": 49,
      "outputs": [
        {
          "output_type": "execute_result",
          "data": {
            "text/plain": [
              " california              59855\n",
              " new york                   17\n",
              " illinois                    8\n",
              " massachusetts               5\n",
              " oregon                      4\n",
              " texas                       4\n",
              " michigan                    4\n",
              " florida                     3\n",
              " arizona                     3\n",
              " minnesota                   2\n",
              " virginia                    2\n",
              " district of columbia        2\n",
              " hawaii                      2\n",
              " georgia                     2\n",
              " united kingdom              2\n",
              " spain                       2\n",
              " colorado                    2\n",
              " utah                        2\n",
              " ohio                        2\n",
              " washington                  2\n",
              "Name: State, dtype: int64"
            ]
          },
          "metadata": {
            "tags": []
          },
          "execution_count": 49
        }
      ]
    },
    {
      "cell_type": "markdown",
      "metadata": {
        "id": "1itdRwnP6YAs"
      },
      "source": [
        "##### **Summary**: Respondents are from 40+ states\n",
        "- *overwhelming majority* of survey respondents are from **California**\n",
        "    + Create a Pie Chart for the variety of cities in California\n",
        "- Some locations are **NOT** states but **countries**.\n",
        "    - United Kingdom (2)\n",
        "    - Spain (2)\n",
        "    - Vietnam (1)\n",
        "    - Switzerland (1)\n",
        "    - Netherlands (1)\n",
        "    - Brittish Columbia (1)\n",
        "    - Ireland (1)\n",
        "    - Germany (1)\n",
        "-----------------------------\n",
        "**TOTAL: 10 Countries**\n"
      ]
    },
    {
      "cell_type": "code",
      "metadata": {
        "id": "yaRt_E9g7PSz",
        "outputId": "6767c1ad-e640-47d5-bb78-d8d71d09e88e",
        "colab": {
          "base_uri": "https://localhost:8080/"
        }
      },
      "source": [
        "unique_states = locations['State'].nunique() -1\n",
        "lost_respondants_percentage = round((locations['State'].value_counts()[1:].sum()/ locations['State'].value_counts().sum() *100),2)\n",
        "print(\"By narrowing down the Survey Respondant's states to California we remove %d states we only lose %f percent of the responses.\" \n",
        "      % (unique_states, lost_respondants_percentage))"
      ],
      "execution_count": 50,
      "outputs": [
        {
          "output_type": "stream",
          "text": [
            "By narrowing down the Survey Respondant's states to California we remove 40 states we only lose 0.150000 percent of the responses.\n"
          ],
          "name": "stdout"
        }
      ]
    },
    {
      "cell_type": "code",
      "metadata": {
        "id": "Bemo6Oon6XtI",
        "outputId": "2a2486e5-df28-4013-e149-df627568e783",
        "colab": {
          "base_uri": "https://localhost:8080/"
        }
      },
      "source": [
        "locations['State'].value_counts()[1:].sum()/ locations['State'].value_counts().sum() *100"
      ],
      "execution_count": 51,
      "outputs": [
        {
          "output_type": "execute_result",
          "data": {
            "text/plain": [
              "0.15180328962733125"
            ]
          },
          "metadata": {
            "tags": []
          },
          "execution_count": 51
        }
      ]
    },
    {
      "cell_type": "markdown",
      "metadata": {
        "id": "u_bqMaJKZS34"
      },
      "source": [
        "#### Offspring"
      ]
    },
    {
      "cell_type": "code",
      "metadata": {
        "id": "wX4lM1kjZZKV",
        "outputId": "d9b48271-d055-4805-e025-cecbc0c5ea7a",
        "colab": {
          "base_uri": "https://localhost:8080/"
        }
      },
      "source": [
        "df_copy['offspring'].value_counts()"
      ],
      "execution_count": 52,
      "outputs": [
        {
          "output_type": "execute_result",
          "data": {
            "text/plain": [
              "doesn&rsquo;t have kids                                7560\n",
              "doesn&rsquo;t have kids, but might want them           3875\n",
              "doesn&rsquo;t have kids, but wants them                3565\n",
              "doesn&rsquo;t want kids                                2927\n",
              "has kids                                               1883\n",
              "has a kid                                              1881\n",
              "doesn&rsquo;t have kids, and doesn&rsquo;t want any    1132\n",
              "has kids, but doesn&rsquo;t want more                   442\n",
              "has a kid, but doesn&rsquo;t want more                  275\n",
              "has a kid, and might want more                          231\n",
              "wants kids                                              225\n",
              "might want kids                                         182\n",
              "has kids, and might want more                           115\n",
              "has a kid, and wants more                                71\n",
              "has kids, and wants more                                 21\n",
              "Name: offspring, dtype: int64"
            ]
          },
          "metadata": {
            "tags": []
          },
          "execution_count": 52
        }
      ]
    },
    {
      "cell_type": "code",
      "metadata": {
        "id": "-NkOfZJ4ZYyX",
        "outputId": "65415507-1c4a-4a63-d681-f214425e1ab7",
        "colab": {
          "base_uri": "https://localhost:8080/",
          "height": 350
        }
      },
      "source": [
        "plot_viz(df_copy, 'offspring')"
      ],
      "execution_count": 53,
      "outputs": [
        {
          "output_type": "display_data",
          "data": {
            "image/png": "[encoded data removed]",
            "text/plain": [
              "<Figure size 864x360 with 1 Axes>"
            ]
          },
          "metadata": {
            "tags": [],
            "needs_background": "light"
          }
        }
      ]
    },
    {
      "cell_type": "markdown",
      "metadata": {
        "id": "qXsWCTq_naaA"
      },
      "source": [
        "##### **Summary**: Majority of respondents don't have kids\n",
        "- Create 2 different features\n",
        "    - Current # of Kids : 0,1, >1\n",
        "    - (Y/N) Wants more kids"
      ]
    },
    {
      "cell_type": "markdown",
      "metadata": {
        "id": "amoY1PL7ZZr5"
      },
      "source": [
        "#### Orientation"
      ]
    },
    {
      "cell_type": "code",
      "metadata": {
        "id": "mvcd_W9qZfds",
        "outputId": "8dffe12a-dd4b-4a17-d867-a9a271af7870",
        "colab": {
          "base_uri": "https://localhost:8080/"
        }
      },
      "source": [
        "df_copy['orientation'].value_counts()"
      ],
      "execution_count": 54,
      "outputs": [
        {
          "output_type": "execute_result",
          "data": {
            "text/plain": [
              "straight    51606\n",
              "gay          5573\n",
              "bisexual     2767\n",
              "Name: orientation, dtype: int64"
            ]
          },
          "metadata": {
            "tags": []
          },
          "execution_count": 54
        }
      ]
    },
    {
      "cell_type": "code",
      "metadata": {
        "id": "6hvqhiF7ZgCu",
        "outputId": "0c9f5f50-a773-4ba4-9eee-ce3d2791e39a",
        "colab": {
          "base_uri": "https://localhost:8080/",
          "height": 350
        }
      },
      "source": [
        "plot_viz(df_copy, 'orientation')"
      ],
      "execution_count": 55,
      "outputs": [
        {
          "output_type": "display_data",
          "data": {
            "image/png": "[encoded data removed]",
            "text/plain": [
              "<Figure size 864x360 with 1 Axes>"
            ]
          },
          "metadata": {
            "tags": [],
            "needs_background": "light"
          }
        }
      ]
    },
    {
      "cell_type": "markdown",
      "metadata": {
        "id": "UOr_MoIOY-j8"
      },
      "source": [
        "##### **Summary**: Majority of Respondents are HETEROsexual\n",
        "- (OHE) the 3 categories"
      ]
    },
    {
      "cell_type": "markdown",
      "metadata": {
        "id": "ADoDdV1AZggc"
      },
      "source": [
        "#### Pets"
      ]
    },
    {
      "cell_type": "code",
      "metadata": {
        "id": "Ejq_s9kkZl3J",
        "outputId": "ced1f161-9757-46c1-fc7a-c189b2521c9a",
        "colab": {
          "base_uri": "https://localhost:8080/"
        }
      },
      "source": [
        "df_copy['pets'].value_counts()"
      ],
      "execution_count": 56,
      "outputs": [
        {
          "output_type": "execute_result",
          "data": {
            "text/plain": [
              "likes dogs and likes cats          14814\n",
              "likes dogs                          7224\n",
              "likes dogs and has cats             4313\n",
              "has dogs                            4134\n",
              "has dogs and likes cats             2333\n",
              "likes dogs and dislikes cats        2029\n",
              "has dogs and has cats               1474\n",
              "has cats                            1406\n",
              "likes cats                          1063\n",
              "has dogs and dislikes cats           552\n",
              "dislikes dogs and likes cats         240\n",
              "dislikes dogs and dislikes cats      196\n",
              "dislikes cats                        122\n",
              "dislikes dogs and has cats            81\n",
              "dislikes dogs                         44\n",
              "Name: pets, dtype: int64"
            ]
          },
          "metadata": {
            "tags": []
          },
          "execution_count": 56
        }
      ]
    },
    {
      "cell_type": "code",
      "metadata": {
        "id": "2qVqyWXiZmRM",
        "outputId": "da9c8c47-fd56-497b-905a-477a9cbc5467",
        "colab": {
          "base_uri": "https://localhost:8080/",
          "height": 350
        }
      },
      "source": [
        "plot_viz(df_copy, 'pets')"
      ],
      "execution_count": 57,
      "outputs": [
        {
          "output_type": "display_data",
          "data": {
            "image/png": "[encoded data removed]",
            "text/plain": [
              "<Figure size 864x360 with 1 Axes>"
            ]
          },
          "metadata": {
            "tags": [],
            "needs_background": "light"
          }
        }
      ]
    },
    {
      "cell_type": "markdown",
      "metadata": {
        "id": "R5zXislzZiaU"
      },
      "source": [
        "##### **Summary**: Majority of respondents like >=1 pets\n",
        "- Extract 2 different features\n",
        "    - (Boolean) Likes/ Dislikes pets: If they have a pet then they like animals in general\n",
        "    - (OHE) Dog, Cat, Both, Neither; preference for a pet"
      ]
    },
    {
      "cell_type": "markdown",
      "metadata": {
        "id": "kI71BgCyZmrh"
      },
      "source": [
        "#### Religion"
      ]
    },
    {
      "cell_type": "code",
      "metadata": {
        "id": "Dfjj89URZpZ-",
        "outputId": "0cedbf4a-bf3d-420d-f6fe-b485a256e9a6",
        "colab": {
          "base_uri": "https://localhost:8080/"
        }
      },
      "source": [
        "df_copy['religion'].value_counts()"
      ],
      "execution_count": 58,
      "outputs": [
        {
          "output_type": "execute_result",
          "data": {
            "text/plain": [
              "agnosticism                                   2724\n",
              "other                                         2691\n",
              "agnosticism but not too serious about it      2636\n",
              "agnosticism and laughing about it             2496\n",
              "catholicism but not too serious about it      2318\n",
              "atheism                                       2175\n",
              "other and laughing about it                   2119\n",
              "atheism and laughing about it                 2074\n",
              "christianity                                  1957\n",
              "christianity but not too serious about it     1952\n",
              "other but not too serious about it            1554\n",
              "judaism but not too serious about it          1517\n",
              "atheism but not too serious about it          1318\n",
              "catholicism                                   1064\n",
              "christianity and somewhat serious about it     927\n",
              "atheism and somewhat serious about it          848\n",
              "other and somewhat serious about it            846\n",
              "catholicism and laughing about it              726\n",
              "judaism and laughing about it                  681\n",
              "buddhism but not too serious about it          650\n",
              "agnosticism and somewhat serious about it      642\n",
              "judaism                                        612\n",
              "christianity and very serious about it         578\n",
              "atheism and very serious about it              570\n",
              "catholicism and somewhat serious about it      548\n",
              "other and very serious about it                533\n",
              "buddhism and laughing about it                 466\n",
              "buddhism                                       403\n",
              "christianity and laughing about it             373\n",
              "buddhism and somewhat serious about it         359\n",
              "agnosticism and very serious about it          314\n",
              "judaism and somewhat serious about it          266\n",
              "hinduism but not too serious about it          227\n",
              "hinduism                                       107\n",
              "catholicism and very serious about it          102\n",
              "buddhism and very serious about it              70\n",
              "hinduism and somewhat serious about it          58\n",
              "islam                                           48\n",
              "hinduism and laughing about it                  44\n",
              "islam but not too serious about it              40\n",
              "islam and somewhat serious about it             22\n",
              "judaism and very serious about it               22\n",
              "islam and laughing about it                     16\n",
              "hinduism and very serious about it              14\n",
              "islam and very serious about it                 13\n",
              "Name: religion, dtype: int64"
            ]
          },
          "metadata": {
            "tags": []
          },
          "execution_count": 58
        }
      ]
    },
    {
      "cell_type": "code",
      "metadata": {
        "id": "3AHyvJZvZpI3",
        "outputId": "51a97b7d-b786-4fa2-d956-0a9b790f1d22",
        "colab": {
          "base_uri": "https://localhost:8080/",
          "height": 513
        }
      },
      "source": [
        "plot_viz(df_copy, 'religion', figsize= (12, 8))"
      ],
      "execution_count": 59,
      "outputs": [
        {
          "output_type": "display_data",
          "data": {
            "image/png": "[encoded data removed]",
            "text/plain": [
              "<Figure size 864x576 with 1 Axes>"
            ]
          },
          "metadata": {
            "tags": [],
            "needs_background": "light"
          }
        }
      ]
    },
    {
      "cell_type": "markdown",
      "metadata": {
        "id": "vxWDUoXza9Xz"
      },
      "source": [
        "##### **Summary**: Majority of respondents are \"not too serious\" or \"laughing\" about their religion\n",
        "- Extract 2 signals\n",
        "    - (OE) How Serious they take religion:\n",
        "        1. Serious\n",
        "        2. Moderately serious\n",
        "        3. Not too serious\n",
        "        4. Laughable\n",
        "    - (OHE) Actual Religion\n",
        "        - Catholicism, Agnostic, Hindu, Islam, Christianity, Judaism, Atheism, Buddhism, etc."
      ]
    },
    {
      "cell_type": "markdown",
      "metadata": {
        "id": "M9bKwVStZqKi"
      },
      "source": [
        "#### Sign"
      ]
    },
    {
      "cell_type": "code",
      "metadata": {
        "id": "SEJ9_Hi3xijV"
      },
      "source": [
        "zodiac_list =['Leo', 'Libra', 'Cancer', 'Virgo', \n",
        "              'Scorpio', 'Gemini', 'Taurus', \n",
        "              'Aries', 'Piscs', 'Aquarius', \n",
        "              'Sagittarius', 'Capricorn']"
      ],
      "execution_count": null,
      "outputs": []
    },
    {
      "cell_type": "code",
      "metadata": {
        "id": "VSDV5uLMdogl",
        "outputId": "1b01a058-f60c-4bc8-f590-d6d4cc155060",
        "colab": {
          "base_uri": "https://localhost:8080/"
        }
      },
      "source": [
        "df_copy['sign'].value_counts()"
      ],
      "execution_count": 60,
      "outputs": [
        {
          "output_type": "execute_result",
          "data": {
            "text/plain": [
              "gemini and it&rsquo;s fun to think about         1782\n",
              "scorpio and it&rsquo;s fun to think about        1772\n",
              "leo and it&rsquo;s fun to think about            1692\n",
              "libra and it&rsquo;s fun to think about          1649\n",
              "taurus and it&rsquo;s fun to think about         1640\n",
              "cancer and it&rsquo;s fun to think about         1597\n",
              "pisces and it&rsquo;s fun to think about         1592\n",
              "sagittarius and it&rsquo;s fun to think about    1583\n",
              "virgo and it&rsquo;s fun to think about          1574\n",
              "aries and it&rsquo;s fun to think about          1573\n",
              "aquarius and it&rsquo;s fun to think about       1503\n",
              "virgo but it doesn&rsquo;t matter                1497\n",
              "leo but it doesn&rsquo;t matter                  1457\n",
              "cancer but it doesn&rsquo;t matter               1454\n",
              "gemini but it doesn&rsquo;t matter               1453\n",
              "taurus but it doesn&rsquo;t matter               1450\n",
              "aquarius but it doesn&rsquo;t matter             1408\n",
              "libra but it doesn&rsquo;t matter                1408\n",
              "capricorn and it&rsquo;s fun to think about      1376\n",
              "sagittarius but it doesn&rsquo;t matter          1375\n",
              "aries but it doesn&rsquo;t matter                1373\n",
              "capricorn but it doesn&rsquo;t matter            1319\n",
              "pisces but it doesn&rsquo;t matter               1300\n",
              "scorpio but it doesn&rsquo;t matter              1264\n",
              "leo                                              1159\n",
              "libra                                            1098\n",
              "cancer                                           1092\n",
              "virgo                                            1029\n",
              "scorpio                                          1020\n",
              "gemini                                           1013\n",
              "taurus                                           1001\n",
              "aries                                             996\n",
              "pisces                                            992\n",
              "aquarius                                          954\n",
              "sagittarius                                       937\n",
              "capricorn                                         833\n",
              "scorpio and it matters a lot                       78\n",
              "leo and it matters a lot                           66\n",
              "aquarius and it matters a lot                      63\n",
              "cancer and it matters a lot                        63\n",
              "gemini and it matters a lot                        62\n",
              "pisces and it matters a lot                        62\n",
              "libra and it matters a lot                         52\n",
              "taurus and it matters a lot                        49\n",
              "sagittarius and it matters a lot                   47\n",
              "aries and it matters a lot                         47\n",
              "capricorn and it matters a lot                     45\n",
              "virgo and it matters a lot                         41\n",
              "Name: sign, dtype: int64"
            ]
          },
          "metadata": {
            "tags": []
          },
          "execution_count": 60
        }
      ]
    },
    {
      "cell_type": "code",
      "metadata": {
        "id": "85AuJSDado1M",
        "outputId": "af3180dd-cb6c-4f07-8bce-1d5a4de21592",
        "colab": {
          "base_uri": "https://localhost:8080/",
          "height": 513
        }
      },
      "source": [
        "plot_viz(df_copy, 'sign', figsize=(12, 8))"
      ],
      "execution_count": 61,
      "outputs": [
        {
          "output_type": "display_data",
          "data": {
            "image/png": "[encoded data removed]",
            "text/plain": [
              "<Figure size 864x576 with 1 Axes>"
            ]
          },
          "metadata": {
            "tags": [],
            "needs_background": "light"
          }
        }
      ]
    },
    {
      "cell_type": "markdown",
      "metadata": {
        "id": "BzYhXqG5dpIV"
      },
      "source": [
        "##### **Summary**: Majority of respondants are \"ambivalent\" of zodiacs or believe they are \"fun to think about\".\n",
        "- Extract 2 different signals\n",
        "    - (OE) Affinity: \n",
        "        1. Matters\n",
        "        2. Fun to Think about\n",
        "        3. Doesn't matter\n",
        "    - (OHE) Actual Sign/ Zodiac"
      ]
    },
    {
      "cell_type": "markdown",
      "metadata": {
        "id": "kZ3Qo-13ZvUK"
      },
      "source": [
        "#### Smokes"
      ]
    },
    {
      "cell_type": "code",
      "metadata": {
        "id": "LfU6jK14Zx5i",
        "outputId": "95bf91b3-50db-4c2d-e854-9c35ccc1db6b",
        "colab": {
          "base_uri": "https://localhost:8080/"
        }
      },
      "source": [
        "df_copy['smokes'].value_counts()"
      ],
      "execution_count": 62,
      "outputs": [
        {
          "output_type": "execute_result",
          "data": {
            "text/plain": [
              "no                43896\n",
              "sometimes          3787\n",
              "when drinking      3040\n",
              "yes                2231\n",
              "trying to quit     1480\n",
              "Name: smokes, dtype: int64"
            ]
          },
          "metadata": {
            "tags": []
          },
          "execution_count": 62
        }
      ]
    },
    {
      "cell_type": "code",
      "metadata": {
        "id": "8K6iPQolZyPO",
        "outputId": "4892d975-bd8b-41d1-8a13-d06e849883bd",
        "colab": {
          "base_uri": "https://localhost:8080/",
          "height": 350
        }
      },
      "source": [
        "plot_viz(df_copy, 'smokes')"
      ],
      "execution_count": 63,
      "outputs": [
        {
          "output_type": "display_data",
          "data": {
            "image/png": "[encoded data removed]",
            "text/plain": [
              "<Figure size 864x360 with 1 Axes>"
            ]
          },
          "metadata": {
            "tags": [],
            "needs_background": "light"
          }
        }
      ]
    },
    {
      "cell_type": "markdown",
      "metadata": {
        "id": "ucYQRdcogq0B"
      },
      "source": [
        "##### **Summary**: Majority of respondents do NOT smoke\n",
        "- (OHE) Smoking Prefernce\n",
        "    1. Yes\n",
        "    2. Sometimes = \"sometimes\"+ \"when drinking\" + \"trying to quit\"\n",
        "    3. No\n"
      ]
    },
    {
      "cell_type": "markdown",
      "metadata": {
        "id": "gfC61ixiZyn8"
      },
      "source": [
        "#### Speaks"
      ]
    },
    {
      "cell_type": "code",
      "metadata": {
        "id": "LgTsVllLZ2WY",
        "outputId": "9b18b62e-9b35-4296-ef86-2fb9c9533f49",
        "colab": {
          "base_uri": "https://localhost:8080/"
        }
      },
      "source": [
        "df_copy['speaks'].value_counts().head(30)"
      ],
      "execution_count": 64,
      "outputs": [
        {
          "output_type": "execute_result",
          "data": {
            "text/plain": [
              "english                                                    21828\n",
              "english (fluently)                                          6628\n",
              "english (fluently), spanish (poorly)                        2059\n",
              "english (fluently), spanish (okay)                          1917\n",
              "english (fluently), spanish (fluently)                      1288\n",
              "english, spanish                                             859\n",
              "english (fluently), french (poorly)                          756\n",
              "english, spanish (okay)                                      655\n",
              "english, spanish (poorly)                                    609\n",
              "english (fluently), chinese (fluently)                       535\n",
              "english (fluently), french (okay)                            532\n",
              "english (fluently), chinese (okay)                           430\n",
              "english (poorly)                                             310\n",
              "english (okay)                                               306\n",
              "english, chinese                                             306\n",
              "english (fluently), german (poorly)                          263\n",
              "english, french (poorly)                                     245\n",
              "english (fluently), french (fluently)                        215\n",
              "english, french (okay)                                       210\n",
              "english, french                                              209\n",
              "english, spanish (fluently)                                  198\n",
              "english (fluently), japanese (poorly)                        184\n",
              "english (fluently), chinese (poorly)                         175\n",
              "english (fluently), german (okay)                            160\n",
              "english (fluently), russian (fluently)                       147\n",
              "english (fluently), spanish (fluently), french (poorly)      143\n",
              "english (fluently), spanish (okay), french (poorly)          143\n",
              "english (fluently), french (okay), spanish (poorly)          133\n",
              "english (fluently), french (poorly), spanish (poorly)        130\n",
              "english (fluently), italian (poorly)                         115\n",
              "Name: speaks, dtype: int64"
            ]
          },
          "metadata": {
            "tags": []
          },
          "execution_count": 64
        }
      ]
    },
    {
      "cell_type": "markdown",
      "metadata": {
        "id": "5I6KgRVZjxUi"
      },
      "source": [
        "##### **Summary**: Majority of respondents speak English and are bilingual\n",
        "- (OHE) Extract 2 features:\n",
        "    1. Primary Language\n",
        "    2. Bilingual or better\n",
        "- If possible take into consideration how many *fluent* languages they speak"
      ]
    },
    {
      "cell_type": "markdown",
      "metadata": {
        "id": "mYBmyRDGZ9D-"
      },
      "source": [
        "#### Status"
      ]
    },
    {
      "cell_type": "code",
      "metadata": {
        "id": "VA6FcLZlaBbA",
        "outputId": "07175be1-271e-44ad-afeb-e8ce89cecc31",
        "colab": {
          "base_uri": "https://localhost:8080/"
        }
      },
      "source": [
        "df_copy['status'].value_counts()"
      ],
      "execution_count": 65,
      "outputs": [
        {
          "output_type": "execute_result",
          "data": {
            "text/plain": [
              "single            55697\n",
              "seeing someone     2064\n",
              "available          1865\n",
              "married             310\n",
              "unknown              10\n",
              "Name: status, dtype: int64"
            ]
          },
          "metadata": {
            "tags": []
          },
          "execution_count": 65
        }
      ]
    },
    {
      "cell_type": "code",
      "metadata": {
        "id": "Lnnah3CEaBBD",
        "outputId": "5dca1bbd-e633-4ff6-a796-6946dfaa1b8c",
        "colab": {
          "base_uri": "https://localhost:8080/",
          "height": 350
        }
      },
      "source": [
        "plot_viz(df_copy, 'status')"
      ],
      "execution_count": 66,
      "outputs": [
        {
          "output_type": "display_data",
          "data": {
            "image/png": "[encoded data removed]",
            "text/plain": [
              "<Figure size 864x360 with 1 Axes>"
            ]
          },
          "metadata": {
            "tags": [],
            "needs_background": "light"
          }
        }
      ]
    },
    {
      "cell_type": "markdown",
      "metadata": {
        "id": "PYzSCO2tjx2f"
      },
      "source": [
        "##### **Summary**: Majority of respondents are single\n",
        "- single = \"single\" + available\n",
        "- Curious to see that people are on the dating app even if they are:\n",
        "    - \"seeing someone\" + \"married\" + \"unknown\""
      ]
    },
    {
      "cell_type": "markdown",
      "metadata": {
        "id": "Ipja0AA-DLhq"
      },
      "source": [
        "### Essay Features\n"
      ]
    },
    {
      "cell_type": "markdown",
      "metadata": {
        "id": "XLhA-boFgCgQ"
      },
      "source": [
        "#### Prompts:\n",
        "- essay0 - My self summary\n",
        "- essay1 - What I’m doing with my life\n",
        "- essay2 - I’m really good at\n",
        "- essay3 - The first thing people usually notice about me\n",
        "- essay4 - Favorite books, movies, show, music, and food\n",
        "- essay5 - The six things I could never do without\n",
        "- essay6 - I spend a lot of time thinking about\n",
        "- essay7 - On a typical Friday night I am\n",
        "- essay8 - The most private thing I am willing to admit\n",
        "- essay9 - You should message me if…\n"
      ]
    },
    {
      "cell_type": "markdown",
      "metadata": {
        "id": "VEIo4zr7gCeC"
      },
      "source": [
        "#### Missing data by 'Essay' feature"
      ]
    },
    {
      "cell_type": "code",
      "metadata": {
        "scrolled": true,
        "id": "lPkff6gZgCeC",
        "outputId": "10da1bb9-31c7-42df-9a0a-07d6ececaa12",
        "colab": {
          "base_uri": "https://localhost:8080/",
          "height": 356
        }
      },
      "source": [
        "essay_missing = draw_missing_data_table(df_copy[essay_cols])\n",
        "essay_missing #sorted by %missing of each essay feature"
      ],
      "execution_count": 67,
      "outputs": [
        {
          "output_type": "execute_result",
          "data": {
            "text/html": [
              "<div>\n",
              "<style scoped>\n",
              "    .dataframe tbody tr th:only-of-type {\n",
              "        vertical-align: middle;\n",
              "    }\n",
              "\n",
              "    .dataframe tbody tr th {\n",
              "        vertical-align: top;\n",
              "    }\n",
              "\n",
              "    .dataframe thead th {\n",
              "        text-align: right;\n",
              "    }\n",
              "</style>\n",
              "<table border=\"1\" class=\"dataframe\">\n",
              "  <thead>\n",
              "    <tr style=\"text-align: right;\">\n",
              "      <th></th>\n",
              "      <th>feature</th>\n",
              "      <th>total null</th>\n",
              "      <th>% of null values in the column</th>\n",
              "    </tr>\n",
              "  </thead>\n",
              "  <tbody>\n",
              "    <tr>\n",
              "      <th>0</th>\n",
              "      <td>essay8</td>\n",
              "      <td>19225</td>\n",
              "      <td>0.320705</td>\n",
              "    </tr>\n",
              "    <tr>\n",
              "      <th>1</th>\n",
              "      <td>essay6</td>\n",
              "      <td>13771</td>\n",
              "      <td>0.229723</td>\n",
              "    </tr>\n",
              "    <tr>\n",
              "      <th>2</th>\n",
              "      <td>essay9</td>\n",
              "      <td>12603</td>\n",
              "      <td>0.210239</td>\n",
              "    </tr>\n",
              "    <tr>\n",
              "      <th>3</th>\n",
              "      <td>essay7</td>\n",
              "      <td>12451</td>\n",
              "      <td>0.207704</td>\n",
              "    </tr>\n",
              "    <tr>\n",
              "      <th>4</th>\n",
              "      <td>essay3</td>\n",
              "      <td>11476</td>\n",
              "      <td>0.191439</td>\n",
              "    </tr>\n",
              "    <tr>\n",
              "      <th>5</th>\n",
              "      <td>essay5</td>\n",
              "      <td>10850</td>\n",
              "      <td>0.180996</td>\n",
              "    </tr>\n",
              "    <tr>\n",
              "      <th>6</th>\n",
              "      <td>essay4</td>\n",
              "      <td>10537</td>\n",
              "      <td>0.175775</td>\n",
              "    </tr>\n",
              "    <tr>\n",
              "      <th>7</th>\n",
              "      <td>essay2</td>\n",
              "      <td>9638</td>\n",
              "      <td>0.160778</td>\n",
              "    </tr>\n",
              "    <tr>\n",
              "      <th>8</th>\n",
              "      <td>essay1</td>\n",
              "      <td>7572</td>\n",
              "      <td>0.126314</td>\n",
              "    </tr>\n",
              "    <tr>\n",
              "      <th>9</th>\n",
              "      <td>essay0</td>\n",
              "      <td>5488</td>\n",
              "      <td>0.091549</td>\n",
              "    </tr>\n",
              "  </tbody>\n",
              "</table>\n",
              "</div>"
            ],
            "text/plain": [
              "  feature  total null  % of null values in the column\n",
              "0  essay8       19225                        0.320705\n",
              "1  essay6       13771                        0.229723\n",
              "2  essay9       12603                        0.210239\n",
              "3  essay7       12451                        0.207704\n",
              "4  essay3       11476                        0.191439\n",
              "5  essay5       10850                        0.180996\n",
              "6  essay4       10537                        0.175775\n",
              "7  essay2        9638                        0.160778\n",
              "8  essay1        7572                        0.126314\n",
              "9  essay0        5488                        0.091549"
            ]
          },
          "metadata": {
            "tags": []
          },
          "execution_count": 67
        }
      ]
    },
    {
      "cell_type": "markdown",
      "metadata": {
        "id": "2EgbKCfFgCeb"
      },
      "source": [
        "**Summary**: We notice that users *skip later* (higher number) essay questions"
      ]
    }
  ]
}