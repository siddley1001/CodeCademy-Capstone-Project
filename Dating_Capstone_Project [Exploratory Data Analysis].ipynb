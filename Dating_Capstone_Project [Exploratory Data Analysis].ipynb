{
 "cells": [
  {
   "cell_type": "code",
   "execution_count": 1,
   "metadata": {},
   "outputs": [],
   "source": [
    "import pandas as pd\n",
    "import matplotlib.pyplot as plt\n",
    "import seaborn as sns\n",
    "import numpy as np\n",
    "from datetime import datetime\n",
    "import re"
   ]
  },
  {
   "cell_type": "code",
   "execution_count": 2,
   "metadata": {},
   "outputs": [],
   "source": [
    "df = pd.read_csv('cc_capstone/profiles.csv')\n",
    "df_copy = df.copy()\n",
    "\n",
    "df_features = df_copy.columns\n",
    "df_features = df\n",
    "#Make a copy of the dataset so we have all the original information as we manipulate columns and values"
   ]
  },
  {
   "cell_type": "markdown",
   "metadata": {},
   "source": [
    "### Create user_id column for each row; helps to group data by"
   ]
  },
  {
   "cell_type": "code",
   "execution_count": 37,
   "metadata": {},
   "outputs": [
    {
     "ename": "TypeError",
     "evalue": "insert() missing 1 required positional argument: 'value'",
     "output_type": "error",
     "traceback": [
      "\u001b[0;31m---------------------------------------------------------------------------\u001b[0m",
      "\u001b[0;31mTypeError\u001b[0m                                 Traceback (most recent call last)",
      "\u001b[0;32m<ipython-input-37-7c674a3b0c05>\u001b[0m in \u001b[0;36m<module>\u001b[0;34m\u001b[0m\n\u001b[1;32m      1\u001b[0m \u001b[0mdf_copy\u001b[0m\u001b[0;34m[\u001b[0m\u001b[0;34m'user_id'\u001b[0m\u001b[0;34m]\u001b[0m \u001b[0;34m=\u001b[0m \u001b[0mrange\u001b[0m\u001b[0;34m(\u001b[0m\u001b[0mlen\u001b[0m\u001b[0;34m(\u001b[0m\u001b[0mdf\u001b[0m\u001b[0;34m)\u001b[0m\u001b[0;34m)\u001b[0m\u001b[0;34m\u001b[0m\u001b[0;34m\u001b[0m\u001b[0m\n\u001b[0;32m----> 2\u001b[0;31m \u001b[0mdf_copy\u001b[0m\u001b[0;34m.\u001b[0m\u001b[0minsert\u001b[0m\u001b[0;34m(\u001b[0m\u001b[0;36m0\u001b[0m\u001b[0;34m,\u001b[0m \u001b[0;34m'user_id'\u001b[0m\u001b[0;34m)\u001b[0m\u001b[0;34m\u001b[0m\u001b[0;34m\u001b[0m\u001b[0m\n\u001b[0m\u001b[1;32m      3\u001b[0m \u001b[0mdf_copy\u001b[0m\u001b[0;34m.\u001b[0m\u001b[0mhead\u001b[0m\u001b[0;34m(\u001b[0m\u001b[0;34m)\u001b[0m\u001b[0;34m\u001b[0m\u001b[0;34m\u001b[0m\u001b[0m\n",
      "\u001b[0;31mTypeError\u001b[0m: insert() missing 1 required positional argument: 'value'"
     ]
    }
   ],
   "source": [
    "df_copy['user_id'] = range(len(df))\n",
    "df_copy.insert(0, 'user_id',)\n",
    "df_copy.head()"
   ]
  },
  {
   "cell_type": "markdown",
   "metadata": {},
   "source": [
    "## Split Location data\n",
    "into: City and State Features\n",
    "<br />\n",
    "then into: California and Other States"
   ]
  },
  {
   "cell_type": "code",
   "execution_count": null,
   "metadata": {},
   "outputs": [],
   "source": [
    "location_table = df_copy.location.str.split(pat = ',', expand = True)\n",
    "del location_table[2]\n",
    "location_table.rename(columns = {0: 'City', 1: 'State'}, inplace = True)\n",
    "print(location_table)"
   ]
  },
  {
   "cell_type": "markdown",
   "metadata": {},
   "source": [
    "## Summarize and get a feel for the data\n",
    "- Find how many samples exist in the dataset\n",
    "- Understand data type of each feature and how to best manipulate it to suit our interest\n",
    "(df.info is more comprehensive than df.dtypes)     "
   ]
  },
  {
   "cell_type": "code",
   "execution_count": null,
   "metadata": {
    "scrolled": true
   },
   "outputs": [],
   "source": [
    "print(df_features)\n",
    "df_features.size\n",
    "df.info()"
   ]
  },
  {
   "cell_type": "code",
   "execution_count": null,
   "metadata": {},
   "outputs": [],
   "source": [
    "df.sex.describe()\n",
    "df.height.describe()"
   ]
  },
  {
   "cell_type": "markdown",
   "metadata": {},
   "source": [
    "## Timeframe of the Data:\n",
    " + 2011 - 2012\n",
    " + End of June to Beginning of July (~Essentially JULY2011 - July2012)"
   ]
  },
  {
   "cell_type": "code",
   "execution_count": null,
   "metadata": {},
   "outputs": [],
   "source": [
    "df_copy.last_online.sort_values()"
   ]
  },
  {
   "cell_type": "code",
   "execution_count": null,
   "metadata": {},
   "outputs": [],
   "source": [
    "lo_frame = df_copy['last_online'].to_frame\n",
    "date_time_table = pd.DataFrame(columns = ['dates', \n",
    "                                          'times'])\n",
    "\n",
    "date_time_table['dates'] = df_copy['last_online'].datetime.day\n",
    "# date_time_table['time'] = [datetime.date() for d in df_copy['last_online']]"
   ]
  },
  {
   "cell_type": "markdown",
   "metadata": {},
   "source": [
    "## Drop Features with insufficient data; later build or average values for NA\n",
    "- offspring\n",
    "- diet\n",
    "- **pets**"
   ]
  },
  {
   "cell_type": "code",
   "execution_count": null,
   "metadata": {
    "scrolled": true
   },
   "outputs": [],
   "source": [
    "df_copy.shape\n",
    "#Almost 60,000 observations!"
   ]
  },
  {
   "cell_type": "markdown",
   "metadata": {},
   "source": [
    "# Definitions and thoughts -- in an accompanied Google Sheets\n",
    "- body_type:\n",
    "- diet:\n",
    "- drinks:\n",
    "- drugs:\n",
    "- education:\n",
    "\n",
    "- ethnicity:\n",
    "- height:\n",
    "- income:\n",
    "- job:\n",
    "- offspring:\n",
    "- orientation:\n",
    "- pets:\n",
    "- religion:\n",
    "- sex:\n",
    "- sign:\n",
    "- smokes:\n",
    "- speaks:\n",
    "- status:\n"
   ]
  },
  {
   "cell_type": "code",
   "execution_count": null,
   "metadata": {},
   "outputs": [],
   "source": [
    "df_copy.offspring.describe()"
   ]
  },
  {
   "cell_type": "code",
   "execution_count": 38,
   "metadata": {
    "scrolled": true
   },
   "outputs": [],
   "source": [
    "#To find the amount of missing data in each respective column\n",
    "def draw_missing_data_table(df):\n",
    "    total = df.isnull().sum().sort_values(ascending = False)\n",
    "    percent = (df.isnull().sum()/ df.isnull().count()).sort_values(ascending = False)\n",
    "    missing_data = pd.concat([total, percent], axis = 1, keys = ['Total','Percent Missing'])\n",
    "    return missing_data\n",
    "#Example on how to build your own table\n",
    "draw_missing_data_table(df_copy)\n",
    "\n",
    "init_drop_cols = ['offspring', 'diet', 'religion', 'pets']"
   ]
  },
  {
   "cell_type": "markdown",
   "metadata": {},
   "source": [
    "# EssayQuestions include:\n",
    "- essay0 - My self summary\n",
    "- essay1 - What I’m doing with my life\n",
    "- essay2 - I’m really good at\n",
    "- essay3 - The first thing people usually notice about me\n",
    "- essay4 - Favorite books, movies, show, music, and food\n",
    "- essay5 - The six things I could never do without\n",
    "- essay6 - I spend a lot of time thinking about\n",
    "- essay7 - On a typical Friday night I am\n",
    "- essay8 - The most private thing I am willing to admit\n",
    "- essay9 - You should message me if…\n"
   ]
  },
  {
   "cell_type": "code",
   "execution_count": null,
   "metadata": {},
   "outputs": [],
   "source": [
    "corr = df_copy.corr()\n",
    "ax = sns.heatmap(corr, vmin = -1, vmax= 1, center = 0, cmap = sns.diverging_palette(20,220, n=200), square = True)\n",
    "ax.set_xticklabels(\n",
    "    ax.get_xticklabels(), rotation= 45, horizontalalignment = 'right'\n",
    ")"
   ]
  },
  {
   "cell_type": "code",
   "execution_count": 4,
   "metadata": {},
   "outputs": [
    {
     "data": {
      "image/png": "[encoded data removed]",
      "text/plain": [
       "<Figure size 432x288 with 1 Axes>"
      ]
     },
     "metadata": {
      "needs_background": "light"
     },
     "output_type": "display_data"
    }
   ],
   "source": [
    "# plt.figure(figsize = (50,20))\n",
    "# sns.barplot(x = df['height'], y = df['age'])\n",
    "\n",
    "plt.hist(df_copy.age, bins = 30)\n",
    "plt.xlabel('Age')\n",
    "plt.ylabel('Frequency')\n",
    "plt.xlim(16,70)\n",
    "\n",
    "# plt.boxplot(df_copy.age)\n",
    "plt.show()"
   ]
  },
  {
   "cell_type": "code",
   "execution_count": 5,
   "metadata": {},
   "outputs": [
    {
     "data": {
      "image/png": "[encoded data removed]",
      "text/plain": [
       "<Figure size 432x288 with 1 Axes>"
      ]
     },
     "metadata": {
      "needs_background": "light"
     },
     "output_type": "display_data"
    }
   ],
   "source": [
    "plt.hist(df_copy.sex, bins = 2, align = 'mid')\n",
    "plt.xlabel('sex')\n",
    "plt.ylabel('freq')\n",
    "plt.title('Distribution of Male and Female participants')\n",
    "plt.show()"
   ]
  },
  {
   "cell_type": "code",
   "execution_count": 6,
   "metadata": {},
   "outputs": [
    {
     "data": {
      "image/png": "[encoded data removed]",
      "text/plain": [
       "<Figure size 432x288 with 1 Axes>"
      ]
     },
     "metadata": {
      "needs_background": "light"
     },
     "output_type": "display_data"
    }
   ],
   "source": [
    "plt.hist(df_copy.orientation, bins = 3)\n",
    "plt.xlabel('orientation')\n",
    "plt.ylabel('Frequency')\n",
    "plt.title('Distribution of Sexual Orientation in Data')\n",
    "plt.tight_layout()\n",
    "plt.show()"
   ]
  },
  {
   "cell_type": "code",
   "execution_count": 7,
   "metadata": {},
   "outputs": [
    {
     "data": {
      "image/png": "[encoded data removed]",
      "text/plain": [
       "<Figure size 432x288 with 1 Axes>"
      ]
     },
     "metadata": {
      "needs_background": "light"
     },
     "output_type": "display_data"
    }
   ],
   "source": [
    "plt.hist(df_copy.location, bins = 20, orientation = 'vertical')\n",
    "plt.xlabel('locations')\n",
    "plt.ylabel('freq')\n",
    "plt.title('Frequency of Responses based on Location')\n",
    "# plt.xticks(rotation = 'vertical')\n",
    "plt.tight_layout()\n",
    "plt.show()"
   ]
  },
  {
   "cell_type": "code",
   "execution_count": 8,
   "metadata": {},
   "outputs": [],
   "source": [
    "# plt.hist(df_copy.drinks.value_counts, bins = 8)\n",
    "# plt.xlabel('Drinks')\n",
    "# plt.ylabel('Frequency')\n",
    "# plt.title('Frequency of Drinks based on individual preference')\n",
    "# plt.show()"
   ]
  },
  {
   "cell_type": "code",
   "execution_count": 9,
   "metadata": {},
   "outputs": [],
   "source": [
    "unique_edu = df_copy['education'].unique().dtype\n",
    "# sorted(unique_edu)"
   ]
  },
  {
   "cell_type": "code",
   "execution_count": 29,
   "metadata": {},
   "outputs": [
    {
     "name": "stdout",
     "output_type": "stream",
     "text": [
      "location                         sex\n",
      "san francisco, california        m      18799\n",
      "                                 f      12265\n",
      "oakland, california              m       3723\n",
      "                                 f       3491\n",
      "berkeley, california             m       2455\n",
      "                                 f       1757\n",
      "san mateo, california            m        852\n",
      "palo alto, california            m        695\n",
      "alameda, california              m        543\n",
      "hayward, california              m        498\n",
      "daly city, california            m        491\n",
      "san mateo, california            f        479\n",
      "emeryville, california           m        469\n",
      "redwood city, california         m        434\n",
      "san rafael, california           m        415\n",
      "san leandro, california          m        401\n",
      "vallejo, california              m        387\n",
      "walnut creek, california         m        387\n",
      "palo alto, california            f        369\n",
      "alameda, california              f        367\n",
      "san rafael, california           f        340\n",
      "south san francisco, california  m        294\n",
      "menlo park, california           m        280\n",
      "mountain view, california        m        278\n",
      "emeryville, california           f        269\n",
      "redwood city, california         f        259\n",
      "richmond, california             m        258\n",
      "walnut creek, california         f        257\n",
      "san leandro, california          f        250\n",
      "hayward, california              f        249\n",
      "stanford, california             m        244\n",
      "novato, california               m        230\n",
      "pleasant hill, california        m        210\n",
      "burlingame, california           m        207\n",
      "el cerrito, california           m        204\n",
      "castro valley, california        m        202\n",
      "pacifica, california             m        201\n",
      "menlo park, california           f        199\n",
      "san bruno, california            m        198\n",
      "daly city, california            f        190\n",
      "martinez, california             m        179\n",
      "mill valley, california          f        176\n",
      "vallejo, california              f        171\n",
      "richmond, california             f        166\n",
      "san pablo, california            m        162\n",
      "burlingame, california           f        154\n",
      "belmont, california              m        149\n",
      "san carlos, california           m        147\n",
      "castro valley, california        f        143\n",
      "novato, california               f        139\n",
      "mill valley, california          m        139\n",
      "pleasant hill, california        f        137\n",
      "martinez, california             f        137\n",
      "albany, california               m        128\n",
      "pacifica, california             f        122\n",
      "south san francisco, california  f        122\n",
      "el cerrito, california           f        121\n",
      "benicia, california              m        117\n",
      "millbrae, california             m        113\n",
      "lafayette, california            m        106\n",
      "Name: sex, dtype: int64\n"
     ]
    },
    {
     "ename": "KeyError",
     "evalue": "'sex'",
     "output_type": "error",
     "traceback": [
      "\u001b[0;31m---------------------------------------------------------------------------\u001b[0m",
      "\u001b[0;31mTypeError\u001b[0m                                 Traceback (most recent call last)",
      "\u001b[0;32m~/opt/anaconda3/lib/python3.7/site-packages/pandas/core/indexes/multi.py\u001b[0m in \u001b[0;36mget_value\u001b[0;34m(self, series, key)\u001b[0m\n\u001b[1;32m   1496\u001b[0m             \u001b[0;32mtry\u001b[0m\u001b[0;34m:\u001b[0m\u001b[0;34m\u001b[0m\u001b[0;34m\u001b[0m\u001b[0m\n\u001b[0;32m-> 1497\u001b[0;31m                 \u001b[0;32mreturn\u001b[0m \u001b[0mlibindex\u001b[0m\u001b[0;34m.\u001b[0m\u001b[0mget_value_at\u001b[0m\u001b[0;34m(\u001b[0m\u001b[0ms\u001b[0m\u001b[0;34m,\u001b[0m \u001b[0mk\u001b[0m\u001b[0;34m)\u001b[0m\u001b[0;34m\u001b[0m\u001b[0;34m\u001b[0m\u001b[0m\n\u001b[0m\u001b[1;32m   1498\u001b[0m             \u001b[0;32mexcept\u001b[0m \u001b[0mIndexError\u001b[0m\u001b[0;34m:\u001b[0m\u001b[0;34m\u001b[0m\u001b[0;34m\u001b[0m\u001b[0m\n",
      "\u001b[0;32mpandas/_libs/index.pyx\u001b[0m in \u001b[0;36mpandas._libs.index.get_value_at\u001b[0;34m()\u001b[0m\n",
      "\u001b[0;32mpandas/_libs/index.pyx\u001b[0m in \u001b[0;36mpandas._libs.index.get_value_at\u001b[0;34m()\u001b[0m\n",
      "\u001b[0;32mpandas/_libs/util.pxd\u001b[0m in \u001b[0;36mpandas._libs.util.get_value_at\u001b[0;34m()\u001b[0m\n",
      "\u001b[0;32mpandas/_libs/util.pxd\u001b[0m in \u001b[0;36mpandas._libs.util.validate_indexer\u001b[0;34m()\u001b[0m\n",
      "\u001b[0;31mTypeError\u001b[0m: 'str' object cannot be interpreted as an integer",
      "\nDuring handling of the above exception, another exception occurred:\n",
      "\u001b[0;31mKeyError\u001b[0m                                  Traceback (most recent call last)",
      "\u001b[0;32m<ipython-input-29-e10cbf5dfe83>\u001b[0m in \u001b[0;36m<module>\u001b[0;34m\u001b[0m\n\u001b[1;32m      2\u001b[0m \u001b[0mprint\u001b[0m\u001b[0;34m(\u001b[0m\u001b[0mloc_data\u001b[0m\u001b[0;34m.\u001b[0m\u001b[0mhead\u001b[0m\u001b[0;34m(\u001b[0m\u001b[0;36m60\u001b[0m\u001b[0;34m)\u001b[0m\u001b[0;34m)\u001b[0m\u001b[0;34m\u001b[0m\u001b[0;34m\u001b[0m\u001b[0m\n\u001b[1;32m      3\u001b[0m \u001b[0mloc_data\u001b[0m\u001b[0;34m.\u001b[0m\u001b[0mto_frame\u001b[0m\u001b[0;34m(\u001b[0m\u001b[0;34m)\u001b[0m\u001b[0;34m\u001b[0m\u001b[0;34m\u001b[0m\u001b[0m\n\u001b[0;32m----> 4\u001b[0;31m \u001b[0mprint\u001b[0m\u001b[0;34m(\u001b[0m\u001b[0mloc_data\u001b[0m\u001b[0;34m[\u001b[0m\u001b[0;34m'sex'\u001b[0m\u001b[0;34m]\u001b[0m\u001b[0;34m)\u001b[0m\u001b[0;34m\u001b[0m\u001b[0;34m\u001b[0m\u001b[0m\n\u001b[0m\u001b[1;32m      5\u001b[0m \u001b[0mlocation_data\u001b[0m \u001b[0;34m=\u001b[0m \u001b[0mdf_copy\u001b[0m\u001b[0;34m.\u001b[0m\u001b[0mgroupby\u001b[0m\u001b[0;34m(\u001b[0m\u001b[0;34m[\u001b[0m\u001b[0;34m'location'\u001b[0m\u001b[0;34m]\u001b[0m\u001b[0;34m)\u001b[0m\u001b[0;34m[\u001b[0m\u001b[0;34m'sex'\u001b[0m\u001b[0;34m]\u001b[0m\u001b[0;34m.\u001b[0m\u001b[0mcount\u001b[0m\u001b[0;34m(\u001b[0m\u001b[0;34m)\u001b[0m\u001b[0;34m.\u001b[0m\u001b[0msort_values\u001b[0m\u001b[0;34m(\u001b[0m\u001b[0mascending\u001b[0m \u001b[0;34m=\u001b[0m \u001b[0;32mFalse\u001b[0m\u001b[0;34m)\u001b[0m\u001b[0;34m\u001b[0m\u001b[0;34m\u001b[0m\u001b[0m\n",
      "\u001b[0;32m~/opt/anaconda3/lib/python3.7/site-packages/pandas/core/series.py\u001b[0m in \u001b[0;36m__getitem__\u001b[0;34m(self, key)\u001b[0m\n\u001b[1;32m    869\u001b[0m         \u001b[0mkey\u001b[0m \u001b[0;34m=\u001b[0m \u001b[0mcom\u001b[0m\u001b[0;34m.\u001b[0m\u001b[0mapply_if_callable\u001b[0m\u001b[0;34m(\u001b[0m\u001b[0mkey\u001b[0m\u001b[0;34m,\u001b[0m \u001b[0mself\u001b[0m\u001b[0;34m)\u001b[0m\u001b[0;34m\u001b[0m\u001b[0;34m\u001b[0m\u001b[0m\n\u001b[1;32m    870\u001b[0m         \u001b[0;32mtry\u001b[0m\u001b[0;34m:\u001b[0m\u001b[0;34m\u001b[0m\u001b[0;34m\u001b[0m\u001b[0m\n\u001b[0;32m--> 871\u001b[0;31m             \u001b[0mresult\u001b[0m \u001b[0;34m=\u001b[0m \u001b[0mself\u001b[0m\u001b[0;34m.\u001b[0m\u001b[0mindex\u001b[0m\u001b[0;34m.\u001b[0m\u001b[0mget_value\u001b[0m\u001b[0;34m(\u001b[0m\u001b[0mself\u001b[0m\u001b[0;34m,\u001b[0m \u001b[0mkey\u001b[0m\u001b[0;34m)\u001b[0m\u001b[0;34m\u001b[0m\u001b[0;34m\u001b[0m\u001b[0m\n\u001b[0m\u001b[1;32m    872\u001b[0m \u001b[0;34m\u001b[0m\u001b[0m\n\u001b[1;32m    873\u001b[0m             \u001b[0;32mif\u001b[0m \u001b[0;32mnot\u001b[0m \u001b[0mis_scalar\u001b[0m\u001b[0;34m(\u001b[0m\u001b[0mresult\u001b[0m\u001b[0;34m)\u001b[0m\u001b[0;34m:\u001b[0m\u001b[0;34m\u001b[0m\u001b[0;34m\u001b[0m\u001b[0m\n",
      "\u001b[0;32m~/opt/anaconda3/lib/python3.7/site-packages/pandas/core/indexes/multi.py\u001b[0m in \u001b[0;36mget_value\u001b[0;34m(self, series, key)\u001b[0m\n\u001b[1;32m   1503\u001b[0m                     \u001b[0;32mraise\u001b[0m \u001b[0mInvalidIndexError\u001b[0m\u001b[0;34m(\u001b[0m\u001b[0mkey\u001b[0m\u001b[0;34m)\u001b[0m\u001b[0;34m\u001b[0m\u001b[0;34m\u001b[0m\u001b[0m\n\u001b[1;32m   1504\u001b[0m                 \u001b[0;32melse\u001b[0m\u001b[0;34m:\u001b[0m\u001b[0;34m\u001b[0m\u001b[0;34m\u001b[0m\u001b[0m\n\u001b[0;32m-> 1505\u001b[0;31m                     \u001b[0;32mraise\u001b[0m \u001b[0me1\u001b[0m\u001b[0;34m\u001b[0m\u001b[0;34m\u001b[0m\u001b[0m\n\u001b[0m\u001b[1;32m   1506\u001b[0m             \u001b[0;32mexcept\u001b[0m \u001b[0mException\u001b[0m\u001b[0;34m:\u001b[0m  \u001b[0;31m# pragma: no cover\u001b[0m\u001b[0;34m\u001b[0m\u001b[0;34m\u001b[0m\u001b[0m\n\u001b[1;32m   1507\u001b[0m                 \u001b[0;32mraise\u001b[0m \u001b[0me1\u001b[0m\u001b[0;34m\u001b[0m\u001b[0;34m\u001b[0m\u001b[0m\n",
      "\u001b[0;32m~/opt/anaconda3/lib/python3.7/site-packages/pandas/core/indexes/multi.py\u001b[0m in \u001b[0;36mget_value\u001b[0;34m(self, series, key)\u001b[0m\n\u001b[1;32m   1487\u001b[0m \u001b[0;34m\u001b[0m\u001b[0m\n\u001b[1;32m   1488\u001b[0m         \u001b[0;32mtry\u001b[0m\u001b[0;34m:\u001b[0m\u001b[0;34m\u001b[0m\u001b[0;34m\u001b[0m\u001b[0m\n\u001b[0;32m-> 1489\u001b[0;31m             \u001b[0;32mreturn\u001b[0m \u001b[0mself\u001b[0m\u001b[0;34m.\u001b[0m\u001b[0m_engine\u001b[0m\u001b[0;34m.\u001b[0m\u001b[0mget_value\u001b[0m\u001b[0;34m(\u001b[0m\u001b[0ms\u001b[0m\u001b[0;34m,\u001b[0m \u001b[0mk\u001b[0m\u001b[0;34m)\u001b[0m\u001b[0;34m\u001b[0m\u001b[0;34m\u001b[0m\u001b[0m\n\u001b[0m\u001b[1;32m   1490\u001b[0m         \u001b[0;32mexcept\u001b[0m \u001b[0mKeyError\u001b[0m \u001b[0;32mas\u001b[0m \u001b[0me1\u001b[0m\u001b[0;34m:\u001b[0m\u001b[0;34m\u001b[0m\u001b[0;34m\u001b[0m\u001b[0m\n\u001b[1;32m   1491\u001b[0m             \u001b[0;32mtry\u001b[0m\u001b[0;34m:\u001b[0m\u001b[0;34m\u001b[0m\u001b[0;34m\u001b[0m\u001b[0m\n",
      "\u001b[0;32mpandas/_libs/index.pyx\u001b[0m in \u001b[0;36mpandas._libs.index.IndexEngine.get_value\u001b[0;34m()\u001b[0m\n",
      "\u001b[0;32mpandas/_libs/index.pyx\u001b[0m in \u001b[0;36mpandas._libs.index.IndexEngine.get_value\u001b[0;34m()\u001b[0m\n",
      "\u001b[0;32mpandas/_libs/index.pyx\u001b[0m in \u001b[0;36mpandas._libs.index.IndexEngine.get_loc\u001b[0;34m()\u001b[0m\n",
      "\u001b[0;32mpandas/_libs/index.pyx\u001b[0m in \u001b[0;36mpandas._libs.index.BaseMultiIndexCodesEngine.get_loc\u001b[0;34m()\u001b[0m\n",
      "\u001b[0;31mKeyError\u001b[0m: 'sex'"
     ]
    }
   ],
   "source": [
    "loc_data = df_copy.groupby(['location', 'sex'])['sex'].count().sort_values(ascending = False)\n",
    "print(loc_data.head(60))\n",
    "loc_data.to_frame()\n",
    "print(loc_data['sex'])\n",
    "location_data = df_copy.groupby(['location'])['sex'].count().sort_values(ascending = False)"
   ]
  },
  {
   "cell_type": "code",
   "execution_count": 10,
   "metadata": {},
   "outputs": [
    {
     "data": {
      "text/plain": [
       "32"
      ]
     },
     "execution_count": 10,
     "metadata": {},
     "output_type": "execute_result"
    }
   ],
   "source": [
    "df_copy['education'].nunique()"
   ]
  },
  {
   "cell_type": "markdown",
   "metadata": {},
   "source": [
    "## Create a dictionary that maps the 32 different education features to 4:\n",
    "- Graduated High School\n",
    "- Graduated College/ University\n",
    "- Graduated Masters or PhD program\n",
    "- Other"
   ]
  },
  {
   "cell_type": "code",
   "execution_count": 11,
   "metadata": {},
   "outputs": [
    {
     "data": {
      "text/plain": [
       "0               asian, white\n",
       "1                      white\n",
       "3                      white\n",
       "4        asian, black, other\n",
       "5                      white\n",
       "                ...         \n",
       "59940         middle eastern\n",
       "59942           white, other\n",
       "59943                  asian\n",
       "59944           asian, black\n",
       "59945                  white\n",
       "Name: ethnicity, Length: 54266, dtype: object"
      ]
     },
     "execution_count": 11,
     "metadata": {},
     "output_type": "execute_result"
    }
   ],
   "source": [
    "df_copy['ethnicity'].unique()\n",
    "df_copy['ethnicity'].dropna()"
   ]
  },
  {
   "cell_type": "code",
   "execution_count": 12,
   "metadata": {},
   "outputs": [
    {
     "data": {
      "text/plain": [
       "217"
      ]
     },
     "execution_count": 12,
     "metadata": {},
     "output_type": "execute_result"
    }
   ],
   "source": [
    "df_copy['ethnicity'].nunique()"
   ]
  },
  {
   "cell_type": "code",
   "execution_count": 13,
   "metadata": {},
   "outputs": [
    {
     "data": {
      "text/plain": [
       "array(['single', 'available', 'seeing someone', 'married', 'unknown'],\n",
       "      dtype=object)"
      ]
     },
     "execution_count": 13,
     "metadata": {},
     "output_type": "execute_result"
    }
   ],
   "source": [
    "df_copy['status'].unique()"
   ]
  },
  {
   "cell_type": "code",
   "execution_count": 14,
   "metadata": {
    "scrolled": true
   },
   "outputs": [
    {
     "ename": "NameError",
     "evalue": "name 'init_drop_cols' is not defined",
     "output_type": "error",
     "traceback": [
      "\u001b[0;31m---------------------------------------------------------------------------\u001b[0m",
      "\u001b[0;31mNameError\u001b[0m                                 Traceback (most recent call last)",
      "\u001b[0;32m<ipython-input-14-0246d6949da3>\u001b[0m in \u001b[0;36m<module>\u001b[0;34m\u001b[0m\n\u001b[1;32m      3\u001b[0m \u001b[0mplt\u001b[0m\u001b[0;34m.\u001b[0m\u001b[0mrcParams\u001b[0m\u001b[0;34m[\u001b[0m\u001b[0;34m'xtick.direction'\u001b[0m\u001b[0;34m]\u001b[0m \u001b[0;34m=\u001b[0m \u001b[0;34m'inout'\u001b[0m\u001b[0;34m\u001b[0m\u001b[0;34m\u001b[0m\u001b[0m\n\u001b[1;32m      4\u001b[0m \u001b[0mplt\u001b[0m\u001b[0;34m.\u001b[0m\u001b[0mrcParams\u001b[0m\u001b[0;34m[\u001b[0m\u001b[0;34m'legend.fontsize'\u001b[0m\u001b[0;34m]\u001b[0m \u001b[0;34m=\u001b[0m \u001b[0;36m25\u001b[0m\u001b[0;34m\u001b[0m\u001b[0;34m\u001b[0m\u001b[0m\n\u001b[0;32m----> 5\u001b[0;31m \u001b[0;32mfor\u001b[0m \u001b[0mi\u001b[0m \u001b[0;32min\u001b[0m \u001b[0minit_drop_cols\u001b[0m\u001b[0;34m:\u001b[0m\u001b[0;34m\u001b[0m\u001b[0;34m\u001b[0m\u001b[0m\n\u001b[0m\u001b[1;32m      6\u001b[0m     \u001b[0mdf_copy\u001b[0m\u001b[0;34m[\u001b[0m\u001b[0minit_drop_cols\u001b[0m\u001b[0;34m]\u001b[0m\u001b[0;34m[\u001b[0m\u001b[0mi\u001b[0m\u001b[0;34m]\u001b[0m\u001b[0;34m.\u001b[0m\u001b[0mhist\u001b[0m\u001b[0;34m(\u001b[0m\u001b[0;34m)\u001b[0m\u001b[0;34m\u001b[0m\u001b[0;34m\u001b[0m\u001b[0m\n\u001b[1;32m      7\u001b[0m \u001b[0mplt\u001b[0m\u001b[0;34m.\u001b[0m\u001b[0mtight_layout\u001b[0m\u001b[0;34m(\u001b[0m\u001b[0;34m)\u001b[0m\u001b[0;34m\u001b[0m\u001b[0;34m\u001b[0m\u001b[0m\n",
      "\u001b[0;31mNameError\u001b[0m: name 'init_drop_cols' is not defined"
     ]
    }
   ],
   "source": [
    "plt.rcParams['figure.figsize'] = [20,20]\n",
    "plt.rcParams['axes.labelsize'] = 50\n",
    "plt.rcParams['xtick.direction'] = 'inout'\n",
    "plt.rcParams['legend.fontsize'] = 25\n",
    "for i in init_drop_cols:\n",
    "    df_copy[init_drop_cols][i].hist()\n",
    "plt.tight_layout()\n",
    "plt.legend(init_drop_cols)\n",
    "# df_copy['offspring'].hist()"
   ]
  },
  {
   "cell_type": "code",
   "execution_count": 15,
   "metadata": {},
   "outputs": [
    {
     "data": {
      "text/plain": [
       "mostly anything        16585\n",
       "anything                6183\n",
       "strictly anything       5113\n",
       "mostly vegetarian       3444\n",
       "mostly other            1007\n",
       "strictly vegetarian      875\n",
       "vegetarian               667\n",
       "strictly other           452\n",
       "mostly vegan             338\n",
       "other                    331\n",
       "strictly vegan           228\n",
       "vegan                    136\n",
       "mostly kosher             86\n",
       "mostly halal              48\n",
       "strictly halal            18\n",
       "strictly kosher           18\n",
       "halal                     11\n",
       "kosher                    11\n",
       "Name: diet, dtype: int64"
      ]
     },
     "execution_count": 15,
     "metadata": {},
     "output_type": "execute_result"
    }
   ],
   "source": [
    "df_copy.diet.value_counts()"
   ]
  },
  {
   "cell_type": "code",
   "execution_count": 16,
   "metadata": {},
   "outputs": [
    {
     "data": {
      "text/plain": [
       "never        37724\n",
       "sometimes     7732\n",
       "often          410\n",
       "Name: drugs, dtype: int64"
      ]
     },
     "execution_count": 16,
     "metadata": {},
     "output_type": "execute_result"
    }
   ],
   "source": [
    "df_copy.drugs.value_counts()"
   ]
  },
  {
   "cell_type": "code",
   "execution_count": 17,
   "metadata": {},
   "outputs": [
    {
     "data": {
      "text/plain": [
       "socially       41780\n",
       "rarely          5957\n",
       "often           5164\n",
       "not at all      3267\n",
       "very often       471\n",
       "desperately      322\n",
       "Name: drinks, dtype: int64"
      ]
     },
     "execution_count": 17,
     "metadata": {},
     "output_type": "execute_result"
    }
   ],
   "source": [
    "df_copy.drinks.value_counts()"
   ]
  },
  {
   "cell_type": "code",
   "execution_count": 18,
   "metadata": {},
   "outputs": [
    {
     "data": {
      "text/plain": [
       "graduated from college/university    23959\n",
       "graduated from masters program        8961\n",
       "working on college/university         5712\n",
       "working on masters program            1683\n",
       "graduated from two-year college       1531\n",
       "graduated from high school            1428\n",
       "graduated from ph.d program           1272\n",
       "graduated from law school             1122\n",
       "working on two-year college           1074\n",
       "dropped out of college/university      995\n",
       "working on ph.d program                983\n",
       "college/university                     801\n",
       "graduated from space camp              657\n",
       "dropped out of space camp              523\n",
       "graduated from med school              446\n",
       "working on space camp                  445\n",
       "working on law school                  269\n",
       "two-year college                       222\n",
       "working on med school                  212\n",
       "dropped out of two-year college        191\n",
       "dropped out of masters program         140\n",
       "masters program                        136\n",
       "dropped out of ph.d program            127\n",
       "dropped out of high school             102\n",
       "high school                             96\n",
       "working on high school                  87\n",
       "space camp                              58\n",
       "ph.d program                            26\n",
       "law school                              19\n",
       "dropped out of law school               18\n",
       "dropped out of med school               12\n",
       "med school                              11\n",
       "Name: education, dtype: int64"
      ]
     },
     "execution_count": 18,
     "metadata": {},
     "output_type": "execute_result"
    }
   ],
   "source": [
    "df_copy.education.value_counts()\n",
    "# edu_table = pd.DataFrame(['In School', \n",
    "#                           'Graduated', \n",
    "#                           ''])"
   ]
  },
  {
   "cell_type": "code",
   "execution_count": 19,
   "metadata": {},
   "outputs": [
    {
     "data": {
      "text/plain": [
       "white                                                                                        32831\n",
       "asian                                                                                         6134\n",
       "hispanic / latin                                                                              2823\n",
       "black                                                                                         2008\n",
       "other                                                                                         1706\n",
       "                                                                                             ...  \n",
       "middle eastern, black, native american, indian, pacific islander, hispanic / latin, white        1\n",
       "black, native american, pacific islander, hispanic / latin                                       1\n",
       "middle eastern, native american, white, other                                                    1\n",
       "asian, black, native american, pacific islander, white, other                                    1\n",
       "asian, middle eastern, native american, hispanic / latin, white                                  1\n",
       "Name: ethnicity, Length: 217, dtype: int64"
      ]
     },
     "execution_count": 19,
     "metadata": {},
     "output_type": "execute_result"
    }
   ],
   "source": [
    "df_copy.ethnicity.value_counts()"
   ]
  },
  {
   "cell_type": "code",
   "execution_count": 20,
   "metadata": {},
   "outputs": [
    {
     "data": {
      "text/plain": [
       "-1          48442\n",
       " 20000       2952\n",
       " 100000      1621\n",
       " 80000       1111\n",
       " 30000       1048\n",
       " 40000       1005\n",
       " 50000        975\n",
       " 60000        736\n",
       " 70000        707\n",
       " 150000       631\n",
       " 1000000      521\n",
       " 250000       149\n",
       " 500000        48\n",
       "Name: income, dtype: int64"
      ]
     },
     "execution_count": 20,
     "metadata": {},
     "output_type": "execute_result"
    }
   ],
   "source": [
    "df_copy.income.value_counts()"
   ]
  },
  {
   "cell_type": "code",
   "execution_count": 21,
   "metadata": {},
   "outputs": [
    {
     "data": {
      "text/plain": [
       "other                                7589\n",
       "student                              4882\n",
       "science / tech / engineering         4848\n",
       "computer / hardware / software       4709\n",
       "artistic / musical / writer          4439\n",
       "sales / marketing / biz dev          4391\n",
       "medicine / health                    3680\n",
       "education / academia                 3513\n",
       "executive / management               2373\n",
       "banking / financial / real estate    2266\n",
       "entertainment / media                2250\n",
       "law / legal services                 1381\n",
       "hospitality / travel                 1364\n",
       "construction / craftsmanship         1021\n",
       "clerical / administrative             805\n",
       "political / government                708\n",
       "rather not say                        436\n",
       "transportation                        366\n",
       "unemployed                            273\n",
       "retired                               250\n",
       "military                              204\n",
       "Name: job, dtype: int64"
      ]
     },
     "execution_count": 21,
     "metadata": {},
     "output_type": "execute_result"
    }
   ],
   "source": [
    "df_copy.job.value_counts()"
   ]
  },
  {
   "cell_type": "code",
   "execution_count": 22,
   "metadata": {},
   "outputs": [
    {
     "data": {
      "text/plain": [
       "2012-06-29-22-56    24\n",
       "2012-06-30-23-27    23\n",
       "2012-06-30-21-51    23\n",
       "2012-06-30-22-56    23\n",
       "2012-06-30-22-09    23\n",
       "2012-06-30-23-55    22\n",
       "2012-06-30-22-50    22\n",
       "2012-06-30-11-14    22\n",
       "2012-06-30-22-53    22\n",
       "2012-06-30-10-15    22\n",
       "2012-06-30-22-57    22\n",
       "2012-06-30-22-13    22\n",
       "2012-06-29-22-42    21\n",
       "2012-06-30-21-59    21\n",
       "2012-06-30-19-09    21\n",
       "2012-06-30-11-55    21\n",
       "2012-06-30-21-12    21\n",
       "2012-06-30-19-23    21\n",
       "2012-06-29-22-58    20\n",
       "2012-06-30-11-32    20\n",
       "2012-06-29-22-33    20\n",
       "2012-06-29-22-50    20\n",
       "2012-06-30-20-04    20\n",
       "2012-06-29-23-39    20\n",
       "2012-06-30-19-44    20\n",
       "2012-06-29-22-21    20\n",
       "2012-06-30-19-24    20\n",
       "2012-06-29-23-23    20\n",
       "2012-06-30-19-47    20\n",
       "2012-06-30-22-49    20\n",
       "2012-06-30-22-18    19\n",
       "2012-06-29-20-35    19\n",
       "2012-06-29-23-36    19\n",
       "2012-06-30-13-15    19\n",
       "2012-06-30-13-50    19\n",
       "2012-06-30-23-14    19\n",
       "2012-06-30-21-26    19\n",
       "2012-06-30-20-36    19\n",
       "2012-06-30-10-56    19\n",
       "2012-06-29-23-37    19\n",
       "2012-06-30-00-16    19\n",
       "2012-06-30-00-24    19\n",
       "2012-06-30-13-30    19\n",
       "2012-06-30-23-59    19\n",
       "2012-06-30-17-08    19\n",
       "2012-06-29-22-55    19\n",
       "2012-06-30-19-05    19\n",
       "2012-06-29-23-43    19\n",
       "2012-06-29-23-31    19\n",
       "2012-06-30-19-45    18\n",
       "Name: last_online, dtype: int64"
      ]
     },
     "execution_count": 22,
     "metadata": {},
     "output_type": "execute_result"
    }
   ],
   "source": [
    "df_copy.last_online.value_counts().head(50)"
   ]
  },
  {
   "cell_type": "code",
   "execution_count": 23,
   "metadata": {},
   "outputs": [
    {
     "data": {
      "text/plain": [
       "san francisco, california          31064\n",
       "oakland, california                 7214\n",
       "berkeley, california                4212\n",
       "san mateo, california               1331\n",
       "palo alto, california               1064\n",
       "alameda, california                  910\n",
       "san rafael, california               755\n",
       "hayward, california                  747\n",
       "emeryville, california               738\n",
       "redwood city, california             693\n",
       "daly city, california                681\n",
       "san leandro, california              651\n",
       "walnut creek, california             644\n",
       "vallejo, california                  558\n",
       "menlo park, california               479\n",
       "richmond, california                 424\n",
       "south san francisco, california      416\n",
       "mountain view, california            384\n",
       "novato, california                   369\n",
       "burlingame, california               361\n",
       "pleasant hill, california            347\n",
       "castro valley, california            345\n",
       "stanford, california                 341\n",
       "el cerrito, california               325\n",
       "pacifica, california                 323\n",
       "martinez, california                 316\n",
       "mill valley, california              315\n",
       "san bruno, california                290\n",
       "san pablo, california                245\n",
       "belmont, california                  243\n",
       "albany, california                   233\n",
       "san carlos, california               227\n",
       "benicia, california                  203\n",
       "lafayette, california                180\n",
       "sausalito, california                179\n",
       "millbrae, california                 155\n",
       "san anselmo, california              147\n",
       "el sobrante, california              137\n",
       "san lorenzo, california              135\n",
       "fairfax, california                  121\n",
       "hercules, california                 117\n",
       "pinole, california                   104\n",
       "half moon bay, california             99\n",
       "fremont, california                   90\n",
       "green brae, california                87\n",
       "orinda, california                    85\n",
       "moraga, california                    84\n",
       "larkspur, california                  80\n",
       "corte madera, california              76\n",
       "belvedere tiburon, california         57\n",
       "Name: location, dtype: int64"
      ]
     },
     "execution_count": 23,
     "metadata": {},
     "output_type": "execute_result"
    }
   ],
   "source": [
    "df_copy.location.value_counts().head(50)\n",
    "# df_copy.location.value_counts().head(50).sum()"
   ]
  },
  {
   "cell_type": "code",
   "execution_count": 24,
   "metadata": {},
   "outputs": [
    {
     "data": {
      "text/plain": [
       "NaN                                19921\n",
       "likes dogs and likes cats          14814\n",
       "likes dogs                          7224\n",
       "likes dogs and has cats             4313\n",
       "has dogs                            4134\n",
       "has dogs and likes cats             2333\n",
       "likes dogs and dislikes cats        2029\n",
       "has dogs and has cats               1474\n",
       "has cats                            1406\n",
       "likes cats                          1063\n",
       "has dogs and dislikes cats           552\n",
       "dislikes dogs and likes cats         240\n",
       "dislikes dogs and dislikes cats      196\n",
       "dislikes cats                        122\n",
       "dislikes dogs and has cats            81\n",
       "dislikes dogs                         44\n",
       "Name: pets, dtype: int64"
      ]
     },
     "execution_count": 24,
     "metadata": {},
     "output_type": "execute_result"
    }
   ],
   "source": [
    "df_copy.pets.value_counts(dropna = False)"
   ]
  },
  {
   "cell_type": "code",
   "execution_count": 25,
   "metadata": {},
   "outputs": [],
   "source": [
    "zodiac_table = pd.DataFrame(columns = ['Leo',\n",
    "                                       'Libra', \n",
    "                                       'Cancer', \n",
    "                                       'Virgo', \n",
    "                                       'Scorpio', \n",
    "                                       'Gemini', \n",
    "                                       'Taurus', \n",
    "                                       'Aries', \n",
    "                                       'Piscs', \n",
    "                                       'Aquarius', \n",
    "                                       'Sagittarius', \n",
    "                                       'Capricorn', \n",
    "                                       'Matters'])\n",
    "#Matters is a boolean value of 1 or 0 -- Y or N"
   ]
  },
  {
   "cell_type": "code",
   "execution_count": 26,
   "metadata": {},
   "outputs": [
    {
     "data": {
      "text/plain": [
       "NaN                                              11056\n",
       "gemini and it&rsquo;s fun to think about          1782\n",
       "scorpio and it&rsquo;s fun to think about         1772\n",
       "leo and it&rsquo;s fun to think about             1692\n",
       "libra and it&rsquo;s fun to think about           1649\n",
       "taurus and it&rsquo;s fun to think about          1640\n",
       "cancer and it&rsquo;s fun to think about          1597\n",
       "pisces and it&rsquo;s fun to think about          1592\n",
       "sagittarius and it&rsquo;s fun to think about     1583\n",
       "virgo and it&rsquo;s fun to think about           1574\n",
       "aries and it&rsquo;s fun to think about           1573\n",
       "aquarius and it&rsquo;s fun to think about        1503\n",
       "virgo but it doesn&rsquo;t matter                 1497\n",
       "leo but it doesn&rsquo;t matter                   1457\n",
       "cancer but it doesn&rsquo;t matter                1454\n",
       "gemini but it doesn&rsquo;t matter                1453\n",
       "taurus but it doesn&rsquo;t matter                1450\n",
       "libra but it doesn&rsquo;t matter                 1408\n",
       "aquarius but it doesn&rsquo;t matter              1408\n",
       "capricorn and it&rsquo;s fun to think about       1376\n",
       "sagittarius but it doesn&rsquo;t matter           1375\n",
       "aries but it doesn&rsquo;t matter                 1373\n",
       "capricorn but it doesn&rsquo;t matter             1319\n",
       "pisces but it doesn&rsquo;t matter                1300\n",
       "scorpio but it doesn&rsquo;t matter               1264\n",
       "leo                                               1159\n",
       "libra                                             1098\n",
       "cancer                                            1092\n",
       "virgo                                             1029\n",
       "scorpio                                           1020\n",
       "gemini                                            1013\n",
       "taurus                                            1001\n",
       "aries                                              996\n",
       "pisces                                             992\n",
       "aquarius                                           954\n",
       "sagittarius                                        937\n",
       "capricorn                                          833\n",
       "scorpio and it matters a lot                        78\n",
       "leo and it matters a lot                            66\n",
       "aquarius and it matters a lot                       63\n",
       "cancer and it matters a lot                         63\n",
       "pisces and it matters a lot                         62\n",
       "gemini and it matters a lot                         62\n",
       "libra and it matters a lot                          52\n",
       "taurus and it matters a lot                         49\n",
       "aries and it matters a lot                          47\n",
       "sagittarius and it matters a lot                    47\n",
       "capricorn and it matters a lot                      45\n",
       "virgo and it matters a lot                          41\n",
       "Name: sign, dtype: int64"
      ]
     },
     "execution_count": 26,
     "metadata": {},
     "output_type": "execute_result"
    }
   ],
   "source": [
    "df_copy.sign.value_counts(dropna = False) #44 value_counts /48"
   ]
  },
  {
   "cell_type": "code",
   "execution_count": 27,
   "metadata": {},
   "outputs": [],
   "source": [
    "zodiac_dict = {'leo': 0, 'libra': 0, 'cancer': 0, 'virgo': 0, 'scorpio': 0, 'gemini': 0, 'taurus': 0, 'aries': 0, 'pisces': 0, 'aquarius': 0, 'sagittarius': 0, 'capricorn': 0}"
   ]
  },
  {
   "cell_type": "code",
   "execution_count": 28,
   "metadata": {},
   "outputs": [
    {
     "ename": "SyntaxError",
     "evalue": "invalid syntax (<ipython-input-28-47fa5c1e82f8>, line 3)",
     "output_type": "error",
     "traceback": [
      "\u001b[0;36m  File \u001b[0;32m\"<ipython-input-28-47fa5c1e82f8>\"\u001b[0;36m, line \u001b[0;32m3\u001b[0m\n\u001b[0;31m    if df_copy.sign.unique()[i] ==\u001b[0m\n\u001b[0m                                   ^\u001b[0m\n\u001b[0;31mSyntaxError\u001b[0m\u001b[0;31m:\u001b[0m invalid syntax\n"
     ]
    }
   ],
   "source": [
    "# df_copy.sign.unique()\n",
    "# for i in df_copy.sign.unique():\n",
    "#     if df_copy.sign.unique()[i] == \n"
   ]
  },
  {
   "cell_type": "markdown",
   "metadata": {},
   "source": [
    "### Formulate a Question\n",
    "df.sign.value_counts()\n",
    "\n",
    "** Still have to drop na values for features + drop some features themselves"
   ]
  },
  {
   "cell_type": "markdown",
   "metadata": {},
   "source": [
    "### Augment Your data - by mapping categorical data -> numerical\n",
    "\n",
    "done to drinks, smokes, and drugs columns\n",
    "\n",
    " drink_mapping = {\"not at all\": 0, \"rarely\": 1, \"socially\": 2, \"often\": 3, \"very often\": 4, \"desperately\": 5}\n",
    "\n",
    "all_data[\"drinks_code\"] = all_data.drinks.map(drink_mapping)\n",
    "\n",
    "\n"
   ]
  },
  {
   "cell_type": "code",
   "execution_count": 30,
   "metadata": {},
   "outputs": [],
   "source": [
    "essay_cols = ['essay0', 'essay1', 'essay2', 'essay3', 'essay4', 'essay5', 'essay6', 'essay7', 'essay8', 'essay9']"
   ]
  },
  {
   "cell_type": "code",
   "execution_count": 31,
   "metadata": {},
   "outputs": [
    {
     "name": "stdout",
     "output_type": "stream",
     "text": [
      "dict_items([('alameda, california', Int64Index([  117,   185,   234,   364,   375,   417,   437,   485,   639,\n",
      "              703,\n",
      "            ...\n",
      "            59068, 59094, 59131, 59189, 59335, 59348, 59488, 59577, 59625,\n",
      "            59721],\n",
      "           dtype='int64', length=910)), ('albany, california', Int64Index([  285,   593,   960,  1392,  1462,  1908,  2232,  2233,  2307,\n",
      "             2463,\n",
      "            ...\n",
      "            56335, 56497, 57490, 58179, 58271, 59049, 59294, 59354, 59445,\n",
      "            59664],\n",
      "           dtype='int64', length=233)), ('amsterdam, netherlands', Int64Index([50046], dtype='int64')), ('arcadia, california', Int64Index([28047], dtype='int64')), ('asheville, north carolina', Int64Index([20560], dtype='int64')), ('ashland, california', Int64Index([25529], dtype='int64')), ('astoria, new york', Int64Index([18461], dtype='int64')), ('atherton, california', Int64Index([   25,  2978,  3472,  4820,  5417,  5583,  6156,  8780,  8842,\n",
      "             9138, 10116, 11788, 12139, 12762, 12828, 14100, 20293, 21845,\n",
      "            22814, 23501, 23515, 25074, 26763, 27434, 29426, 30490, 31230,\n",
      "            33419, 35182, 40733, 44593, 44619, 44726, 44823, 45911, 45974,\n",
      "            47382, 48482, 48678, 50596, 52624, 54251, 54299, 57586, 58475],\n",
      "           dtype='int64')), ('atlanta, georgia', Int64Index([27118, 29596], dtype='int64')), ('austin, texas', Int64Index([51077], dtype='int64')), ('bayshore, california', Int64Index([20456, 28843, 55671], dtype='int64')), ('bellingham, washington', Int64Index([31935], dtype='int64')), ('bellwood, illinois', Int64Index([10779], dtype='int64')), ('belmont, california', Int64Index([   49,    70,   191,   347,   618,   878,  1532,  1541,  1877,\n",
      "             2265,\n",
      "            ...\n",
      "            57613, 57617, 58004, 58112, 58302, 58326, 58414, 58876, 59043,\n",
      "            59307],\n",
      "           dtype='int64', length=243)), ('belvedere tiburon, california', Int64Index([    8,  1811,  2172,  2694,  2718,  3591,  4254,  4491,  5597,\n",
      "             5644,  6090,  6305,  6594,  7392,  7750,  7970,  9506, 11133,\n",
      "            11838, 12378, 13440, 14292, 19965, 21667, 21947, 22731, 25134,\n",
      "            26429, 31524, 31670, 32920, 33872, 34903, 36237, 36279, 37101,\n",
      "            37638, 39095, 41489, 42161, 43598, 45035, 45060, 46516, 48225,\n",
      "            48246, 48754, 48982, 50494, 50509, 51627, 53630, 54927, 55227,\n",
      "            58099, 58134, 59687],\n",
      "           dtype='int64')), ('benicia, california', Int64Index([  137,   585,  1109,  1837,  1981,  2173,  2639,  2900,  2915,\n",
      "             5479,\n",
      "            ...\n",
      "            59015, 59020, 59151, 59264, 59407, 59425, 59433, 59521, 59561,\n",
      "            59854],\n",
      "           dtype='int64', length=203)), ('berkeley, california', Int64Index([    3,    42,    56,    69,    76,   119,   131,   134,   136,\n",
      "              144,\n",
      "            ...\n",
      "            59809, 59816, 59820, 59831, 59847, 59848, 59875, 59894, 59896,\n",
      "            59928],\n",
      "           dtype='int64', length=4212)), ('billings, montana', Int64Index([6965], dtype='int64')), ('boise, idaho', Int64Index([21343], dtype='int64')), ('bolinas, california', Int64Index([453, 7231, 13195, 15828, 25262, 32017, 37073, 55511], dtype='int64')), ('bonaduz, switzerland', Int64Index([52196], dtype='int64')), ('boston, massachusetts', Int64Index([32892, 51930], dtype='int64')), ('boulder, colorado', Int64Index([1336], dtype='int64')), ('brea, california', Int64Index([13003], dtype='int64')), ('brisbane, california', Int64Index([ 1355,  2134,  3771,  4258,  4323,  4705,  4787,  6448,  7794,\n",
      "            10068, 10476, 11293, 11955, 12845, 17279, 17986, 20816, 21388,\n",
      "            22295, 22558, 26731, 27313, 30022, 30090, 39894, 40349, 42376,\n",
      "            43635, 43772, 44482, 45202, 46314, 46795, 49434, 50219, 56433,\n",
      "            57420, 57987],\n",
      "           dtype='int64')), ('brooklyn, new york', Int64Index([37954, 52077, 53882], dtype='int64')), ('burlingame, california', Int64Index([  107,   264,   313,   698,   952,  1003,  1237,  1287,  1505,\n",
      "             1607,\n",
      "            ...\n",
      "            58320, 58405, 58484, 59091, 59219, 59230, 59409, 59579, 59685,\n",
      "            59866],\n",
      "           dtype='int64', length=361)), ('cambridge, massachusetts', Int64Index([21785], dtype='int64')), ('campbell, california', Int64Index([34950], dtype='int64')), ('canyon country, california', Int64Index([6839], dtype='int64')), ('canyon, california', Int64Index([45908], dtype='int64')), ('castro valley, california', Int64Index([   99,   139,   254,   301,   573,   631,   772,  1114,  1139,\n",
      "             1537,\n",
      "            ...\n",
      "            58020, 58333, 58574, 58607, 58644, 58859, 59046, 59137, 59138,\n",
      "            59401],\n",
      "           dtype='int64', length=345)), ('chicago, illinois', Int64Index([18889, 22247, 41156, 49056, 51132, 55560], dtype='int64')), ('chico, california', Int64Index([56943], dtype='int64')), ('cincinnati, ohio', Int64Index([59408], dtype='int64')), ('colma, california', Int64Index([12146, 19021, 41725, 43980, 51796, 56882, 59841], dtype='int64')), ('columbus, ohio', Int64Index([56057], dtype='int64')), ('concord, california', Int64Index([16611], dtype='int64')), ('cork, ireland', Int64Index([12151], dtype='int64')), ('corte madera, california', Int64Index([  272,  2750,  2823,  2995,  3386,  3645,  4327,  4574,  4933,\n",
      "             5406,  5515,  8179,  8414,  8672, 10114, 11040, 11623, 12981,\n",
      "            13187, 13690, 14889, 15314, 16105, 16258, 18843, 19635, 21592,\n",
      "            21898, 22047, 24135, 24729, 24747, 25498, 25593, 26090, 27110,\n",
      "            27142, 27459, 28193, 28309, 29060, 29192, 31734, 32562, 33375,\n",
      "            34402, 35061, 35870, 37368, 38008, 41103, 41385, 41493, 41561,\n",
      "            42459, 42866, 44869, 45649, 45922, 48298, 52135, 52140, 53046,\n",
      "            54211, 54347, 54655, 54660, 55583, 55614, 56328, 57073, 57711,\n",
      "            58159, 58239, 59170, 59702],\n",
      "           dtype='int64')), ('costa mesa, california', Int64Index([52425], dtype='int64')), ('crockett, california', Int64Index([ 1141,  1145,  1984,  2383,  4270,  5455,  6414,  6559, 10041,\n",
      "            12471, 16053, 18429, 20447, 21058, 27578, 28039, 28266, 29386,\n",
      "            31759, 32336, 33377, 33951, 36500, 40951, 42855, 43375, 49741,\n",
      "            50903, 53245, 54583, 55159, 59643],\n",
      "           dtype='int64')), ('crowley, texas', Int64Index([32298], dtype='int64')), ('daly city, california', Int64Index([   11,   101,   141,   199,   388,   584,   694,  1037,  1105,\n",
      "             1108,\n",
      "            ...\n",
      "            59013, 59084, 59143, 59146, 59221, 59313, 59455, 59494, 59607,\n",
      "            59853],\n",
      "           dtype='int64', length=681)), ('denver, colorado', Int64Index([59265], dtype='int64')), ('east palo alto, california', Int64Index([ 3273,  9418, 11545, 19910, 20668, 20843, 24136, 28546, 40670,\n",
      "            46212, 55861, 57407, 59578],\n",
      "           dtype='int64')), ('edinburgh, united kingdom', Int64Index([17474], dtype='int64')), ('el cerrito, california', Int64Index([  146,   161,   179,   249,   309,   786,  1617,  1630,  1845,\n",
      "             2017,\n",
      "            ...\n",
      "            57698, 58212, 58468, 58474, 59338, 59473, 59524, 59641, 59667,\n",
      "            59678],\n",
      "           dtype='int64', length=325)), ('el granada, california', Int64Index([   92,  7996,  9704, 11125, 11376, 13366, 14091, 16440, 20872,\n",
      "            21530, 21881, 23016, 25487, 26438, 28817, 29266, 29513, 34638,\n",
      "            35196, 40483, 45355, 46390, 46461, 49441, 51934, 55483, 56958],\n",
      "           dtype='int64')), ('el sobrante, california', Int64Index([  174,   650,   757,  1233,  1288,  1929,  2145,  2444,  3310,\n",
      "             4467,\n",
      "            ...\n",
      "            55930, 57019, 57034, 57889, 58270, 58681, 58890, 59008, 59061,\n",
      "            59622],\n",
      "           dtype='int64', length=137)), ('emeryville, california', Int64Index([   72,   114,   126,   351,   572,   623,   647,   785,   838,\n",
      "              901,\n",
      "            ...\n",
      "            58392, 58443, 58822, 58861, 59017, 59079, 59220, 59247, 59279,\n",
      "            59472],\n",
      "           dtype='int64', length=738)), ('fairfax, california', Int64Index([  102,  1522,  2131,  2163,  2727,  2901,  3418,  3480,  3589,\n",
      "             3991,\n",
      "            ...\n",
      "            54219, 54981, 55319, 55529, 55948, 56392, 57046, 58339, 58892,\n",
      "            59328],\n",
      "           dtype='int64', length=121)), ('fayetteville, west virginia', Int64Index([33452], dtype='int64')), ('forest knolls, california', Int64Index([17346, 51946], dtype='int64')), ('fort lauderdale, florida', Int64Index([25836], dtype='int64')), ('foster city, california', Int64Index([  357,  4106,  4453,  5718,  8026,  8264,  8673, 11392, 13780,\n",
      "            18740, 20728, 21255, 22131, 26397, 27102, 30187, 31659, 34032,\n",
      "            37234, 38792, 42052, 43618, 51947, 54472],\n",
      "           dtype='int64')), ('freedom, california', Int64Index([1372], dtype='int64')), ('fremont, california', Int64Index([  231,  1157,  1460,  2424,  3531,  4292,  4366,  5796,  6293,\n",
      "             8634,  8981,  9626, 10336, 11010, 11097, 11145, 11998, 12268,\n",
      "            12382, 12415, 13742, 14818, 16317, 16557, 16633, 17655, 17928,\n",
      "            18734, 18755, 18947, 19068, 19388, 19916, 20989, 21238, 21604,\n",
      "            21903, 23081, 23816, 25254, 25657, 27602, 28406, 28662, 29317,\n",
      "            30690, 31114, 31628, 31698, 32073, 32095, 32502, 34364, 34554,\n",
      "            35911, 36047, 36781, 37134, 37153, 37970, 38589, 39603, 40297,\n",
      "            40521, 40656, 40810, 41582, 41662, 41869, 42428, 44576, 45439,\n",
      "            45820, 46850, 47253, 48015, 49410, 49462, 49565, 50313, 50601,\n",
      "            51753, 52676, 53315, 55712, 55873, 56100, 57493, 57860, 59646],\n",
      "           dtype='int64')), ('glencove, california', Int64Index([8971], dtype='int64')), ('grand rapids, michigan', Int64Index([17007], dtype='int64')), ('granite bay, california', Int64Index([34294], dtype='int64')), ('green brae, california', Int64Index([ 1920,  2975,  3141,  3198,  3464,  5310,  5312,  5594,  7159,\n",
      "             7601,  7999,  9604, 10254, 10461, 12244, 13077, 13903, 13957,\n",
      "            14429, 15051, 15707, 16159, 16269, 17787, 18228, 20975, 21112,\n",
      "            21338, 21452, 24666, 25411, 26172, 27214, 28198, 28420, 29883,\n",
      "            31106, 31649, 32602, 32717, 32846, 33069, 33408, 34331, 34998,\n",
      "            37504, 38061, 38541, 39001, 39797, 39813, 40288, 41518, 41867,\n",
      "            42909, 43381, 43807, 43880, 44377, 44494, 44596, 46232, 46541,\n",
      "            47327, 47588, 48579, 49850, 49980, 50063, 50484, 50507, 50714,\n",
      "            51061, 51657, 51774, 53115, 53235, 53584, 53746, 54552, 54597,\n",
      "            55296, 56030, 57248, 58119, 58161, 59501],\n",
      "           dtype='int64')), ('guadalajara, mexico', Int64Index([54002], dtype='int64')), ('hacienda heights, california', Int64Index([4579], dtype='int64')), ('half moon bay, california', Int64Index([  225,  1735,  1766,  2350,  2586,  2849,  6024,  6271,  6340,\n",
      "             8082,  8232,  8494, 10269, 11283, 11385, 11387, 11388, 11727,\n",
      "            13351, 14349, 14861, 15322, 16108, 16123, 16880, 17695, 18872,\n",
      "            19270, 19336, 20166, 23504, 23858, 24078, 24435, 25483, 26556,\n",
      "            26597, 26977, 27643, 27817, 28147, 28486, 29108, 30560, 31861,\n",
      "            32066, 32208, 32369, 32474, 32609, 32713, 32980, 34401, 34412,\n",
      "            34414, 34881, 35021, 36277, 36865, 36910, 37144, 37533, 37572,\n",
      "            37903, 38741, 39989, 40120, 40725, 42512, 43720, 43907, 44272,\n",
      "            44977, 45474, 46479, 46886, 46994, 47264, 47845, 50147, 50204,\n",
      "            50622, 50995, 52543, 53098, 53393, 53507, 53517, 53640, 53944,\n",
      "            54830, 55680, 55823, 56620, 57581, 57816, 58107, 58790, 58932],\n",
      "           dtype='int64')), ('hayward, california', Int64Index([  116,   184,   237,   280,   354,   415,   464,   470,   546,\n",
      "              566,\n",
      "            ...\n",
      "            59222, 59241, 59339, 59350, 59484, 59545, 59855, 59887, 59895,\n",
      "            59902],\n",
      "           dtype='int64', length=747)), ('hercules, california', Int64Index([  369,  1305,  1873,  2601,  3339,  5149,  5468,  5603,  6442,\n",
      "             7223,\n",
      "            ...\n",
      "            54680, 55329, 55901, 56557, 57673, 58015, 58720, 58844, 58868,\n",
      "            59897],\n",
      "           dtype='int64', length=117)), ('hilarita, california', Int64Index([34464], dtype='int64')), ('hillsborough, california', Int64Index([11605, 20288, 30807, 52593], dtype='int64')), ('honolulu, hawaii', Int64Index([6924], dtype='int64')), ('irvine, california', Int64Index([43451, 50346], dtype='int64')), ('isla vista, california', Int64Index([34339], dtype='int64')), ('islip terrace, new york', Int64Index([21414], dtype='int64')), ('jackson, mississippi', Int64Index([24094], dtype='int64')), ('kansas city, missouri', Int64Index([45095], dtype='int64')), ('kassel, germany', Int64Index([45346], dtype='int64')), ('kensington, california', Int64Index([12737, 25758], dtype='int64')), ('kentfield, california', Int64Index([ 7132,  8485, 11602, 11753, 12758, 15470, 24594, 26020, 30787,\n",
      "            40899, 42187, 42755, 44315, 51241, 52694, 56699, 56944, 58572],\n",
      "           dtype='int64')), ('kula, hawaii', Int64Index([37082], dtype='int64')), ('lafayette, california', Int64Index([  223,  1041,  1807,  2096,  2261,  2527,  2860,  3573,  3816,\n",
      "             4209,\n",
      "            ...\n",
      "            57391, 57524, 57591, 57593, 58087, 58104, 58230, 58959, 59315,\n",
      "            59592],\n",
      "           dtype='int64', length=180)), ('lagunitas, california', Int64Index([13439, 23597, 23670, 26025, 30024, 35034, 36138, 48902, 50488,\n",
      "            58435],\n",
      "           dtype='int64')), ('lake orion, michigan', Int64Index([22467], dtype='int64')), ('larkspur, california', Int64Index([  556,   565,   910,  1463,  2893,  3918,  4523,  4578,  8996,\n",
      "            12723, 12915, 15579, 16328, 16907, 18365, 18522, 19399, 20952,\n",
      "            21309, 21732, 21748, 23675, 24980, 24982, 25482, 26384, 27073,\n",
      "            27317, 28979, 29164, 29645, 30245, 30427, 30731, 30872, 31161,\n",
      "            31669, 32417, 32793, 33117, 33764, 33821, 34699, 35501, 37237,\n",
      "            38331, 38547, 41428, 41487, 41500, 41618, 43280, 43974, 44642,\n",
      "            44645, 45234, 45335, 46235, 46845, 46992, 47208, 47719, 47753,\n",
      "            47766, 48897, 49947, 50607, 51225, 52611, 52682, 54126, 56211,\n",
      "            56986, 57560, 58135, 58157, 59234, 59403, 59783, 59826],\n",
      "           dtype='int64')), ('las vegas, nevada', Int64Index([9570], dtype='int64')), ('leander, texas', Int64Index([17084], dtype='int64')), ('livingston, california', Int64Index([31196], dtype='int64')), ('london, united kingdom', Int64Index([18359], dtype='int64')), ('long beach, california', Int64Index([59233], dtype='int64')), ('long beach, new york', Int64Index([49135], dtype='int64')), ('longwood, florida', Int64Index([32896], dtype='int64')), ('los angeles, california', Int64Index([10972, 12739, 19269, 36353, 41314, 47884, 52427, 53286, 55075,\n",
      "            55347],\n",
      "           dtype='int64')), ('los gatos, california', Int64Index([20940, 36168], dtype='int64')), ('madrid, spain', Int64Index([8997, 28036], dtype='int64')), ('magalia, california', Int64Index([18156], dtype='int64')), ('marin city, california', Int64Index([40463], dtype='int64')), ('martinez, california', Int64Index([  109,   581,   598,   800,   817,   908,  1271,  1425,  1872,\n",
      "             2281,\n",
      "            ...\n",
      "            58032, 58070, 58092, 58674, 59031, 59177, 59621, 59647, 59653,\n",
      "            59712],\n",
      "           dtype='int64', length=316)), ('menlo park, california', Int64Index([   40,    54,   106,   129,   148,   172,   202,   209,   210,\n",
      "              281,\n",
      "            ...\n",
      "            58660, 58693, 59047, 59097, 59420, 59532, 59533, 59534, 59615,\n",
      "            59650],\n",
      "           dtype='int64', length=479)), ('miami, florida', Int64Index([58886], dtype='int64')), ('mill valley, california', Int64Index([  149,   181,   279,   328,   472,   503,   536,  1270,  1515,\n",
      "             1589,\n",
      "            ...\n",
      "            58098, 58152, 58153, 58380, 59201, 59251, 59312, 59384, 59808,\n",
      "            59880],\n",
      "           dtype='int64', length=315)), ('millbrae, california', Int64Index([  505,   692,  1416,  1435,  1808,  2417,  3612,  3696,  3754,\n",
      "             3843,\n",
      "            ...\n",
      "            56428, 57144, 58108, 58123, 58208, 58965, 58974, 59009, 59212,\n",
      "            59437],\n",
      "           dtype='int64', length=155)), ('milpitas, california', Int64Index([29955], dtype='int64')), ('milwaukee, wisconsin', Int64Index([7842], dtype='int64')), ('minneapolis, minnesota', Int64Index([26911, 49343], dtype='int64')), ('modesto, california', Int64Index([51734], dtype='int64')), ('montara, california', Int64Index([1887, 2171, 3595, 10261, 11475, 13194, 17984, 21080, 30756, 47396,\n",
      "            47733, 53029],\n",
      "           dtype='int64')), ('moraga, california', Int64Index([  575,  1609,  2874,  3189,  4111,  4551,  5230,  6032,  6566,\n",
      "             6590,  6868,  8330,  9144,  9888, 10349, 11094, 11149, 11899,\n",
      "            12208, 13400, 13470, 15452, 17674, 17829, 18641, 19982, 20562,\n",
      "            20991, 21031, 21034, 21180, 21476, 21940, 22157, 22395, 22805,\n",
      "            23002, 23528, 24452, 25415, 26611, 27176, 27460, 29087, 29726,\n",
      "            30225, 30573, 31137, 32082, 35159, 38011, 38629, 40261, 40944,\n",
      "            41025, 41668, 43559, 44343, 45067, 45247, 45684, 46098, 46263,\n",
      "            46932, 49004, 51058, 51288, 52634, 52725, 52842, 53154, 54420,\n",
      "            55168, 55228, 56197, 56305, 56424, 57707, 58244, 58363, 58798,\n",
      "            58812, 59373, 59794],\n",
      "           dtype='int64')), ('moss beach, california', Int64Index([11389, 12720, 16058, 20070, 45386, 46024, 46785, 54241], dtype='int64')), ('mountain view, california', Int64Index([  105,   261,   315,   374,   380,   658,   787,   876,  1095,\n",
      "             1110,\n",
      "            ...\n",
      "            57674, 57751, 58045, 58517, 58858, 58918, 59019, 59160, 59509,\n",
      "            59748],\n",
      "           dtype='int64', length=384)), ('muir beach, california', Int64Index([42917], dtype='int64')), ('murfreesboro, tennessee', Int64Index([37260], dtype='int64')), ('napa, california', Int64Index([50772, 58852], dtype='int64')), ('nevada city, california', Int64Index([39924], dtype='int64')), ('new orleans, louisiana', Int64Index([12536], dtype='int64')), ('new york, new york', Int64Index([2819, 10562, 14147, 19005, 35964, 38943, 46427, 58025, 58646,\n",
      "            59490],\n",
      "           dtype='int64')), ('nha trang, vietnam', Int64Index([11526], dtype='int64')), ('nicasio, california', Int64Index([30663, 47943, 59368], dtype='int64')), ('north hollywood, california', Int64Index([39736], dtype='int64')), ('novato, california', Int64Index([  214,   248,   318,   344,   391,   515,   791,   793,  1147,\n",
      "             1260,\n",
      "            ...\n",
      "            58240, 58367, 58410, 58500, 58558, 58623, 58774, 58899, 59303,\n",
      "            59682],\n",
      "           dtype='int64', length=369)), ('oakland, california', Int64Index([    1,    16,    24,    27,    37,    41,    45,    50,    51,\n",
      "               53,\n",
      "            ...\n",
      "            59886, 59890, 59893, 59907, 59923, 59927, 59930, 59932, 59934,\n",
      "            59941],\n",
      "           dtype='int64', length=7214)), ('oakley, california', Int64Index([54170], dtype='int64')), ('oceanview, california', Int64Index([48748], dtype='int64')), ('olema, california', Int64Index([11619], dtype='int64')), ('orange, california', Int64Index([19081], dtype='int64')), ('orinda, california', Int64Index([  232,   236,   400,   563,   967,  1486,  1695,  3251,  4486,\n",
      "             4526,  4898,  5588,  5701,  6429,  7805,  8091,  8140,  8359,\n",
      "             8805,  9979, 11579, 11607, 12539, 12698, 13316, 13668, 14439,\n",
      "            15706, 16056, 18231, 19979, 22178, 23851, 24423, 25017, 25446,\n",
      "            25597, 26333, 26803, 27080, 28523, 28613, 28770, 29505, 30270,\n",
      "            31141, 31395, 31641, 33730, 34380, 34396, 34819, 35351, 36110,\n",
      "            37003, 37258, 38486, 39169, 41193, 41580, 42380, 42724, 43497,\n",
      "            45501, 45828, 46298, 46600, 47175, 47916, 47940, 47948, 48250,\n",
      "            49112, 49335, 51755, 51933, 52491, 53583, 54022, 54395, 55113,\n",
      "            56206, 57102, 57767, 59921],\n",
      "           dtype='int64')), ('ozone park, new york', Int64Index([23935], dtype='int64')), ('pacheco, california', Int64Index([43425], dtype='int64')), ('pacifica, california', Int64Index([  215,   349,   392,   693,  1148,  1432,  1742,  1843,  1949,\n",
      "             2227,\n",
      "            ...\n",
      "            58531, 58777, 58804, 58824, 59057, 59281, 59693, 59728, 59772,\n",
      "            59881],\n",
      "           dtype='int64', length=323)), ('palo alto, california', Int64Index([   68,    85,   390,   410,   413,   434,   507,   606,   822,\n",
      "              863,\n",
      "            ...\n",
      "            59164, 59318, 59355, 59439, 59539, 59576, 59600, 59614, 59700,\n",
      "            59877],\n",
      "           dtype='int64', length=1064)), ('pasadena, california', Int64Index([26946], dtype='int64')), ('peoria, illinois', Int64Index([9672], dtype='int64')), ('petaluma, california', Int64Index([795, 25045], dtype='int64')), ('philadelphia, pennsylvania', Int64Index([47679], dtype='int64')), ('phoenix, arizona', Int64Index([59504], dtype='int64')), ('piedmont, california', Int64Index([16915, 17236, 19874, 20248, 31192, 31193, 41579, 42753, 51229,\n",
      "            52640, 52824, 55017],\n",
      "           dtype='int64')), ('pinole, california', Int64Index([  797,   943,  2121,  2628,  2698,  2839,  3390,  3497,  3971,\n",
      "             4199,\n",
      "            ...\n",
      "            54896, 55111, 55247, 56315, 57293, 57760, 57802, 57902, 58891,\n",
      "            59777],\n",
      "           dtype='int64', length=104)), ('pleasant hill, california', Int64Index([  115,   289,   799,  1094,  1236,  1426,  1506,  1610,  1638,\n",
      "             1900,\n",
      "            ...\n",
      "            57198, 57230, 57646, 57785, 57827, 58089, 58327, 58585, 58598,\n",
      "            59034],\n",
      "           dtype='int64', length=347)), ('point richmond, california', Int64Index([5810, 7381, 19509, 31394, 52667, 54566, 58034, 58251], dtype='int64')), ('port costa, california', Int64Index([30492], dtype='int64')), ('portland, oregon', Int64Index([4332, 6728, 40505, 48583], dtype='int64')), ('providence, rhode island', Int64Index([40352], dtype='int64')), ('redwood city, california', Int64Index([  158,   221,   310,   317,   353,   359,   412,   574,   579,\n",
      "              617,\n",
      "            ...\n",
      "            58775, 58818, 58906, 59030, 59280, 59575, 59591, 59640, 59703,\n",
      "            59771],\n",
      "           dtype='int64', length=693)), ('redwood shores, california', Int64Index([12870, 52162], dtype='int64')), ('richmond, california', Int64Index([  156,   348,   783,  1219,  1478,  1960,  1973,  2614,  2625,\n",
      "             2936,\n",
      "            ...\n",
      "            58459, 58495, 58539, 58588, 58676, 59103, 59358, 59381, 59655,\n",
      "            59785],\n",
      "           dtype='int64', length=424)), ('riverside, california', Int64Index([5247], dtype='int64')), ('rochester, michigan', Int64Index([59843], dtype='int64')), ('rodeo, california', Int64Index([ 4455,  4747,  6478, 11726, 12283, 14238, 15108, 15204, 15231,\n",
      "            16833, 18784, 19017, 19020, 19561, 20022, 23798, 24042, 24776,\n",
      "            27133, 28188, 28742, 31063, 37210, 38087, 39567, 39632, 43190,\n",
      "            46094, 48404, 48492, 49162, 53547, 54440, 55471, 57396, 58896,\n",
      "            59060],\n",
      "           dtype='int64')), ('rohnert park, california', Int64Index([5460], dtype='int64')), ('ross, california', Int64Index([3014, 4549, 5473, 7225, 11688, 24426, 30924, 31138, 31811, 40050,\n",
      "            52653, 53004],\n",
      "           dtype='int64')), ('sacramento, california', Int64Index([5625, 6068], dtype='int64')), ('salt lake city, utah', Int64Index([27772, 52784], dtype='int64')), ('san anselmo, california', Int64Index([  250,  1055,  1548,  1944,  2763,  2842,  2945,  3471,  3567,\n",
      "             4139,\n",
      "            ...\n",
      "            56571, 56652, 56777, 57027, 57523, 58115, 58141, 58683, 58786,\n",
      "            59225],\n",
      "           dtype='int64', length=147)), ('san antonio, texas', Int64Index([30354], dtype='int64')), ('san bruno, california', Int64Index([  673,   856,  1093,  1214,  1582,  2021,  2208,  2333,  2454,\n",
      "             2633,\n",
      "            ...\n",
      "            57916, 58090, 58210, 58275, 58465, 58994, 59040, 59200, 59904,\n",
      "            59912],\n",
      "           dtype='int64', length=290)), ('san carlos, california', Int64Index([  323,   341,   805,  1579,  1697,  1814,  1822,  1882,  2008,\n",
      "             2149,\n",
      "            ...\n",
      "            56378, 57738, 57912, 58211, 58605, 59081, 59254, 59551, 59775,\n",
      "            59939],\n",
      "           dtype='int64', length=227)), ('san diego, california', Int64Index([5971, 23945, 28571, 36254, 51168, 53713], dtype='int64')), ('san francisco, california', Int64Index([    2,     4,     5,     6,     7,    10,    12,    13,    15,\n",
      "               17,\n",
      "            ...\n",
      "            59929, 59931, 59933, 59936, 59937, 59938, 59940, 59942, 59944,\n",
      "            59945],\n",
      "           dtype='int64', length=31064)), ('san geronimo, california', Int64Index([823, 17237, 19928, 21256, 32995, 40599, 47039, 52953, 53002], dtype='int64')), ('san jose, california', Int64Index([66, 2609], dtype='int64')), ('san leandro, california', Int64Index([   14,    32,   296,   552,   569,   641,   753,   774,   949,\n",
      "             1187,\n",
      "            ...\n",
      "            59125, 59179, 59450, 59477, 59573, 59654, 59695, 59718, 59720,\n",
      "            59871],\n",
      "           dtype='int64', length=651)), ('san lorenzo, california', Int64Index([  336,   451,   638,   688,  1823,  2123,  3737,  4969,  5593,\n",
      "             5867,\n",
      "            ...\n",
      "            56027, 57010, 57079, 58125, 58283, 58723, 59356, 59370, 59448,\n",
      "            59584],\n",
      "           dtype='int64', length=135)), ('san luis obispo, california', Int64Index([51488], dtype='int64')), ('san mateo, california', Int64Index([    9,   155,   183,   207,   235,   239,   241,   242,   262,\n",
      "              266,\n",
      "            ...\n",
      "            59397, 59543, 59552, 59725, 59758, 59779, 59801, 59824, 59845,\n",
      "            59935],\n",
      "           dtype='int64', length=1331)), ('san pablo, california', Int64Index([  200,   258,   744,  1293,  1670,  2412,  2743,  3091,  4133,\n",
      "             4338,\n",
      "            ...\n",
      "            58381, 58421, 58455, 58652, 59191, 59333, 59482, 59597, 59729,\n",
      "            59738],\n",
      "           dtype='int64', length=245)), ('san quentin, california', Int64Index([3305, 49986], dtype='int64')), ('san rafael, california', Int64Index([   33,    39,    91,   159,   171,   278,   287,   361,   414,\n",
      "              496,\n",
      "            ...\n",
      "            59003, 59078, 59126, 59141, 59173, 59272, 59609, 59806, 59837,\n",
      "            59898],\n",
      "           dtype='int64', length=755)), ('santa ana, california', Int64Index([36794], dtype='int64')), ('santa clara, california', Int64Index([14775], dtype='int64')), ('santa cruz, california', Int64Index([409, 30810, 38539, 49278, 49535], dtype='int64')), ('santa monica, california', Int64Index([10173, 22840, 25846], dtype='int64')), ('santa rosa, california', Int64Index([36863, 36993], dtype='int64')), ('sausalito, california', Int64Index([  504,   610,   668,  1136,  1518,  1529,  1731,  3148,  3162,\n",
      "             3205,\n",
      "            ...\n",
      "            56479, 56513, 56831, 57190, 57650, 57736, 57772, 58140, 59052,\n",
      "            59327],\n",
      "           dtype='int64', length=179)), ('seaside, california', Int64Index([17021], dtype='int64')), ('seattle, washington', Int64Index([59316], dtype='int64')), ('south lake tahoe, california', Int64Index([57549], dtype='int64')), ('south orange, new jersey', Int64Index([25548], dtype='int64')), ('south san francisco, california', Int64Index([    0,   276,   973,  1299,  1327,  1631,  1635,  1636,  1761,\n",
      "             1793,\n",
      "            ...\n",
      "            59055, 59175, 59282, 59440, 59441, 59481, 59699, 59743, 59811,\n",
      "            59943],\n",
      "           dtype='int64', length=416)), ('south wellfleet, massachusetts', Int64Index([19288], dtype='int64')), ('stanford, california', Int64Index([  194,   553,   697,   829,   904,  1364,  1661,  1676,  1752,\n",
      "             1850,\n",
      "            ...\n",
      "            58293, 58479, 58871, 58915, 58919, 59033, 59236, 59537, 59749,\n",
      "            59926],\n",
      "           dtype='int64', length=341)), ('stinson beach, california', Int64Index([14481, 23495, 29188, 46456], dtype='int64')), ('stockton, california', Int64Index([40421], dtype='int64')), ('stratford, connecticut', Int64Index([35623], dtype='int64')), ('studio city, california', Int64Index([16578], dtype='int64')), ('sunnyvale, california', Int64Index([21647], dtype='int64')), ('taunton, massachusetts', Int64Index([50647], dtype='int64')), ('tiburon, california', Int64Index([8980, 17125, 28542, 47549, 50528], dtype='int64')), ('tucson, arizona', Int64Index([6881, 39893], dtype='int64')), ('union city, california', Int64Index([11685], dtype='int64')), ('utica, michigan', Int64Index([12970], dtype='int64')), ('vacaville, california', Int64Index([57588], dtype='int64')), ('vallejo, california', Int64Index([  121,   147,   220,   259,   306,   330,   411,   547,   580,\n",
      "              667,\n",
      "            ...\n",
      "            58629, 58642, 58725, 58761, 58833, 58953, 59134, 59267, 59502,\n",
      "            59595],\n",
      "           dtype='int64', length=558)), ('vancouver, british columbia, canada', Int64Index([42438], dtype='int64')), ('walnut creek, california', Int64Index([   38,   176,   178,   295,   335,   404,   449,   717,   724,\n",
      "              761,\n",
      "            ...\n",
      "            59217, 59228, 59259, 59378, 59461, 59471, 59632, 59717, 59742,\n",
      "            59784],\n",
      "           dtype='int64', length=644)), ('washington, district of columbia', Int64Index([42077, 45858], dtype='int64')), ('waterford, california', Int64Index([42317], dtype='int64')), ('west oakland, california', Int64Index([7019, 7722, 16590, 22514, 22827, 26756, 50851], dtype='int64')), ('westlake, california', Int64Index([4996, 14341, 23848, 25340, 28394, 31255, 33766, 33953, 42085,\n",
      "            50835, 54868],\n",
      "           dtype='int64')), ('woodacre, california', Int64Index([ 4902, 26755, 29107, 32241, 34927, 36413, 40157, 43040, 43198,\n",
      "            49460, 50599, 54928, 55570, 56606, 57395, 59076],\n",
      "           dtype='int64')), ('woodbridge, virginia', Int64Index([8654, 27557], dtype='int64')), ('woodside, california', Int64Index([2199, 13260, 17108, 23259, 27995, 30079, 39809, 41656, 43228,\n",
      "            47195, 53430],\n",
      "           dtype='int64'))])\n"
     ]
    }
   ],
   "source": [
    "location_names = df_copy.groupby(['location']).groups\n",
    "print(location_names.items())\n"
   ]
  },
  {
   "cell_type": "code",
   "execution_count": 32,
   "metadata": {},
   "outputs": [
    {
     "name": "stdout",
     "output_type": "stream",
     "text": [
      "                   location sex  age  body_type  diet  drinks  drugs  \\\n",
      "0       alameda, california   f  367        340   209     353    307   \n",
      "1       alameda, california   m  543        514   334     528    435   \n",
      "2        albany, california   f  105         95    65     103     89   \n",
      "3        albany, california   m  128        119    81     126     98   \n",
      "4    amsterdam, netherlands   m    1          1     1       1      1   \n",
      "..                      ...  ..  ...        ...   ...     ...    ...   \n",
      "286    woodacre, california   f   11         11     5      11      7   \n",
      "287    woodacre, california   m    5          5     3       4      4   \n",
      "288    woodbridge, virginia   m    2          2     1       0      1   \n",
      "289    woodside, california   f    7          6     5       7      6   \n",
      "290    woodside, california   m    4          4     2       4      2   \n",
      "\n",
      "     education  essay0  essay1  ...  last_online  offspring  orientation  \\\n",
      "0          325     337     325  ...          367        202          367   \n",
      "1          475     499     474  ...          543        249          543   \n",
      "2          100      94      95  ...          105         60          105   \n",
      "3          115     119     120  ...          128         66          128   \n",
      "4            1       1       1  ...            1          1            1   \n",
      "..         ...     ...     ...  ...          ...        ...          ...   \n",
      "286          7      11       9  ...           11          8           11   \n",
      "287          4       5       4  ...            5          4            5   \n",
      "288          2       2       2  ...            2          0            2   \n",
      "289          7       7       7  ...            7          3            7   \n",
      "290          4       4       3  ...            4          1            4   \n",
      "\n",
      "     pets  religion  sign  smokes  speaks  status  user_id  \n",
      "0     286       242   327     345     367     367      367  \n",
      "1     372       382   460     505     543     543      543  \n",
      "2      83        76    94      99     105     105      105  \n",
      "3      90       103   107     117     128     128      128  \n",
      "4       1         1     1       1       1       1        1  \n",
      "..    ...       ...   ...     ...     ...     ...      ...  \n",
      "286     9         7    10      11      11      11       11  \n",
      "287     4         4     4       4       5       5        5  \n",
      "288     0         0     0       2       2       2        2  \n",
      "289     7         6     7       7       7       7        7  \n",
      "290     3         3     3       4       4       4        4  \n",
      "\n",
      "[291 rows x 32 columns]\n"
     ]
    }
   ],
   "source": [
    "locations = df_copy.groupby(['location', 'sex'], as_index = False).count()\n",
    "print(locations)"
   ]
  },
  {
   "cell_type": "markdown",
   "metadata": {},
   "source": [
    "### Calculate how many locations are in california and otherwise"
   ]
  },
  {
   "cell_type": "code",
   "execution_count": 33,
   "metadata": {},
   "outputs": [
    {
     "name": "stdout",
     "output_type": "stream",
     "text": [
      "<class 'pandas.core.frame.DataFrame'>\n"
     ]
    }
   ],
   "source": [
    "location_frame = df_copy.location.to_frame()\n",
    "print(type(df_copy))\n",
    "# for i in range(len(location_frame)):\n",
    "#     cali_count = 0\n",
    "#     other = 0\n",
    "#     if location_frame.str.contains(', california', na = False):\n",
    "#         cali_count += 1\n",
    "#     else:\n",
    "#         other += 1\n",
    "# print(cali_count)"
   ]
  },
  {
   "cell_type": "code",
   "execution_count": 34,
   "metadata": {},
   "outputs": [
    {
     "ename": "NameError",
     "evalue": "name 'location_data_total' is not defined",
     "output_type": "error",
     "traceback": [
      "\u001b[0;31m---------------------------------------------------------------------------\u001b[0m",
      "\u001b[0;31mNameError\u001b[0m                                 Traceback (most recent call last)",
      "\u001b[0;32m<ipython-input-34-7aa4243b7dcb>\u001b[0m in \u001b[0;36m<module>\u001b[0;34m\u001b[0m\n\u001b[0;32m----> 1\u001b[0;31m \u001b[0mprint\u001b[0m\u001b[0;34m(\u001b[0m\u001b[0mlocation_data_total\u001b[0m\u001b[0;34m)\u001b[0m\u001b[0;34m\u001b[0m\u001b[0;34m\u001b[0m\u001b[0m\n\u001b[0m",
      "\u001b[0;31mNameError\u001b[0m: name 'location_data_total' is not defined"
     ]
    }
   ],
   "source": [
    "print(location_data_total)"
   ]
  },
  {
   "cell_type": "code",
   "execution_count": 35,
   "metadata": {},
   "outputs": [
    {
     "name": "stdout",
     "output_type": "stream",
     "text": [
      "<pandas.core.groupby.generic.SeriesGroupBy object at 0x7ffb20b626d0>\n"
     ]
    }
   ],
   "source": [
    "location_labels = df_copy.groupby(['location'])['sex']\n",
    "print(location_labels)"
   ]
  },
  {
   "cell_type": "code",
   "execution_count": 36,
   "metadata": {},
   "outputs": [
    {
     "ename": "NameError",
     "evalue": "name 'location_data' is not defined",
     "output_type": "error",
     "traceback": [
      "\u001b[0;31m---------------------------------------------------------------------------\u001b[0m",
      "\u001b[0;31mNameError\u001b[0m                                 Traceback (most recent call last)",
      "\u001b[0;32m<ipython-input-36-0f40bb6dc3de>\u001b[0m in \u001b[0;36m<module>\u001b[0;34m\u001b[0m\n\u001b[0;32m----> 1\u001b[0;31m \u001b[0mplt\u001b[0m\u001b[0;34m.\u001b[0m\u001b[0mpie\u001b[0m\u001b[0;34m(\u001b[0m\u001b[0mlocation_data\u001b[0m\u001b[0;34m,\u001b[0m \u001b[0mautopct\u001b[0m \u001b[0;34m=\u001b[0m \u001b[0;34m'%d%%'\u001b[0m\u001b[0;34m)\u001b[0m\u001b[0;34m\u001b[0m\u001b[0;34m\u001b[0m\u001b[0m\n\u001b[0m\u001b[1;32m      2\u001b[0m \u001b[0mplt\u001b[0m\u001b[0;34m.\u001b[0m\u001b[0mlegend\u001b[0m\u001b[0;34m(\u001b[0m\u001b[0mlocation_data\u001b[0m\u001b[0;34m)\u001b[0m\u001b[0;34m\u001b[0m\u001b[0;34m\u001b[0m\u001b[0m\n\u001b[1;32m      3\u001b[0m \u001b[0mplt\u001b[0m\u001b[0;34m.\u001b[0m\u001b[0mshow\u001b[0m\u001b[0;34m(\u001b[0m\u001b[0;34m)\u001b[0m\u001b[0;34m\u001b[0m\u001b[0;34m\u001b[0m\u001b[0m\n",
      "\u001b[0;31mNameError\u001b[0m: name 'location_data' is not defined"
     ]
    }
   ],
   "source": [
    "plt.pie(location_data, autopct = '%d%%')\n",
    "plt.legend(location_data)\n",
    "plt.show()"
   ]
  },
  {
   "cell_type": "code",
   "execution_count": null,
   "metadata": {},
   "outputs": [],
   "source": []
  }
 ],
 "metadata": {
  "kernelspec": {
   "display_name": "Python 3",
   "language": "python",
   "name": "python3"
  },
  "language_info": {
   "codemirror_mode": {
    "name": "ipython",
    "version": 3
   },
   "file_extension": ".py",
   "mimetype": "text/x-python",
   "name": "python",
   "nbconvert_exporter": "python",
   "pygments_lexer": "ipython3",
   "version": "3.7.6"
  }
 },
 "nbformat": 4,
 "nbformat_minor": 4
}
